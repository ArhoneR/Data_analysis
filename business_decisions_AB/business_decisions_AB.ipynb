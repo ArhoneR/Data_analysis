{
  "cells": [
    {
      "cell_type": "markdown",
      "metadata": {
        "toc": true,
        "id": "TCAGv6lZyhs5"
      },
      "source": [
        "<h1>Содержание<span class=\"tocSkip\"></span></h1>\n",
        "<div class=\"toc\"><ul class=\"toc-item\"><li><span><a href=\"#Цель-проекта\" data-toc-modified-id=\"Цель-проекта-1\"><span class=\"toc-item-num\">1&nbsp;&nbsp;</span>Цель проекта</a></span></li><li><span><a href=\"#Описание-данных\" data-toc-modified-id=\"Описание-данных-2\"><span class=\"toc-item-num\">2&nbsp;&nbsp;</span>Описание данных</a></span></li><li><span><a href=\"#План-работы\" data-toc-modified-id=\"План-работы-3\"><span class=\"toc-item-num\">3&nbsp;&nbsp;</span>План работы</a></span><ul class=\"toc-item\"><li><span><a href=\"#Часть-1.-Приоретизация-гипотез\" data-toc-modified-id=\"Часть-1.-Приоретизация-гипотез-3.1\"><span class=\"toc-item-num\">3.1&nbsp;&nbsp;</span>Часть 1. Приоретизация гипотез</a></span></li><li><span><a href=\"#Часть-2.-Анализ-А/В-теста\" data-toc-modified-id=\"Часть-2.-Анализ-А/В-теста-3.2\"><span class=\"toc-item-num\">3.2&nbsp;&nbsp;</span>Часть 2. Анализ А/В-теста</a></span></li></ul></li><li><span><a href=\"#Выводы\" data-toc-modified-id=\"Выводы-4\"><span class=\"toc-item-num\">4&nbsp;&nbsp;</span>Выводы</a></span></li></ul></div>"
      ]
    },
    {
      "cell_type": "markdown",
      "metadata": {
        "id": "OA-ZJd4Eyhs8"
      },
      "source": [
        "# Принятие решений в бизнесе"
      ]
    },
    {
      "cell_type": "markdown",
      "metadata": {
        "id": "ZAvFD5R8yhs8"
      },
      "source": [
        "## Цель проекта"
      ]
    },
    {
      "cell_type": "markdown",
      "metadata": {
        "id": "1TCbcFSVyhs8"
      },
      "source": [
        "<div>\n",
        "\n",
        "* Для крупного интернет магазина нужно приоритизировать гипотезы из списка гипотез, предоставленных отделом Маркетинга.\n",
        "\n",
        "* Провести анализ результатов проведенного А/В-тестирования.\n",
        "\n",
        "</div>"
      ]
    },
    {
      "cell_type": "markdown",
      "metadata": {
        "id": "hS2nMH48yhs9"
      },
      "source": [
        "## Описание данных"
      ]
    },
    {
      "cell_type": "markdown",
      "metadata": {
        "id": "wxUuOroXyhs9"
      },
      "source": [
        "Файл со списком гипотез <code>hypothesis.csv</code>\n",
        "<div>\n",
        "\n",
        "* <code>Hypothesis</code> — краткое описание гипотезы;\n",
        "\n",
        "* <code>Reach</code> — охват пользователей по 10-балльной шкале;\n",
        "\n",
        "* <code>Impact</code> — влияние на пользователей по 10-балльной шкале;\n",
        "\n",
        "* <code>Confidence</code> — уверенность в гипотезе по 10-балльной шкале;\n",
        "    \n",
        "* <code>Efforts</code> — затраты ресурсов на проверку гипотезы по 10-балльной шкале. Чем больше значение Efforts, тем дороже проверка гипотезы.\n",
        "    \n",
        "</div>"
      ]
    },
    {
      "cell_type": "markdown",
      "metadata": {
        "id": "vTYR0BAjyhs9"
      },
      "source": [
        "Файл с информацией о заказах пользователей в интернет-магазине <code>orders.csv</code>\n",
        "<div>\n",
        "\n",
        "* <code>transactionId</code> — идентификатор заказа;\n",
        "\n",
        "* <code>visitorId</code> — идентификатор пользователя, совершившего заказ;\n",
        "\n",
        "* <code>date</code> — дата, когда был совершён заказ;\n",
        "\n",
        "* <code>revenue</code> — выручка заказа;\n",
        "    \n",
        "* <code>group</code> — группа A/B-теста, в которую попал заказ.\n",
        "    \n",
        "</div>"
      ]
    },
    {
      "cell_type": "markdown",
      "metadata": {
        "id": "Fa-Zzpn8yhs9"
      },
      "source": [
        "Файл с информацией о посещении пользователями интернет-магазина <code>visitors.csv</code>\n",
        "<div>\n",
        "\n",
        "* <code>date</code> — дата;\n",
        "\n",
        "* <code>group</code> — группа A/B-теста;\n",
        "\n",
        "* <code>visitors</code> — количество пользователей в указанную дату в указанной группе A/B-теста\n",
        "\n",
        "</div>"
      ]
    },
    {
      "cell_type": "markdown",
      "metadata": {
        "id": "WKTHpUb6yhs-"
      },
      "source": [
        "## План работы"
      ]
    },
    {
      "cell_type": "markdown",
      "metadata": {
        "id": "YzFboZ9syhs-"
      },
      "source": [
        "Исследование пройдет в два основных этапа:\n",
        "\n",
        "<div>\n",
        "\n",
        "* <b>Часть 1. Приоретизация гипотез</b>\n",
        "    * Примените фреймворк ICE для приоритизации гипотез. Отсортируйте их по убыванию приоритета.\n",
        "    * Примените фреймворк RICE для приоритизации гипотез. Отсортируйте их по убыванию приоритета.\n",
        "    * Укажите, как изменилась приоритизация гипотез при применении RICE вместо ICE. Объясните, почему так произошло.\n",
        "\n",
        "* <b>Часть 2. Проанализируйте А/В-тест</b>\n",
        "    * Постройте график кумулятивной выручки по группам. Сделайте выводы и предположения.\n",
        "    * Постройте график кумулятивного среднего чека по группам. Сделайте выводы и предположения.\n",
        "    * Постройте график относительного изменения кумулятивного среднего чека группы B к группе A. Сделайте выводы и предположения.\n",
        "    * Постройте график кумулятивного среднего количества заказов на посетителя по группам. Сделайте выводы и предположения.\n",
        "    * Постройте график относительного изменения кумулятивного среднего количества заказов на посетителя группы B к группе A. Сделайте выводы и предположения.\n",
        "    * Постройте точечный график количества заказов по пользователям. Сделайте выводы и предположения.\n",
        "    * Посчитайте 95-й и 99-й перцентили количества заказов на пользователя. Выберите границу для определения аномальных пользователей.\n",
        "    * Постройте точечный график стоимостей заказов. Сделайте выводы и предположения.\n",
        "    * Посчитайте 95-й и 99-й перцентили стоимости заказов. Выберите границу для определения аномальных заказов.\n",
        "    * Посчитайте статистическую значимость различий в среднем количестве заказов на посетителя между группами по «сырым» данным. Сделайте выводы и предположения.\n",
        "    * Посчитайте статистическую значимость различий в среднем чеке заказа между группами по «сырым» данным. Сделайте выводы и предположения.\n",
        "    * Посчитайте статистическую значимость различий в среднем количестве заказов на посетителя между группами по «очищенным» данным. Сделайте выводы и предположения.\n",
        "    * Посчитайте статистическую значимость различий в среднем чеке заказа между группами по «очищенным» данным. Сделайте выводы и предположения.\n",
        "    * Примите решение по результатам теста и объясните его. Варианты решений:\n",
        "        * 1. Остановить тест, зафиксировать победу одной из групп.\n",
        "        * 2. Остановить тест, зафиксировать отсутствие различий между группами.\n",
        "        * 3. Продолжить тест. \n",
        "\n",
        "\n",
        "\n",
        "    \n",
        "</div>"
      ]
    },
    {
      "cell_type": "markdown",
      "metadata": {
        "id": "mOdtpcwpyhs_"
      },
      "source": [
        "### Часть 1. Приоретизация гипотез"
      ]
    },
    {
      "cell_type": "code",
      "execution_count": 1,
      "metadata": {
        "id": "GcHB5yAHyhs_"
      },
      "outputs": [],
      "source": [
        "import pandas as pd\n",
        "import scipy.stats as stats\n",
        "import datetime as dt\n",
        "import numpy as np\n",
        "import matplotlib.pyplot as plt\n",
        "import os\n",
        "pd.options.display.max_colwidth = 150"
      ]
    },
    {
      "cell_type": "code",
      "execution_count": 2,
      "metadata": {
        "id": "Xweq3KhOyhtB"
      },
      "outputs": [],
      "source": [
        "pth1 = '/datasets/hypothesis.csv'\n",
        "pth2 = 'hypothesis.csv'\n",
        "\n",
        "if os.path.exists(pth1):\n",
        "    hypothesis = pd.read_csv(pth1)\n",
        "elif os.path.exists(pth2):\n",
        "    hypothesis = pd.read_csv(pth2)\n",
        "else:\n",
        "    print('Что-то пошло не так')"
      ]
    },
    {
      "cell_type": "code",
      "execution_count": 3,
      "metadata": {
        "scrolled": true,
        "colab": {
          "base_uri": "https://localhost:8080/",
          "height": 250
        },
        "id": "ZyX4jh9YyhtB",
        "outputId": "d6bb8138-a6c4-40cd-eec5-c7219a80ef8a"
      },
      "outputs": [
        {
          "output_type": "execute_result",
          "data": {
            "text/plain": [
              "                                                                                                     Hypothesis  \\\n",
              "0            Добавить два новых канала привлечения трафика, что позволит привлекать на 30% больше пользователей   \n",
              "1                                     Запустить собственную службу доставки, что сократит срок доставки заказов   \n",
              "2  Добавить блоки рекомендаций товаров на сайт интернет магазина, чтобы повысить конверсию и средний чек заказа   \n",
              "3           Изменить структура категорий, что увеличит конверсию, т.к. пользователи быстрее найдут нужный товар   \n",
              "4                              Изменить цвет фона главной страницы, чтобы увеличить вовлеченность пользователей   \n",
              "\n",
              "   Reach  Impact  Confidence  Efforts  \n",
              "0      3      10           8        6  \n",
              "1      2       5           4       10  \n",
              "2      8       3           7        3  \n",
              "3      8       3           3        8  \n",
              "4      3       1           1        1  "
            ],
            "text/html": [
              "\n",
              "  <div id=\"df-3f0a51f8-d869-47b5-bd55-786569140458\">\n",
              "    <div class=\"colab-df-container\">\n",
              "      <div>\n",
              "<style scoped>\n",
              "    .dataframe tbody tr th:only-of-type {\n",
              "        vertical-align: middle;\n",
              "    }\n",
              "\n",
              "    .dataframe tbody tr th {\n",
              "        vertical-align: top;\n",
              "    }\n",
              "\n",
              "    .dataframe thead th {\n",
              "        text-align: right;\n",
              "    }\n",
              "</style>\n",
              "<table border=\"1\" class=\"dataframe\">\n",
              "  <thead>\n",
              "    <tr style=\"text-align: right;\">\n",
              "      <th></th>\n",
              "      <th>Hypothesis</th>\n",
              "      <th>Reach</th>\n",
              "      <th>Impact</th>\n",
              "      <th>Confidence</th>\n",
              "      <th>Efforts</th>\n",
              "    </tr>\n",
              "  </thead>\n",
              "  <tbody>\n",
              "    <tr>\n",
              "      <th>0</th>\n",
              "      <td>Добавить два новых канала привлечения трафика, что позволит привлекать на 30% больше пользователей</td>\n",
              "      <td>3</td>\n",
              "      <td>10</td>\n",
              "      <td>8</td>\n",
              "      <td>6</td>\n",
              "    </tr>\n",
              "    <tr>\n",
              "      <th>1</th>\n",
              "      <td>Запустить собственную службу доставки, что сократит срок доставки заказов</td>\n",
              "      <td>2</td>\n",
              "      <td>5</td>\n",
              "      <td>4</td>\n",
              "      <td>10</td>\n",
              "    </tr>\n",
              "    <tr>\n",
              "      <th>2</th>\n",
              "      <td>Добавить блоки рекомендаций товаров на сайт интернет магазина, чтобы повысить конверсию и средний чек заказа</td>\n",
              "      <td>8</td>\n",
              "      <td>3</td>\n",
              "      <td>7</td>\n",
              "      <td>3</td>\n",
              "    </tr>\n",
              "    <tr>\n",
              "      <th>3</th>\n",
              "      <td>Изменить структура категорий, что увеличит конверсию, т.к. пользователи быстрее найдут нужный товар</td>\n",
              "      <td>8</td>\n",
              "      <td>3</td>\n",
              "      <td>3</td>\n",
              "      <td>8</td>\n",
              "    </tr>\n",
              "    <tr>\n",
              "      <th>4</th>\n",
              "      <td>Изменить цвет фона главной страницы, чтобы увеличить вовлеченность пользователей</td>\n",
              "      <td>3</td>\n",
              "      <td>1</td>\n",
              "      <td>1</td>\n",
              "      <td>1</td>\n",
              "    </tr>\n",
              "  </tbody>\n",
              "</table>\n",
              "</div>\n",
              "      <button class=\"colab-df-convert\" onclick=\"convertToInteractive('df-3f0a51f8-d869-47b5-bd55-786569140458')\"\n",
              "              title=\"Convert this dataframe to an interactive table.\"\n",
              "              style=\"display:none;\">\n",
              "        \n",
              "  <svg xmlns=\"http://www.w3.org/2000/svg\" height=\"24px\"viewBox=\"0 0 24 24\"\n",
              "       width=\"24px\">\n",
              "    <path d=\"M0 0h24v24H0V0z\" fill=\"none\"/>\n",
              "    <path d=\"M18.56 5.44l.94 2.06.94-2.06 2.06-.94-2.06-.94-.94-2.06-.94 2.06-2.06.94zm-11 1L8.5 8.5l.94-2.06 2.06-.94-2.06-.94L8.5 2.5l-.94 2.06-2.06.94zm10 10l.94 2.06.94-2.06 2.06-.94-2.06-.94-.94-2.06-.94 2.06-2.06.94z\"/><path d=\"M17.41 7.96l-1.37-1.37c-.4-.4-.92-.59-1.43-.59-.52 0-1.04.2-1.43.59L10.3 9.45l-7.72 7.72c-.78.78-.78 2.05 0 2.83L4 21.41c.39.39.9.59 1.41.59.51 0 1.02-.2 1.41-.59l7.78-7.78 2.81-2.81c.8-.78.8-2.07 0-2.86zM5.41 20L4 18.59l7.72-7.72 1.47 1.35L5.41 20z\"/>\n",
              "  </svg>\n",
              "      </button>\n",
              "      \n",
              "  <style>\n",
              "    .colab-df-container {\n",
              "      display:flex;\n",
              "      flex-wrap:wrap;\n",
              "      gap: 12px;\n",
              "    }\n",
              "\n",
              "    .colab-df-convert {\n",
              "      background-color: #E8F0FE;\n",
              "      border: none;\n",
              "      border-radius: 50%;\n",
              "      cursor: pointer;\n",
              "      display: none;\n",
              "      fill: #1967D2;\n",
              "      height: 32px;\n",
              "      padding: 0 0 0 0;\n",
              "      width: 32px;\n",
              "    }\n",
              "\n",
              "    .colab-df-convert:hover {\n",
              "      background-color: #E2EBFA;\n",
              "      box-shadow: 0px 1px 2px rgba(60, 64, 67, 0.3), 0px 1px 3px 1px rgba(60, 64, 67, 0.15);\n",
              "      fill: #174EA6;\n",
              "    }\n",
              "\n",
              "    [theme=dark] .colab-df-convert {\n",
              "      background-color: #3B4455;\n",
              "      fill: #D2E3FC;\n",
              "    }\n",
              "\n",
              "    [theme=dark] .colab-df-convert:hover {\n",
              "      background-color: #434B5C;\n",
              "      box-shadow: 0px 1px 3px 1px rgba(0, 0, 0, 0.15);\n",
              "      filter: drop-shadow(0px 1px 2px rgba(0, 0, 0, 0.3));\n",
              "      fill: #FFFFFF;\n",
              "    }\n",
              "  </style>\n",
              "\n",
              "      <script>\n",
              "        const buttonEl =\n",
              "          document.querySelector('#df-3f0a51f8-d869-47b5-bd55-786569140458 button.colab-df-convert');\n",
              "        buttonEl.style.display =\n",
              "          google.colab.kernel.accessAllowed ? 'block' : 'none';\n",
              "\n",
              "        async function convertToInteractive(key) {\n",
              "          const element = document.querySelector('#df-3f0a51f8-d869-47b5-bd55-786569140458');\n",
              "          const dataTable =\n",
              "            await google.colab.kernel.invokeFunction('convertToInteractive',\n",
              "                                                     [key], {});\n",
              "          if (!dataTable) return;\n",
              "\n",
              "          const docLinkHtml = 'Like what you see? Visit the ' +\n",
              "            '<a target=\"_blank\" href=https://colab.research.google.com/notebooks/data_table.ipynb>data table notebook</a>'\n",
              "            + ' to learn more about interactive tables.';\n",
              "          element.innerHTML = '';\n",
              "          dataTable['output_type'] = 'display_data';\n",
              "          await google.colab.output.renderOutput(dataTable, element);\n",
              "          const docLink = document.createElement('div');\n",
              "          docLink.innerHTML = docLinkHtml;\n",
              "          element.appendChild(docLink);\n",
              "        }\n",
              "      </script>\n",
              "    </div>\n",
              "  </div>\n",
              "  "
            ]
          },
          "metadata": {},
          "execution_count": 3
        }
      ],
      "source": [
        "hypothesis.head()"
      ]
    },
    {
      "cell_type": "markdown",
      "metadata": {
        "id": "VnFXahySyhtD"
      },
      "source": [
        "Применим фреймворк ICE для приоритизации гипотез. Отсортируем по убыванию приоритета"
      ]
    },
    {
      "cell_type": "code",
      "execution_count": 4,
      "metadata": {
        "colab": {
          "base_uri": "https://localhost:8080/",
          "height": 331
        },
        "id": "-YObOKkzyhtD",
        "outputId": "bdb04f79-fa38-4306-b919-66c7927c15db"
      },
      "outputs": [
        {
          "output_type": "execute_result",
          "data": {
            "text/plain": [
              "                                                                                                     Hypothesis  \\\n",
              "8                                                       Запустить акцию, дающую скидку на товар в день рождения   \n",
              "0            Добавить два новых канала привлечения трафика, что позволит привлекать на 30% больше пользователей   \n",
              "7              Добавить форму подписки на все основные страницы, чтобы собрать базу клиентов для email-рассылок   \n",
              "6          Показать на главной странице баннеры с актуальными акциями и распродажами, чтобы увеличить конверсию   \n",
              "2  Добавить блоки рекомендаций товаров на сайт интернет магазина, чтобы повысить конверсию и средний чек заказа   \n",
              "1                                     Запустить собственную службу доставки, что сократит срок доставки заказов   \n",
              "3           Изменить структура категорий, что увеличит конверсию, т.к. пользователи быстрее найдут нужный товар   \n",
              "4                              Изменить цвет фона главной страницы, чтобы увеличить вовлеченность пользователей   \n",
              "5                      Добавить страницу отзывов клиентов о магазине, что позволит увеличить количество заказов   \n",
              "\n",
              "    ICE  \n",
              "8  16.0  \n",
              "0  13.0  \n",
              "7  11.0  \n",
              "6   8.0  \n",
              "2   7.0  \n",
              "1   2.0  \n",
              "3   1.0  \n",
              "4   1.0  \n",
              "5   1.0  "
            ],
            "text/html": [
              "\n",
              "  <div id=\"df-fbc02d00-eda4-4adf-8a19-6eec853994cd\">\n",
              "    <div class=\"colab-df-container\">\n",
              "      <div>\n",
              "<style scoped>\n",
              "    .dataframe tbody tr th:only-of-type {\n",
              "        vertical-align: middle;\n",
              "    }\n",
              "\n",
              "    .dataframe tbody tr th {\n",
              "        vertical-align: top;\n",
              "    }\n",
              "\n",
              "    .dataframe thead th {\n",
              "        text-align: right;\n",
              "    }\n",
              "</style>\n",
              "<table border=\"1\" class=\"dataframe\">\n",
              "  <thead>\n",
              "    <tr style=\"text-align: right;\">\n",
              "      <th></th>\n",
              "      <th>Hypothesis</th>\n",
              "      <th>ICE</th>\n",
              "    </tr>\n",
              "  </thead>\n",
              "  <tbody>\n",
              "    <tr>\n",
              "      <th>8</th>\n",
              "      <td>Запустить акцию, дающую скидку на товар в день рождения</td>\n",
              "      <td>16.0</td>\n",
              "    </tr>\n",
              "    <tr>\n",
              "      <th>0</th>\n",
              "      <td>Добавить два новых канала привлечения трафика, что позволит привлекать на 30% больше пользователей</td>\n",
              "      <td>13.0</td>\n",
              "    </tr>\n",
              "    <tr>\n",
              "      <th>7</th>\n",
              "      <td>Добавить форму подписки на все основные страницы, чтобы собрать базу клиентов для email-рассылок</td>\n",
              "      <td>11.0</td>\n",
              "    </tr>\n",
              "    <tr>\n",
              "      <th>6</th>\n",
              "      <td>Показать на главной странице баннеры с актуальными акциями и распродажами, чтобы увеличить конверсию</td>\n",
              "      <td>8.0</td>\n",
              "    </tr>\n",
              "    <tr>\n",
              "      <th>2</th>\n",
              "      <td>Добавить блоки рекомендаций товаров на сайт интернет магазина, чтобы повысить конверсию и средний чек заказа</td>\n",
              "      <td>7.0</td>\n",
              "    </tr>\n",
              "    <tr>\n",
              "      <th>1</th>\n",
              "      <td>Запустить собственную службу доставки, что сократит срок доставки заказов</td>\n",
              "      <td>2.0</td>\n",
              "    </tr>\n",
              "    <tr>\n",
              "      <th>3</th>\n",
              "      <td>Изменить структура категорий, что увеличит конверсию, т.к. пользователи быстрее найдут нужный товар</td>\n",
              "      <td>1.0</td>\n",
              "    </tr>\n",
              "    <tr>\n",
              "      <th>4</th>\n",
              "      <td>Изменить цвет фона главной страницы, чтобы увеличить вовлеченность пользователей</td>\n",
              "      <td>1.0</td>\n",
              "    </tr>\n",
              "    <tr>\n",
              "      <th>5</th>\n",
              "      <td>Добавить страницу отзывов клиентов о магазине, что позволит увеличить количество заказов</td>\n",
              "      <td>1.0</td>\n",
              "    </tr>\n",
              "  </tbody>\n",
              "</table>\n",
              "</div>\n",
              "      <button class=\"colab-df-convert\" onclick=\"convertToInteractive('df-fbc02d00-eda4-4adf-8a19-6eec853994cd')\"\n",
              "              title=\"Convert this dataframe to an interactive table.\"\n",
              "              style=\"display:none;\">\n",
              "        \n",
              "  <svg xmlns=\"http://www.w3.org/2000/svg\" height=\"24px\"viewBox=\"0 0 24 24\"\n",
              "       width=\"24px\">\n",
              "    <path d=\"M0 0h24v24H0V0z\" fill=\"none\"/>\n",
              "    <path d=\"M18.56 5.44l.94 2.06.94-2.06 2.06-.94-2.06-.94-.94-2.06-.94 2.06-2.06.94zm-11 1L8.5 8.5l.94-2.06 2.06-.94-2.06-.94L8.5 2.5l-.94 2.06-2.06.94zm10 10l.94 2.06.94-2.06 2.06-.94-2.06-.94-.94-2.06-.94 2.06-2.06.94z\"/><path d=\"M17.41 7.96l-1.37-1.37c-.4-.4-.92-.59-1.43-.59-.52 0-1.04.2-1.43.59L10.3 9.45l-7.72 7.72c-.78.78-.78 2.05 0 2.83L4 21.41c.39.39.9.59 1.41.59.51 0 1.02-.2 1.41-.59l7.78-7.78 2.81-2.81c.8-.78.8-2.07 0-2.86zM5.41 20L4 18.59l7.72-7.72 1.47 1.35L5.41 20z\"/>\n",
              "  </svg>\n",
              "      </button>\n",
              "      \n",
              "  <style>\n",
              "    .colab-df-container {\n",
              "      display:flex;\n",
              "      flex-wrap:wrap;\n",
              "      gap: 12px;\n",
              "    }\n",
              "\n",
              "    .colab-df-convert {\n",
              "      background-color: #E8F0FE;\n",
              "      border: none;\n",
              "      border-radius: 50%;\n",
              "      cursor: pointer;\n",
              "      display: none;\n",
              "      fill: #1967D2;\n",
              "      height: 32px;\n",
              "      padding: 0 0 0 0;\n",
              "      width: 32px;\n",
              "    }\n",
              "\n",
              "    .colab-df-convert:hover {\n",
              "      background-color: #E2EBFA;\n",
              "      box-shadow: 0px 1px 2px rgba(60, 64, 67, 0.3), 0px 1px 3px 1px rgba(60, 64, 67, 0.15);\n",
              "      fill: #174EA6;\n",
              "    }\n",
              "\n",
              "    [theme=dark] .colab-df-convert {\n",
              "      background-color: #3B4455;\n",
              "      fill: #D2E3FC;\n",
              "    }\n",
              "\n",
              "    [theme=dark] .colab-df-convert:hover {\n",
              "      background-color: #434B5C;\n",
              "      box-shadow: 0px 1px 3px 1px rgba(0, 0, 0, 0.15);\n",
              "      filter: drop-shadow(0px 1px 2px rgba(0, 0, 0, 0.3));\n",
              "      fill: #FFFFFF;\n",
              "    }\n",
              "  </style>\n",
              "\n",
              "      <script>\n",
              "        const buttonEl =\n",
              "          document.querySelector('#df-fbc02d00-eda4-4adf-8a19-6eec853994cd button.colab-df-convert');\n",
              "        buttonEl.style.display =\n",
              "          google.colab.kernel.accessAllowed ? 'block' : 'none';\n",
              "\n",
              "        async function convertToInteractive(key) {\n",
              "          const element = document.querySelector('#df-fbc02d00-eda4-4adf-8a19-6eec853994cd');\n",
              "          const dataTable =\n",
              "            await google.colab.kernel.invokeFunction('convertToInteractive',\n",
              "                                                     [key], {});\n",
              "          if (!dataTable) return;\n",
              "\n",
              "          const docLinkHtml = 'Like what you see? Visit the ' +\n",
              "            '<a target=\"_blank\" href=https://colab.research.google.com/notebooks/data_table.ipynb>data table notebook</a>'\n",
              "            + ' to learn more about interactive tables.';\n",
              "          element.innerHTML = '';\n",
              "          dataTable['output_type'] = 'display_data';\n",
              "          await google.colab.output.renderOutput(dataTable, element);\n",
              "          const docLink = document.createElement('div');\n",
              "          docLink.innerHTML = docLinkHtml;\n",
              "          element.appendChild(docLink);\n",
              "        }\n",
              "      </script>\n",
              "    </div>\n",
              "  </div>\n",
              "  "
            ]
          },
          "metadata": {},
          "execution_count": 4
        }
      ],
      "source": [
        "hypothesis['ICE'] = round((hypothesis['Impact'] * hypothesis['Confidence']) / hypothesis['Efforts'])\n",
        "hypothesis[['Hypothesis', 'ICE']].sort_values(by='ICE', ascending=False)"
      ]
    },
    {
      "cell_type": "code",
      "execution_count": 5,
      "metadata": {
        "colab": {
          "base_uri": "https://localhost:8080/",
          "height": 36
        },
        "id": "0G8jeUTKyhtE",
        "outputId": "a83c59fc-414b-47a6-9ece-a132ca49b8df"
      },
      "outputs": [
        {
          "output_type": "execute_result",
          "data": {
            "text/plain": [
              "'Запустить акцию, дающую скидку на товар в день рождения'"
            ],
            "application/vnd.google.colaboratory.intrinsic+json": {
              "type": "string"
            }
          },
          "metadata": {},
          "execution_count": 5
        }
      ],
      "source": [
        "hypothesis.loc[8,'Hypothesis']"
      ]
    },
    {
      "cell_type": "markdown",
      "metadata": {
        "id": "ADVafft1yhtE"
      },
      "source": [
        "По фреймворку ICE у нас на первом месте гипотеза 8 - 'Запустить акцию, дающую скидку на товар в день рождения'. "
      ]
    },
    {
      "cell_type": "markdown",
      "metadata": {
        "id": "agKzSYn0yhtE"
      },
      "source": [
        "Применим фреймворк RICE для приоритизации гипотез. Отсортируем по убыванию приоритета"
      ]
    },
    {
      "cell_type": "code",
      "execution_count": 6,
      "metadata": {
        "colab": {
          "base_uri": "https://localhost:8080/",
          "height": 331
        },
        "id": "Lj-cV60uyhtE",
        "outputId": "18b91fff-93e0-4ab3-d7b0-91a7c594a8dc"
      },
      "outputs": [
        {
          "output_type": "execute_result",
          "data": {
            "text/plain": [
              "                                                                                                     Hypothesis  \\\n",
              "7              Добавить форму подписки на все основные страницы, чтобы собрать базу клиентов для email-рассылок   \n",
              "2  Добавить блоки рекомендаций товаров на сайт интернет магазина, чтобы повысить конверсию и средний чек заказа   \n",
              "0            Добавить два новых канала привлечения трафика, что позволит привлекать на 30% больше пользователей   \n",
              "6          Показать на главной странице баннеры с актуальными акциями и распродажами, чтобы увеличить конверсию   \n",
              "8                                                       Запустить акцию, дающую скидку на товар в день рождения   \n",
              "3           Изменить структура категорий, что увеличит конверсию, т.к. пользователи быстрее найдут нужный товар   \n",
              "1                                     Запустить собственную службу доставки, что сократит срок доставки заказов   \n",
              "5                      Добавить страницу отзывов клиентов о магазине, что позволит увеличить количество заказов   \n",
              "4                              Изменить цвет фона главной страницы, чтобы увеличить вовлеченность пользователей   \n",
              "\n",
              "    RICE  \n",
              "7  112.0  \n",
              "2   56.0  \n",
              "0   40.0  \n",
              "6   40.0  \n",
              "8   16.2  \n",
              "3    9.0  \n",
              "1    4.0  \n",
              "5    4.0  \n",
              "4    3.0  "
            ],
            "text/html": [
              "\n",
              "  <div id=\"df-2f604121-09e9-4bde-86da-16a1f0426b33\">\n",
              "    <div class=\"colab-df-container\">\n",
              "      <div>\n",
              "<style scoped>\n",
              "    .dataframe tbody tr th:only-of-type {\n",
              "        vertical-align: middle;\n",
              "    }\n",
              "\n",
              "    .dataframe tbody tr th {\n",
              "        vertical-align: top;\n",
              "    }\n",
              "\n",
              "    .dataframe thead th {\n",
              "        text-align: right;\n",
              "    }\n",
              "</style>\n",
              "<table border=\"1\" class=\"dataframe\">\n",
              "  <thead>\n",
              "    <tr style=\"text-align: right;\">\n",
              "      <th></th>\n",
              "      <th>Hypothesis</th>\n",
              "      <th>RICE</th>\n",
              "    </tr>\n",
              "  </thead>\n",
              "  <tbody>\n",
              "    <tr>\n",
              "      <th>7</th>\n",
              "      <td>Добавить форму подписки на все основные страницы, чтобы собрать базу клиентов для email-рассылок</td>\n",
              "      <td>112.0</td>\n",
              "    </tr>\n",
              "    <tr>\n",
              "      <th>2</th>\n",
              "      <td>Добавить блоки рекомендаций товаров на сайт интернет магазина, чтобы повысить конверсию и средний чек заказа</td>\n",
              "      <td>56.0</td>\n",
              "    </tr>\n",
              "    <tr>\n",
              "      <th>0</th>\n",
              "      <td>Добавить два новых канала привлечения трафика, что позволит привлекать на 30% больше пользователей</td>\n",
              "      <td>40.0</td>\n",
              "    </tr>\n",
              "    <tr>\n",
              "      <th>6</th>\n",
              "      <td>Показать на главной странице баннеры с актуальными акциями и распродажами, чтобы увеличить конверсию</td>\n",
              "      <td>40.0</td>\n",
              "    </tr>\n",
              "    <tr>\n",
              "      <th>8</th>\n",
              "      <td>Запустить акцию, дающую скидку на товар в день рождения</td>\n",
              "      <td>16.2</td>\n",
              "    </tr>\n",
              "    <tr>\n",
              "      <th>3</th>\n",
              "      <td>Изменить структура категорий, что увеличит конверсию, т.к. пользователи быстрее найдут нужный товар</td>\n",
              "      <td>9.0</td>\n",
              "    </tr>\n",
              "    <tr>\n",
              "      <th>1</th>\n",
              "      <td>Запустить собственную службу доставки, что сократит срок доставки заказов</td>\n",
              "      <td>4.0</td>\n",
              "    </tr>\n",
              "    <tr>\n",
              "      <th>5</th>\n",
              "      <td>Добавить страницу отзывов клиентов о магазине, что позволит увеличить количество заказов</td>\n",
              "      <td>4.0</td>\n",
              "    </tr>\n",
              "    <tr>\n",
              "      <th>4</th>\n",
              "      <td>Изменить цвет фона главной страницы, чтобы увеличить вовлеченность пользователей</td>\n",
              "      <td>3.0</td>\n",
              "    </tr>\n",
              "  </tbody>\n",
              "</table>\n",
              "</div>\n",
              "      <button class=\"colab-df-convert\" onclick=\"convertToInteractive('df-2f604121-09e9-4bde-86da-16a1f0426b33')\"\n",
              "              title=\"Convert this dataframe to an interactive table.\"\n",
              "              style=\"display:none;\">\n",
              "        \n",
              "  <svg xmlns=\"http://www.w3.org/2000/svg\" height=\"24px\"viewBox=\"0 0 24 24\"\n",
              "       width=\"24px\">\n",
              "    <path d=\"M0 0h24v24H0V0z\" fill=\"none\"/>\n",
              "    <path d=\"M18.56 5.44l.94 2.06.94-2.06 2.06-.94-2.06-.94-.94-2.06-.94 2.06-2.06.94zm-11 1L8.5 8.5l.94-2.06 2.06-.94-2.06-.94L8.5 2.5l-.94 2.06-2.06.94zm10 10l.94 2.06.94-2.06 2.06-.94-2.06-.94-.94-2.06-.94 2.06-2.06.94z\"/><path d=\"M17.41 7.96l-1.37-1.37c-.4-.4-.92-.59-1.43-.59-.52 0-1.04.2-1.43.59L10.3 9.45l-7.72 7.72c-.78.78-.78 2.05 0 2.83L4 21.41c.39.39.9.59 1.41.59.51 0 1.02-.2 1.41-.59l7.78-7.78 2.81-2.81c.8-.78.8-2.07 0-2.86zM5.41 20L4 18.59l7.72-7.72 1.47 1.35L5.41 20z\"/>\n",
              "  </svg>\n",
              "      </button>\n",
              "      \n",
              "  <style>\n",
              "    .colab-df-container {\n",
              "      display:flex;\n",
              "      flex-wrap:wrap;\n",
              "      gap: 12px;\n",
              "    }\n",
              "\n",
              "    .colab-df-convert {\n",
              "      background-color: #E8F0FE;\n",
              "      border: none;\n",
              "      border-radius: 50%;\n",
              "      cursor: pointer;\n",
              "      display: none;\n",
              "      fill: #1967D2;\n",
              "      height: 32px;\n",
              "      padding: 0 0 0 0;\n",
              "      width: 32px;\n",
              "    }\n",
              "\n",
              "    .colab-df-convert:hover {\n",
              "      background-color: #E2EBFA;\n",
              "      box-shadow: 0px 1px 2px rgba(60, 64, 67, 0.3), 0px 1px 3px 1px rgba(60, 64, 67, 0.15);\n",
              "      fill: #174EA6;\n",
              "    }\n",
              "\n",
              "    [theme=dark] .colab-df-convert {\n",
              "      background-color: #3B4455;\n",
              "      fill: #D2E3FC;\n",
              "    }\n",
              "\n",
              "    [theme=dark] .colab-df-convert:hover {\n",
              "      background-color: #434B5C;\n",
              "      box-shadow: 0px 1px 3px 1px rgba(0, 0, 0, 0.15);\n",
              "      filter: drop-shadow(0px 1px 2px rgba(0, 0, 0, 0.3));\n",
              "      fill: #FFFFFF;\n",
              "    }\n",
              "  </style>\n",
              "\n",
              "      <script>\n",
              "        const buttonEl =\n",
              "          document.querySelector('#df-2f604121-09e9-4bde-86da-16a1f0426b33 button.colab-df-convert');\n",
              "        buttonEl.style.display =\n",
              "          google.colab.kernel.accessAllowed ? 'block' : 'none';\n",
              "\n",
              "        async function convertToInteractive(key) {\n",
              "          const element = document.querySelector('#df-2f604121-09e9-4bde-86da-16a1f0426b33');\n",
              "          const dataTable =\n",
              "            await google.colab.kernel.invokeFunction('convertToInteractive',\n",
              "                                                     [key], {});\n",
              "          if (!dataTable) return;\n",
              "\n",
              "          const docLinkHtml = 'Like what you see? Visit the ' +\n",
              "            '<a target=\"_blank\" href=https://colab.research.google.com/notebooks/data_table.ipynb>data table notebook</a>'\n",
              "            + ' to learn more about interactive tables.';\n",
              "          element.innerHTML = '';\n",
              "          dataTable['output_type'] = 'display_data';\n",
              "          await google.colab.output.renderOutput(dataTable, element);\n",
              "          const docLink = document.createElement('div');\n",
              "          docLink.innerHTML = docLinkHtml;\n",
              "          element.appendChild(docLink);\n",
              "        }\n",
              "      </script>\n",
              "    </div>\n",
              "  </div>\n",
              "  "
            ]
          },
          "metadata": {},
          "execution_count": 6
        }
      ],
      "source": [
        "hypothesis['RICE'] = (hypothesis['Reach'] * hypothesis['Impact'] * hypothesis['Confidence']) / hypothesis['Efforts']\n",
        "hypothesis[['Hypothesis', 'RICE']].sort_values(by='RICE', ascending=False)"
      ]
    },
    {
      "cell_type": "code",
      "execution_count": 7,
      "metadata": {
        "colab": {
          "base_uri": "https://localhost:8080/",
          "height": 36
        },
        "id": "auVd38wuyhtF",
        "outputId": "04b0567a-b75b-40d6-f9eb-906ad04f064e"
      },
      "outputs": [
        {
          "output_type": "execute_result",
          "data": {
            "text/plain": [
              "'Добавить форму подписки на все основные страницы, чтобы собрать базу клиентов для email-рассылок'"
            ],
            "application/vnd.google.colaboratory.intrinsic+json": {
              "type": "string"
            }
          },
          "metadata": {},
          "execution_count": 7
        }
      ],
      "source": [
        "hypothesis.loc[7, 'Hypothesis']"
      ]
    },
    {
      "cell_type": "markdown",
      "metadata": {
        "id": "Jp8LXjZKyhtF"
      },
      "source": [
        "По фреймворку RICE у нас на первом месте гипотеза 7 - 'Добавить форму подписки на все основные страницы, чтобы собрать базу клиентов для email-рассылок'. "
      ]
    },
    {
      "cell_type": "code",
      "execution_count": 8,
      "metadata": {
        "colab": {
          "base_uri": "https://localhost:8080/",
          "height": 331
        },
        "id": "n6NpLsz8yhtL",
        "outputId": "d757e0a2-3474-4b7e-9412-e5df025a739d"
      },
      "outputs": [
        {
          "output_type": "execute_result",
          "data": {
            "text/plain": [
              "                                                                                                     Hypothesis  \\\n",
              "7              Добавить форму подписки на все основные страницы, чтобы собрать базу клиентов для email-рассылок   \n",
              "2  Добавить блоки рекомендаций товаров на сайт интернет магазина, чтобы повысить конверсию и средний чек заказа   \n",
              "0            Добавить два новых канала привлечения трафика, что позволит привлекать на 30% больше пользователей   \n",
              "6          Показать на главной странице баннеры с актуальными акциями и распродажами, чтобы увеличить конверсию   \n",
              "8                                                       Запустить акцию, дающую скидку на товар в день рождения   \n",
              "3           Изменить структура категорий, что увеличит конверсию, т.к. пользователи быстрее найдут нужный товар   \n",
              "1                                     Запустить собственную службу доставки, что сократит срок доставки заказов   \n",
              "5                      Добавить страницу отзывов клиентов о магазине, что позволит увеличить количество заказов   \n",
              "4                              Изменить цвет фона главной страницы, чтобы увеличить вовлеченность пользователей   \n",
              "\n",
              "    ICE   RICE  \n",
              "7  11.0  112.0  \n",
              "2   7.0   56.0  \n",
              "0  13.0   40.0  \n",
              "6   8.0   40.0  \n",
              "8  16.0   16.2  \n",
              "3   1.0    9.0  \n",
              "1   2.0    4.0  \n",
              "5   1.0    4.0  \n",
              "4   1.0    3.0  "
            ],
            "text/html": [
              "\n",
              "  <div id=\"df-c18967aa-da5b-4683-9a3b-51176dbba255\">\n",
              "    <div class=\"colab-df-container\">\n",
              "      <div>\n",
              "<style scoped>\n",
              "    .dataframe tbody tr th:only-of-type {\n",
              "        vertical-align: middle;\n",
              "    }\n",
              "\n",
              "    .dataframe tbody tr th {\n",
              "        vertical-align: top;\n",
              "    }\n",
              "\n",
              "    .dataframe thead th {\n",
              "        text-align: right;\n",
              "    }\n",
              "</style>\n",
              "<table border=\"1\" class=\"dataframe\">\n",
              "  <thead>\n",
              "    <tr style=\"text-align: right;\">\n",
              "      <th></th>\n",
              "      <th>Hypothesis</th>\n",
              "      <th>ICE</th>\n",
              "      <th>RICE</th>\n",
              "    </tr>\n",
              "  </thead>\n",
              "  <tbody>\n",
              "    <tr>\n",
              "      <th>7</th>\n",
              "      <td>Добавить форму подписки на все основные страницы, чтобы собрать базу клиентов для email-рассылок</td>\n",
              "      <td>11.0</td>\n",
              "      <td>112.0</td>\n",
              "    </tr>\n",
              "    <tr>\n",
              "      <th>2</th>\n",
              "      <td>Добавить блоки рекомендаций товаров на сайт интернет магазина, чтобы повысить конверсию и средний чек заказа</td>\n",
              "      <td>7.0</td>\n",
              "      <td>56.0</td>\n",
              "    </tr>\n",
              "    <tr>\n",
              "      <th>0</th>\n",
              "      <td>Добавить два новых канала привлечения трафика, что позволит привлекать на 30% больше пользователей</td>\n",
              "      <td>13.0</td>\n",
              "      <td>40.0</td>\n",
              "    </tr>\n",
              "    <tr>\n",
              "      <th>6</th>\n",
              "      <td>Показать на главной странице баннеры с актуальными акциями и распродажами, чтобы увеличить конверсию</td>\n",
              "      <td>8.0</td>\n",
              "      <td>40.0</td>\n",
              "    </tr>\n",
              "    <tr>\n",
              "      <th>8</th>\n",
              "      <td>Запустить акцию, дающую скидку на товар в день рождения</td>\n",
              "      <td>16.0</td>\n",
              "      <td>16.2</td>\n",
              "    </tr>\n",
              "    <tr>\n",
              "      <th>3</th>\n",
              "      <td>Изменить структура категорий, что увеличит конверсию, т.к. пользователи быстрее найдут нужный товар</td>\n",
              "      <td>1.0</td>\n",
              "      <td>9.0</td>\n",
              "    </tr>\n",
              "    <tr>\n",
              "      <th>1</th>\n",
              "      <td>Запустить собственную службу доставки, что сократит срок доставки заказов</td>\n",
              "      <td>2.0</td>\n",
              "      <td>4.0</td>\n",
              "    </tr>\n",
              "    <tr>\n",
              "      <th>5</th>\n",
              "      <td>Добавить страницу отзывов клиентов о магазине, что позволит увеличить количество заказов</td>\n",
              "      <td>1.0</td>\n",
              "      <td>4.0</td>\n",
              "    </tr>\n",
              "    <tr>\n",
              "      <th>4</th>\n",
              "      <td>Изменить цвет фона главной страницы, чтобы увеличить вовлеченность пользователей</td>\n",
              "      <td>1.0</td>\n",
              "      <td>3.0</td>\n",
              "    </tr>\n",
              "  </tbody>\n",
              "</table>\n",
              "</div>\n",
              "      <button class=\"colab-df-convert\" onclick=\"convertToInteractive('df-c18967aa-da5b-4683-9a3b-51176dbba255')\"\n",
              "              title=\"Convert this dataframe to an interactive table.\"\n",
              "              style=\"display:none;\">\n",
              "        \n",
              "  <svg xmlns=\"http://www.w3.org/2000/svg\" height=\"24px\"viewBox=\"0 0 24 24\"\n",
              "       width=\"24px\">\n",
              "    <path d=\"M0 0h24v24H0V0z\" fill=\"none\"/>\n",
              "    <path d=\"M18.56 5.44l.94 2.06.94-2.06 2.06-.94-2.06-.94-.94-2.06-.94 2.06-2.06.94zm-11 1L8.5 8.5l.94-2.06 2.06-.94-2.06-.94L8.5 2.5l-.94 2.06-2.06.94zm10 10l.94 2.06.94-2.06 2.06-.94-2.06-.94-.94-2.06-.94 2.06-2.06.94z\"/><path d=\"M17.41 7.96l-1.37-1.37c-.4-.4-.92-.59-1.43-.59-.52 0-1.04.2-1.43.59L10.3 9.45l-7.72 7.72c-.78.78-.78 2.05 0 2.83L4 21.41c.39.39.9.59 1.41.59.51 0 1.02-.2 1.41-.59l7.78-7.78 2.81-2.81c.8-.78.8-2.07 0-2.86zM5.41 20L4 18.59l7.72-7.72 1.47 1.35L5.41 20z\"/>\n",
              "  </svg>\n",
              "      </button>\n",
              "      \n",
              "  <style>\n",
              "    .colab-df-container {\n",
              "      display:flex;\n",
              "      flex-wrap:wrap;\n",
              "      gap: 12px;\n",
              "    }\n",
              "\n",
              "    .colab-df-convert {\n",
              "      background-color: #E8F0FE;\n",
              "      border: none;\n",
              "      border-radius: 50%;\n",
              "      cursor: pointer;\n",
              "      display: none;\n",
              "      fill: #1967D2;\n",
              "      height: 32px;\n",
              "      padding: 0 0 0 0;\n",
              "      width: 32px;\n",
              "    }\n",
              "\n",
              "    .colab-df-convert:hover {\n",
              "      background-color: #E2EBFA;\n",
              "      box-shadow: 0px 1px 2px rgba(60, 64, 67, 0.3), 0px 1px 3px 1px rgba(60, 64, 67, 0.15);\n",
              "      fill: #174EA6;\n",
              "    }\n",
              "\n",
              "    [theme=dark] .colab-df-convert {\n",
              "      background-color: #3B4455;\n",
              "      fill: #D2E3FC;\n",
              "    }\n",
              "\n",
              "    [theme=dark] .colab-df-convert:hover {\n",
              "      background-color: #434B5C;\n",
              "      box-shadow: 0px 1px 3px 1px rgba(0, 0, 0, 0.15);\n",
              "      filter: drop-shadow(0px 1px 2px rgba(0, 0, 0, 0.3));\n",
              "      fill: #FFFFFF;\n",
              "    }\n",
              "  </style>\n",
              "\n",
              "      <script>\n",
              "        const buttonEl =\n",
              "          document.querySelector('#df-c18967aa-da5b-4683-9a3b-51176dbba255 button.colab-df-convert');\n",
              "        buttonEl.style.display =\n",
              "          google.colab.kernel.accessAllowed ? 'block' : 'none';\n",
              "\n",
              "        async function convertToInteractive(key) {\n",
              "          const element = document.querySelector('#df-c18967aa-da5b-4683-9a3b-51176dbba255');\n",
              "          const dataTable =\n",
              "            await google.colab.kernel.invokeFunction('convertToInteractive',\n",
              "                                                     [key], {});\n",
              "          if (!dataTable) return;\n",
              "\n",
              "          const docLinkHtml = 'Like what you see? Visit the ' +\n",
              "            '<a target=\"_blank\" href=https://colab.research.google.com/notebooks/data_table.ipynb>data table notebook</a>'\n",
              "            + ' to learn more about interactive tables.';\n",
              "          element.innerHTML = '';\n",
              "          dataTable['output_type'] = 'display_data';\n",
              "          await google.colab.output.renderOutput(dataTable, element);\n",
              "          const docLink = document.createElement('div');\n",
              "          docLink.innerHTML = docLinkHtml;\n",
              "          element.appendChild(docLink);\n",
              "        }\n",
              "      </script>\n",
              "    </div>\n",
              "  </div>\n",
              "  "
            ]
          },
          "metadata": {},
          "execution_count": 8
        }
      ],
      "source": [
        "hypothesis[['Hypothesis', 'ICE', 'RICE']].sort_values(by='RICE', ascending=False)"
      ]
    },
    {
      "cell_type": "markdown",
      "metadata": {
        "id": "_gRj-6ZryhtM"
      },
      "source": [
        "Приоретизация гипотез при спользовании фрейморка RICE изменилась, так как помимо трех компонентов из ICE (Impact — насколько сильно изменение повлияет на пользователей, их опыт и удовлетворение от продукта;\n",
        "Confidence — насколько мы уверены, что это изменение повлияет на пользователей именно так; \n",
        "Efforts — сколько стоит протестировать эту гипотезу), у нас добавился четвертый компонент Reach — скольких пользователей затронет изменение, которое мы хотите внести."
      ]
    },
    {
      "cell_type": "markdown",
      "metadata": {
        "id": "jjRIaGtRyhtM"
      },
      "source": [
        "### Часть 2. Анализ А/В-теста"
      ]
    },
    {
      "cell_type": "markdown",
      "metadata": {
        "id": "_upKpj2KyhtM"
      },
      "source": [
        "Прочтём данные из файлов с результатами A/B-тестирования: \n"
      ]
    },
    {
      "cell_type": "code",
      "execution_count": 9,
      "metadata": {
        "id": "Q8j0ku8-yhtM"
      },
      "outputs": [],
      "source": [
        "pth1 = '/datasets/orders.csv'\n",
        "pth2 = 'orders.csv'\n",
        "\n",
        "if os.path.exists(pth1):\n",
        "    orders = pd.read_csv(pth1, sep=',')\n",
        "elif os.path.exists(pth2):\n",
        "    orders = pd.read_csv(pth2, sep=',')\n",
        "else:\n",
        "    print('Что-то пошло не так')"
      ]
    },
    {
      "cell_type": "code",
      "execution_count": 10,
      "metadata": {
        "colab": {
          "base_uri": "https://localhost:8080/",
          "height": 206
        },
        "id": "ozcthIN-yhtM",
        "outputId": "c72348f2-e755-471f-efdf-177b36f9908b"
      },
      "outputs": [
        {
          "output_type": "execute_result",
          "data": {
            "text/plain": [
              "   transactionId   visitorId       date  revenue group\n",
              "0     3667963787  3312258926 2019-08-15     1650     B\n",
              "1     2804400009  3642806036 2019-08-15      730     B\n",
              "2     2961555356  4069496402 2019-08-15      400     A\n",
              "3     3797467345  1196621759 2019-08-15     9759     B\n",
              "4     2282983706  2322279887 2019-08-15     2308     B"
            ],
            "text/html": [
              "\n",
              "  <div id=\"df-a4fc628a-a1b0-498a-a7a5-4d8ccbebf40b\">\n",
              "    <div class=\"colab-df-container\">\n",
              "      <div>\n",
              "<style scoped>\n",
              "    .dataframe tbody tr th:only-of-type {\n",
              "        vertical-align: middle;\n",
              "    }\n",
              "\n",
              "    .dataframe tbody tr th {\n",
              "        vertical-align: top;\n",
              "    }\n",
              "\n",
              "    .dataframe thead th {\n",
              "        text-align: right;\n",
              "    }\n",
              "</style>\n",
              "<table border=\"1\" class=\"dataframe\">\n",
              "  <thead>\n",
              "    <tr style=\"text-align: right;\">\n",
              "      <th></th>\n",
              "      <th>transactionId</th>\n",
              "      <th>visitorId</th>\n",
              "      <th>date</th>\n",
              "      <th>revenue</th>\n",
              "      <th>group</th>\n",
              "    </tr>\n",
              "  </thead>\n",
              "  <tbody>\n",
              "    <tr>\n",
              "      <th>0</th>\n",
              "      <td>3667963787</td>\n",
              "      <td>3312258926</td>\n",
              "      <td>2019-08-15</td>\n",
              "      <td>1650</td>\n",
              "      <td>B</td>\n",
              "    </tr>\n",
              "    <tr>\n",
              "      <th>1</th>\n",
              "      <td>2804400009</td>\n",
              "      <td>3642806036</td>\n",
              "      <td>2019-08-15</td>\n",
              "      <td>730</td>\n",
              "      <td>B</td>\n",
              "    </tr>\n",
              "    <tr>\n",
              "      <th>2</th>\n",
              "      <td>2961555356</td>\n",
              "      <td>4069496402</td>\n",
              "      <td>2019-08-15</td>\n",
              "      <td>400</td>\n",
              "      <td>A</td>\n",
              "    </tr>\n",
              "    <tr>\n",
              "      <th>3</th>\n",
              "      <td>3797467345</td>\n",
              "      <td>1196621759</td>\n",
              "      <td>2019-08-15</td>\n",
              "      <td>9759</td>\n",
              "      <td>B</td>\n",
              "    </tr>\n",
              "    <tr>\n",
              "      <th>4</th>\n",
              "      <td>2282983706</td>\n",
              "      <td>2322279887</td>\n",
              "      <td>2019-08-15</td>\n",
              "      <td>2308</td>\n",
              "      <td>B</td>\n",
              "    </tr>\n",
              "  </tbody>\n",
              "</table>\n",
              "</div>\n",
              "      <button class=\"colab-df-convert\" onclick=\"convertToInteractive('df-a4fc628a-a1b0-498a-a7a5-4d8ccbebf40b')\"\n",
              "              title=\"Convert this dataframe to an interactive table.\"\n",
              "              style=\"display:none;\">\n",
              "        \n",
              "  <svg xmlns=\"http://www.w3.org/2000/svg\" height=\"24px\"viewBox=\"0 0 24 24\"\n",
              "       width=\"24px\">\n",
              "    <path d=\"M0 0h24v24H0V0z\" fill=\"none\"/>\n",
              "    <path d=\"M18.56 5.44l.94 2.06.94-2.06 2.06-.94-2.06-.94-.94-2.06-.94 2.06-2.06.94zm-11 1L8.5 8.5l.94-2.06 2.06-.94-2.06-.94L8.5 2.5l-.94 2.06-2.06.94zm10 10l.94 2.06.94-2.06 2.06-.94-2.06-.94-.94-2.06-.94 2.06-2.06.94z\"/><path d=\"M17.41 7.96l-1.37-1.37c-.4-.4-.92-.59-1.43-.59-.52 0-1.04.2-1.43.59L10.3 9.45l-7.72 7.72c-.78.78-.78 2.05 0 2.83L4 21.41c.39.39.9.59 1.41.59.51 0 1.02-.2 1.41-.59l7.78-7.78 2.81-2.81c.8-.78.8-2.07 0-2.86zM5.41 20L4 18.59l7.72-7.72 1.47 1.35L5.41 20z\"/>\n",
              "  </svg>\n",
              "      </button>\n",
              "      \n",
              "  <style>\n",
              "    .colab-df-container {\n",
              "      display:flex;\n",
              "      flex-wrap:wrap;\n",
              "      gap: 12px;\n",
              "    }\n",
              "\n",
              "    .colab-df-convert {\n",
              "      background-color: #E8F0FE;\n",
              "      border: none;\n",
              "      border-radius: 50%;\n",
              "      cursor: pointer;\n",
              "      display: none;\n",
              "      fill: #1967D2;\n",
              "      height: 32px;\n",
              "      padding: 0 0 0 0;\n",
              "      width: 32px;\n",
              "    }\n",
              "\n",
              "    .colab-df-convert:hover {\n",
              "      background-color: #E2EBFA;\n",
              "      box-shadow: 0px 1px 2px rgba(60, 64, 67, 0.3), 0px 1px 3px 1px rgba(60, 64, 67, 0.15);\n",
              "      fill: #174EA6;\n",
              "    }\n",
              "\n",
              "    [theme=dark] .colab-df-convert {\n",
              "      background-color: #3B4455;\n",
              "      fill: #D2E3FC;\n",
              "    }\n",
              "\n",
              "    [theme=dark] .colab-df-convert:hover {\n",
              "      background-color: #434B5C;\n",
              "      box-shadow: 0px 1px 3px 1px rgba(0, 0, 0, 0.15);\n",
              "      filter: drop-shadow(0px 1px 2px rgba(0, 0, 0, 0.3));\n",
              "      fill: #FFFFFF;\n",
              "    }\n",
              "  </style>\n",
              "\n",
              "      <script>\n",
              "        const buttonEl =\n",
              "          document.querySelector('#df-a4fc628a-a1b0-498a-a7a5-4d8ccbebf40b button.colab-df-convert');\n",
              "        buttonEl.style.display =\n",
              "          google.colab.kernel.accessAllowed ? 'block' : 'none';\n",
              "\n",
              "        async function convertToInteractive(key) {\n",
              "          const element = document.querySelector('#df-a4fc628a-a1b0-498a-a7a5-4d8ccbebf40b');\n",
              "          const dataTable =\n",
              "            await google.colab.kernel.invokeFunction('convertToInteractive',\n",
              "                                                     [key], {});\n",
              "          if (!dataTable) return;\n",
              "\n",
              "          const docLinkHtml = 'Like what you see? Visit the ' +\n",
              "            '<a target=\"_blank\" href=https://colab.research.google.com/notebooks/data_table.ipynb>data table notebook</a>'\n",
              "            + ' to learn more about interactive tables.';\n",
              "          element.innerHTML = '';\n",
              "          dataTable['output_type'] = 'display_data';\n",
              "          await google.colab.output.renderOutput(dataTable, element);\n",
              "          const docLink = document.createElement('div');\n",
              "          docLink.innerHTML = docLinkHtml;\n",
              "          element.appendChild(docLink);\n",
              "        }\n",
              "      </script>\n",
              "    </div>\n",
              "  </div>\n",
              "  "
            ]
          },
          "metadata": {},
          "execution_count": 10
        }
      ],
      "source": [
        "orders['date'] = orders['date'].map(\n",
        "    lambda x: dt.datetime.strptime(x, '%Y-%m-%d')\n",
        ")\n",
        "orders.head()"
      ]
    },
    {
      "cell_type": "code",
      "execution_count": 11,
      "metadata": {
        "id": "FgIkFXU3yhtN"
      },
      "outputs": [],
      "source": [
        "pth1 = '/datasets/visitors.csv'\n",
        "pth2 = 'visitors.csv'\n",
        "\n",
        "if os.path.exists(pth1):\n",
        "    visitors = pd.read_csv(pth1, sep=',')\n",
        "elif os.path.exists(pth2):\n",
        "    visitors = pd.read_csv(pth2, sep=',')\n",
        "else:\n",
        "    print('Что-то пошло не так')"
      ]
    },
    {
      "cell_type": "code",
      "execution_count": 12,
      "metadata": {
        "colab": {
          "base_uri": "https://localhost:8080/",
          "height": 206
        },
        "id": "2_O4TIklyhtN",
        "outputId": "ceca769d-4e98-44f2-84bf-0278ff9179b1"
      },
      "outputs": [
        {
          "output_type": "execute_result",
          "data": {
            "text/plain": [
              "        date group  visitors\n",
              "0 2019-08-01     A       719\n",
              "1 2019-08-02     A       619\n",
              "2 2019-08-03     A       507\n",
              "3 2019-08-04     A       717\n",
              "4 2019-08-05     A       756"
            ],
            "text/html": [
              "\n",
              "  <div id=\"df-4ef666be-4e4f-49a3-aa79-5e3daaeeca7a\">\n",
              "    <div class=\"colab-df-container\">\n",
              "      <div>\n",
              "<style scoped>\n",
              "    .dataframe tbody tr th:only-of-type {\n",
              "        vertical-align: middle;\n",
              "    }\n",
              "\n",
              "    .dataframe tbody tr th {\n",
              "        vertical-align: top;\n",
              "    }\n",
              "\n",
              "    .dataframe thead th {\n",
              "        text-align: right;\n",
              "    }\n",
              "</style>\n",
              "<table border=\"1\" class=\"dataframe\">\n",
              "  <thead>\n",
              "    <tr style=\"text-align: right;\">\n",
              "      <th></th>\n",
              "      <th>date</th>\n",
              "      <th>group</th>\n",
              "      <th>visitors</th>\n",
              "    </tr>\n",
              "  </thead>\n",
              "  <tbody>\n",
              "    <tr>\n",
              "      <th>0</th>\n",
              "      <td>2019-08-01</td>\n",
              "      <td>A</td>\n",
              "      <td>719</td>\n",
              "    </tr>\n",
              "    <tr>\n",
              "      <th>1</th>\n",
              "      <td>2019-08-02</td>\n",
              "      <td>A</td>\n",
              "      <td>619</td>\n",
              "    </tr>\n",
              "    <tr>\n",
              "      <th>2</th>\n",
              "      <td>2019-08-03</td>\n",
              "      <td>A</td>\n",
              "      <td>507</td>\n",
              "    </tr>\n",
              "    <tr>\n",
              "      <th>3</th>\n",
              "      <td>2019-08-04</td>\n",
              "      <td>A</td>\n",
              "      <td>717</td>\n",
              "    </tr>\n",
              "    <tr>\n",
              "      <th>4</th>\n",
              "      <td>2019-08-05</td>\n",
              "      <td>A</td>\n",
              "      <td>756</td>\n",
              "    </tr>\n",
              "  </tbody>\n",
              "</table>\n",
              "</div>\n",
              "      <button class=\"colab-df-convert\" onclick=\"convertToInteractive('df-4ef666be-4e4f-49a3-aa79-5e3daaeeca7a')\"\n",
              "              title=\"Convert this dataframe to an interactive table.\"\n",
              "              style=\"display:none;\">\n",
              "        \n",
              "  <svg xmlns=\"http://www.w3.org/2000/svg\" height=\"24px\"viewBox=\"0 0 24 24\"\n",
              "       width=\"24px\">\n",
              "    <path d=\"M0 0h24v24H0V0z\" fill=\"none\"/>\n",
              "    <path d=\"M18.56 5.44l.94 2.06.94-2.06 2.06-.94-2.06-.94-.94-2.06-.94 2.06-2.06.94zm-11 1L8.5 8.5l.94-2.06 2.06-.94-2.06-.94L8.5 2.5l-.94 2.06-2.06.94zm10 10l.94 2.06.94-2.06 2.06-.94-2.06-.94-.94-2.06-.94 2.06-2.06.94z\"/><path d=\"M17.41 7.96l-1.37-1.37c-.4-.4-.92-.59-1.43-.59-.52 0-1.04.2-1.43.59L10.3 9.45l-7.72 7.72c-.78.78-.78 2.05 0 2.83L4 21.41c.39.39.9.59 1.41.59.51 0 1.02-.2 1.41-.59l7.78-7.78 2.81-2.81c.8-.78.8-2.07 0-2.86zM5.41 20L4 18.59l7.72-7.72 1.47 1.35L5.41 20z\"/>\n",
              "  </svg>\n",
              "      </button>\n",
              "      \n",
              "  <style>\n",
              "    .colab-df-container {\n",
              "      display:flex;\n",
              "      flex-wrap:wrap;\n",
              "      gap: 12px;\n",
              "    }\n",
              "\n",
              "    .colab-df-convert {\n",
              "      background-color: #E8F0FE;\n",
              "      border: none;\n",
              "      border-radius: 50%;\n",
              "      cursor: pointer;\n",
              "      display: none;\n",
              "      fill: #1967D2;\n",
              "      height: 32px;\n",
              "      padding: 0 0 0 0;\n",
              "      width: 32px;\n",
              "    }\n",
              "\n",
              "    .colab-df-convert:hover {\n",
              "      background-color: #E2EBFA;\n",
              "      box-shadow: 0px 1px 2px rgba(60, 64, 67, 0.3), 0px 1px 3px 1px rgba(60, 64, 67, 0.15);\n",
              "      fill: #174EA6;\n",
              "    }\n",
              "\n",
              "    [theme=dark] .colab-df-convert {\n",
              "      background-color: #3B4455;\n",
              "      fill: #D2E3FC;\n",
              "    }\n",
              "\n",
              "    [theme=dark] .colab-df-convert:hover {\n",
              "      background-color: #434B5C;\n",
              "      box-shadow: 0px 1px 3px 1px rgba(0, 0, 0, 0.15);\n",
              "      filter: drop-shadow(0px 1px 2px rgba(0, 0, 0, 0.3));\n",
              "      fill: #FFFFFF;\n",
              "    }\n",
              "  </style>\n",
              "\n",
              "      <script>\n",
              "        const buttonEl =\n",
              "          document.querySelector('#df-4ef666be-4e4f-49a3-aa79-5e3daaeeca7a button.colab-df-convert');\n",
              "        buttonEl.style.display =\n",
              "          google.colab.kernel.accessAllowed ? 'block' : 'none';\n",
              "\n",
              "        async function convertToInteractive(key) {\n",
              "          const element = document.querySelector('#df-4ef666be-4e4f-49a3-aa79-5e3daaeeca7a');\n",
              "          const dataTable =\n",
              "            await google.colab.kernel.invokeFunction('convertToInteractive',\n",
              "                                                     [key], {});\n",
              "          if (!dataTable) return;\n",
              "\n",
              "          const docLinkHtml = 'Like what you see? Visit the ' +\n",
              "            '<a target=\"_blank\" href=https://colab.research.google.com/notebooks/data_table.ipynb>data table notebook</a>'\n",
              "            + ' to learn more about interactive tables.';\n",
              "          element.innerHTML = '';\n",
              "          dataTable['output_type'] = 'display_data';\n",
              "          await google.colab.output.renderOutput(dataTable, element);\n",
              "          const docLink = document.createElement('div');\n",
              "          docLink.innerHTML = docLinkHtml;\n",
              "          element.appendChild(docLink);\n",
              "        }\n",
              "      </script>\n",
              "    </div>\n",
              "  </div>\n",
              "  "
            ]
          },
          "metadata": {},
          "execution_count": 12
        }
      ],
      "source": [
        "visitors['date'] = visitors['date'].map(\n",
        "    lambda x: dt.datetime.strptime(x, '%Y-%m-%d')\n",
        ")\n",
        "\n",
        "visitors.head()"
      ]
    },
    {
      "cell_type": "code",
      "execution_count": 13,
      "metadata": {
        "colab": {
          "base_uri": "https://localhost:8080/",
          "height": 52
        },
        "id": "Y6ry1bMsyhtN",
        "outputId": "114dcccf-162c-44a2-9b48-93598df0b858"
      },
      "outputs": [
        {
          "output_type": "display_data",
          "data": {
            "text/plain": [
              "0"
            ]
          },
          "metadata": {}
        },
        {
          "output_type": "execute_result",
          "data": {
            "text/plain": [
              "0"
            ]
          },
          "metadata": {},
          "execution_count": 13
        }
      ],
      "source": [
        "#Проверим датасеты на наличие дубликатов\n",
        "display(visitors.duplicated().sum())\n",
        "orders.duplicated().sum()"
      ]
    },
    {
      "cell_type": "code",
      "execution_count": 14,
      "metadata": {
        "colab": {
          "base_uri": "https://localhost:8080/",
          "height": 191
        },
        "id": "lRx4alihyhtN",
        "outputId": "c2a83409-78e2-4c9a-d4fc-8bf0d0c28251"
      },
      "outputs": [
        {
          "output_type": "display_data",
          "data": {
            "text/plain": [
              "date        0\n",
              "group       0\n",
              "visitors    0\n",
              "dtype: int64"
            ]
          },
          "metadata": {}
        },
        {
          "output_type": "execute_result",
          "data": {
            "text/plain": [
              "transactionId    0\n",
              "visitorId        0\n",
              "date             0\n",
              "revenue          0\n",
              "group            0\n",
              "dtype: int64"
            ]
          },
          "metadata": {},
          "execution_count": 14
        }
      ],
      "source": [
        "#Проверим данные на количество пропусков\n",
        "display(visitors.isna().sum())\n",
        "orders.isna().sum()"
      ]
    },
    {
      "cell_type": "markdown",
      "metadata": {
        "id": "PAqt1v4NyhtO"
      },
      "source": [
        "Перед началом анализа А/В-теста, важно ответить на такие вопросы:"
      ]
    },
    {
      "cell_type": "markdown",
      "metadata": {
        "id": "BkRGjniYyhtO"
      },
      "source": [
        "<div>\n",
        "\n",
        "* Сколько у нас групп в А/В тесте;\n",
        "\n",
        "* Даты начала и окончания теста;\n",
        "\n",
        "* Сколько уникальных пользователей в каждой группе.\n",
        "    \n",
        "</div>"
      ]
    },
    {
      "cell_type": "code",
      "execution_count": 15,
      "metadata": {
        "colab": {
          "base_uri": "https://localhost:8080/",
          "height": 52
        },
        "id": "xhaYVI2NyhtO",
        "outputId": "c5f24646-7ee4-4366-e433-88a9cb404f42"
      },
      "outputs": [
        {
          "output_type": "display_data",
          "data": {
            "text/plain": [
              "2"
            ]
          },
          "metadata": {}
        },
        {
          "output_type": "execute_result",
          "data": {
            "text/plain": [
              "2"
            ]
          },
          "metadata": {},
          "execution_count": 15
        }
      ],
      "source": [
        "#Количество групп в тесте\n",
        "display(visitors.group.nunique())\n",
        "orders.group.nunique()"
      ]
    },
    {
      "cell_type": "code",
      "execution_count": 16,
      "metadata": {
        "colab": {
          "base_uri": "https://localhost:8080/",
          "height": 433
        },
        "id": "p0AYn03KyhtO",
        "outputId": "cc9cbf6d-2f1d-4b30-ef81-eda110084958"
      },
      "outputs": [
        {
          "output_type": "display_data",
          "data": {
            "text/plain": [
              "61   2019-08-31\n",
              "30   2019-08-31\n",
              "29   2019-08-30\n",
              "60   2019-08-30\n",
              "28   2019-08-29\n",
              "        ...    \n",
              "33   2019-08-03\n",
              "32   2019-08-02\n",
              "1    2019-08-02\n",
              "0    2019-08-01\n",
              "31   2019-08-01\n",
              "Name: date, Length: 62, dtype: datetime64[ns]"
            ]
          },
          "metadata": {}
        },
        {
          "output_type": "execute_result",
          "data": {
            "text/plain": [
              "956    2019-08-31\n",
              "1013   2019-08-31\n",
              "957    2019-08-31\n",
              "958    2019-08-31\n",
              "959    2019-08-31\n",
              "          ...    \n",
              "142    2019-08-01\n",
              "141    2019-08-01\n",
              "140    2019-08-01\n",
              "139    2019-08-01\n",
              "55     2019-08-01\n",
              "Name: date, Length: 1197, dtype: datetime64[ns]"
            ]
          },
          "metadata": {},
          "execution_count": 16
        }
      ],
      "source": [
        "#Даты проведения теста\n",
        "display(visitors.date.sort_values(ascending=False))\n",
        "orders.date.sort_values(ascending=False)"
      ]
    },
    {
      "cell_type": "markdown",
      "metadata": {
        "id": "yTXvHopEyhtP"
      },
      "source": [
        "Тест начался 1 августа 2019, а сейчас 31 августа 2019. В конце исследования будет принято решения, останавливать его или нет"
      ]
    },
    {
      "cell_type": "code",
      "execution_count": 17,
      "metadata": {
        "colab": {
          "base_uri": "https://localhost:8080/",
          "height": 52
        },
        "id": "tGO-s-H7yhtP",
        "outputId": "cb2eb3d3-9954-4bf4-86b9-898cb29077d1"
      },
      "outputs": [
        {
          "output_type": "display_data",
          "data": {
            "text/plain": [
              "503"
            ]
          },
          "metadata": {}
        },
        {
          "output_type": "display_data",
          "data": {
            "text/plain": [
              "586"
            ]
          },
          "metadata": {}
        }
      ],
      "source": [
        "#Количество уникальных пользователей в каждой группе\n",
        "unique_visitors_A = pd.Series(orders[orders['group']=='A']['visitorId'].unique())\n",
        "unique_visitors_B = pd.Series(orders[orders['group']=='B']['visitorId'].unique())\n",
        "\n",
        "display(unique_visitors_A.count(), unique_visitors_B.count())"
      ]
    },
    {
      "cell_type": "code",
      "execution_count": 18,
      "metadata": {
        "colab": {
          "base_uri": "https://localhost:8080/"
        },
        "id": "SW2OGFJgyhtP",
        "outputId": "cb0e74af-bd06-473a-87af-52b85f2d97ce"
      },
      "outputs": [
        {
          "output_type": "execute_result",
          "data": {
            "text/plain": [
              "58"
            ]
          },
          "metadata": {},
          "execution_count": 18
        }
      ],
      "source": [
        "#Проверим, есть ли пользователи, которые встречаются в обеих группах\n",
        "ab_visitors = unique_visitors_A[(unique_visitors_A.isin(unique_visitors_B))]\n",
        "ab_visitors.count()"
      ]
    },
    {
      "cell_type": "markdown",
      "metadata": {
        "id": "7cIBSjj3yhtP"
      },
      "source": [
        "Видим, что у нас есть 58 пользователей, встречающихся в обоих группах теста. Возможно, произошла ошибка при сборе данных. Лучше избавиться от таких дублей, т.к. они не позволят нам провести корректные сравнения"
      ]
    },
    {
      "cell_type": "code",
      "execution_count": 19,
      "metadata": {
        "id": "FYvCUvOuyhtP"
      },
      "outputs": [],
      "source": [
        "orders = orders[np.logical_not(orders['visitorId'].isin(ab_visitors))].reset_index()"
      ]
    },
    {
      "cell_type": "code",
      "execution_count": 20,
      "metadata": {
        "colab": {
          "base_uri": "https://localhost:8080/",
          "height": 52
        },
        "id": "CydKia_vyhtQ",
        "outputId": "c40cde86-9a30-418c-9744-b09db229f8d0"
      },
      "outputs": [
        {
          "output_type": "display_data",
          "data": {
            "text/plain": [
              "445"
            ]
          },
          "metadata": {}
        },
        {
          "output_type": "display_data",
          "data": {
            "text/plain": [
              "528"
            ]
          },
          "metadata": {}
        }
      ],
      "source": [
        "#Количество уникальных пользователей в каждой группе после удаления дубликатов\n",
        "unique_visitors_A = pd.Series(orders[orders['group']=='A']['visitorId'].unique())\n",
        "unique_visitors_B = pd.Series(orders[orders['group']=='B']['visitorId'].unique())\n",
        "\n",
        "display(unique_visitors_A.count(), unique_visitors_B.count())"
      ]
    },
    {
      "cell_type": "markdown",
      "metadata": {
        "id": "vAv2D8eUyhtQ"
      },
      "source": [
        "Группы не очень сбалансированы, разница между ними в 83 пользователя"
      ]
    },
    {
      "cell_type": "markdown",
      "metadata": {
        "id": "3Y8rSQ_-yhtR"
      },
      "source": [
        "Чтобы построить графики, нужно собрать кумулятивные данные. Объявим датафрейм <code>cumulativeData</code> со столбцами:\n",
        "<div>\n",
        "\n",
        "* <code>date</code> — дата;\n",
        "\n",
        "* <code>group</code> — группа A/B-теста (A или B);\n",
        "\n",
        "* <code>orders</code> — кумулятивное количество заказов на указанную дату в указанной группе;\n",
        "\n",
        "* <code>buyers</code> — кумулятивное количество пользователей, совершивших хотя бы один заказ, на указанную дату в указанной группе;\n",
        "    \n",
        "* <code>revenue</code> — кумулятивная выручка на указанную дату в указанной группе (средний чек);\n",
        "    \n",
        "* <code>visitors</code> — кумулятивное количество посетителей интернет-магазина на указанную дату в определённой группе.\n",
        "    \n",
        "</div>"
      ]
    },
    {
      "cell_type": "code",
      "execution_count": 21,
      "metadata": {
        "colab": {
          "base_uri": "https://localhost:8080/"
        },
        "id": "oS5LwhCRyhtR",
        "outputId": "0773b24d-a434-43d7-d8fb-591e3c0cf769"
      },
      "outputs": [
        {
          "output_type": "stream",
          "name": "stdout",
          "text": [
            "        date group  orders  buyers  revenue  visitors\n",
            "0 2019-08-01     A      23      19   142779       719\n",
            "1 2019-08-01     B      17      17    59758       713\n",
            "2 2019-08-02     A      42      36   234381      1338\n",
            "3 2019-08-02     B      40      39   221801      1294\n",
            "4 2019-08-03     A      66      60   346854      1845\n"
          ]
        }
      ],
      "source": [
        "# создаем массив уникальных пар значений дат и групп теста\n",
        "datesGroups = orders[['date','group']].drop_duplicates()\n",
        "\n",
        "# получаем агрегированные кумулятивные по дням данные о заказах \n",
        "ordersAggregated = datesGroups.apply(lambda x: orders[\n",
        "    np.logical_and(\n",
        "        orders['date'] <= x['date'], orders['group'] == x['group'])\n",
        "].agg({\n",
        "    'date' : 'max', \n",
        "    'group' : 'max', \n",
        "    'transactionId' : 'nunique', \n",
        "    'visitorId' : 'nunique', \n",
        "    'revenue' : 'sum'}), axis=1).sort_values(by=['date','group'])\n",
        "\n",
        "# получаем агрегированные кумулятивные по дням данные о посетителях интернет-магазина \n",
        "visitorsAggregated = datesGroups.apply(\n",
        "    lambda x: visitors[\n",
        "        np.logical_and(\n",
        "            visitors['date'] <= x['date'], visitors['group'] == x['group'])\n",
        "    ].agg({\n",
        "        'date' : 'max', \n",
        "        'group' : 'max', \n",
        "        'visitors' : 'sum'}), axis=1).sort_values(by=['date','group'])\n",
        "\n",
        "# объединяем кумулятивные данные в одной таблице и присваиваем ее столбцам понятные названия\n",
        "cumulativeData = ordersAggregated.merge(visitorsAggregated, left_on=['date', 'group'], right_on=['date', 'group'])\n",
        "cumulativeData.columns = ['date', 'group', 'orders', 'buyers', 'revenue', 'visitors']\n",
        "\n",
        "print(cumulativeData.head(5))"
      ]
    },
    {
      "cell_type": "markdown",
      "metadata": {
        "id": "oxrIv_aayhtS"
      },
      "source": [
        "<b>Построим график куммулятивной выручки по группам</b>"
      ]
    },
    {
      "cell_type": "code",
      "execution_count": 22,
      "metadata": {
        "colab": {
          "base_uri": "https://localhost:8080/",
          "height": 507
        },
        "id": "_mCCkqufyhtS",
        "outputId": "04e0d9a3-6b2e-48c8-f358-55f5b0068f08"
      },
      "outputs": [
        {
          "output_type": "display_data",
          "data": {
            "text/plain": [
              "<Figure size 1500x600 with 1 Axes>"
            ],
            "image/png": "[encoded data removed]"
          },
          "metadata": {}
        }
      ],
      "source": [
        "# датафрейм с кумулятивным количеством заказов и кумулятивной выручкой по дням в группе А\n",
        "cumulativeRevenueA = cumulativeData[cumulativeData['group']=='A'][['date','revenue', 'orders']]\n",
        "\n",
        "# датафрейм с кумулятивным количеством заказов и кумулятивной выручкой по дням в группе B\n",
        "cumulativeRevenueB = cumulativeData[cumulativeData['group']=='B'][['date','revenue', 'orders']]\n",
        "\n",
        "plt.figure(figsize=(15,6));\n",
        "\n",
        "# Строим график выручки группы А\n",
        "plt.plot(cumulativeRevenueA['date'], cumulativeRevenueA['revenue'], label='A')\n",
        "\n",
        "# Строим график выручки группы B\n",
        "plt.plot(cumulativeRevenueB['date'], cumulativeRevenueB['revenue'], label='B')\n",
        "\n",
        "plt.title('График динамики кумулятивной выручки по группам А и В')\n",
        "\n",
        "plt.ylabel(\"Выручка, млн.\")\n",
        "\n",
        "plt.xlabel(\"Дата\")\n",
        "\n",
        "plt.grid()\n",
        "\n",
        "plt.legend()\n",
        "\n",
        "plt.show()"
      ]
    },
    {
      "cell_type": "markdown",
      "metadata": {
        "id": "J5GGip7GyhtT"
      },
      "source": [
        "Видим, что куммулятиваня выручка в группе А растет линейно. Она меньше, чем выручка из группы В. Однако, в группе В видим резкий скачок выруки в районе 18 августа. Это может быть связано с вслпеском числа заказов, или о появлении дорогих заказрв в выборке"
      ]
    },
    {
      "cell_type": "markdown",
      "metadata": {
        "id": "5eUZgZTFyhtT"
      },
      "source": [
        "<b>Построим график кумулятивного среднего чека по группам</b>"
      ]
    },
    {
      "cell_type": "code",
      "execution_count": 23,
      "metadata": {
        "colab": {
          "base_uri": "https://localhost:8080/",
          "height": 494
        },
        "id": "sQdiz1Q5yhtT",
        "outputId": "702f68a1-ef37-4645-9468-7528cd7c0b2a"
      },
      "outputs": [
        {
          "output_type": "display_data",
          "data": {
            "text/plain": [
              "<Figure size 1500x600 with 1 Axes>"
            ],
            "image/png": "[encoded data removed]"
          },
          "metadata": {}
        }
      ],
      "source": [
        "plt.figure(figsize=(15,6));\n",
        "\n",
        "plt.plot(cumulativeRevenueA['date'], cumulativeRevenueA['revenue']/cumulativeRevenueA['orders'], label='A')\n",
        "\n",
        "plt.plot(cumulativeRevenueB['date'], cumulativeRevenueB['revenue']/cumulativeRevenueB['orders'], label='B')\n",
        "\n",
        "plt.title('График динамика куммулятивного среднего чека по группам А и В')\n",
        "\n",
        "plt.ylabel(\"Средний чек, млн.\")\n",
        "\n",
        "plt.xlabel(\"Дата\")\n",
        "\n",
        "plt.grid()\n",
        "\n",
        "plt.legend()\n",
        "\n",
        "plt.show()"
      ]
    },
    {
      "cell_type": "markdown",
      "metadata": {
        "id": "kZMkvfINyhtT"
      },
      "source": [
        "Средний чек в группее А на определенным отрезке времени стабилизировался, в то время как в группе В 18 агвуста совершил резкий скачок вверх. Еще один аргумент в пользу дорогой покупки"
      ]
    },
    {
      "cell_type": "markdown",
      "metadata": {
        "id": "vChQAuxByhtT"
      },
      "source": [
        "<b>Построим график относительного изменения кумулятивного среднего чека группы B к группе A</b>"
      ]
    },
    {
      "cell_type": "code",
      "execution_count": 24,
      "metadata": {
        "colab": {
          "base_uri": "https://localhost:8080/",
          "height": 498
        },
        "id": "gdkwrAaByhtU",
        "outputId": "fc19b346-2c74-4088-9ebe-485bffd6e37e"
      },
      "outputs": [
        {
          "output_type": "display_data",
          "data": {
            "text/plain": [
              "<Figure size 1500x600 with 1 Axes>"
            ],
            "image/png": "[encoded data removed]"
          },
          "metadata": {}
        }
      ],
      "source": [
        "plt.figure(figsize=(15,6));\n",
        "\n",
        "# собираем данные в одном датафрейме\n",
        "mergedCumulativeRevenue = cumulativeRevenueA.merge(cumulativeRevenueB, left_on='date', right_on='date', how='left', suffixes=['A', 'B'])\n",
        "\n",
        "# cтроим отношение средних чеков\n",
        "plt.plot(mergedCumulativeRevenue['date'], (mergedCumulativeRevenue['revenueB']/mergedCumulativeRevenue['ordersB'])/(mergedCumulativeRevenue['revenueA']/mergedCumulativeRevenue['ordersA'])-1)\n",
        "\n",
        "# добавляем ось X\n",
        "plt.axhline(y=0, color='black', linestyle='--')\n",
        "\n",
        "plt.title('График относительного изменения кумулятивного среднего чека группы B к группе A')\n",
        "\n",
        "plt.ylabel(\"Относительное изменение выручки\")\n",
        "\n",
        "plt.xlabel(\"Дата\")\n",
        "\n",
        "plt.grid()\n",
        "\n",
        "plt.show()"
      ]
    },
    {
      "cell_type": "markdown",
      "metadata": {
        "id": "DRUoTRIgyhtU"
      },
      "source": [
        "В нескольких точках график различия между сегментами резко «скачет». Определенно есть крупные заказы и выбросы"
      ]
    },
    {
      "cell_type": "markdown",
      "metadata": {
        "id": "r7M9wmG5yhtV"
      },
      "source": [
        "<b>Построим график кумулятивного среднего количества заказов на посетителя по группам</b>"
      ]
    },
    {
      "cell_type": "code",
      "execution_count": 25,
      "metadata": {
        "colab": {
          "base_uri": "https://localhost:8080/",
          "height": 495
        },
        "id": "Y6on-R7UyhtV",
        "outputId": "21c11e60-88e2-4ba1-e51e-83c8a0b4884a"
      },
      "outputs": [
        {
          "output_type": "display_data",
          "data": {
            "text/plain": [
              "<Figure size 1500x600 with 1 Axes>"
            ],
            "image/png": "[encoded data removed]"
          },
          "metadata": {}
        }
      ],
      "source": [
        "# считаем кумулятивную конверсию\n",
        "cumulativeData['conversion'] = cumulativeData['orders']/cumulativeData['visitors']\n",
        "\n",
        "# отделяем данные по группе A\n",
        "cumulativeDataA = cumulativeData[cumulativeData['group']=='A']\n",
        "\n",
        "# отделяем данные по группе B\n",
        "cumulativeDataB = cumulativeData[cumulativeData['group']=='B']\n",
        "\n",
        "plt.figure(figsize=(15,6));\n",
        "\n",
        "# строим графики\n",
        "plt.plot(cumulativeDataA['date'], cumulativeDataA['conversion'], label='A')\n",
        "plt.plot(cumulativeDataB['date'], cumulativeDataB['conversion'], label='B')\n",
        "plt.legend()\n",
        "\n",
        "plt.title('Кумулятивное среднее количества заказов на посетителя по группам')\n",
        "plt.xlabel(\"Дата\")\n",
        "plt.ylabel('Среднее количество заказов на посетителя')\n",
        "\n",
        "plt.grid()\n",
        "\n",
        "plt.show()"
      ]
    },
    {
      "cell_type": "markdown",
      "metadata": {
        "id": "qbiiyV6LyhtV"
      },
      "source": [
        "На графике видим, что какое-то время показатель кумулятивного среднего количества заказов на посетителя колебался, но затем выровнялся для обеих групп. Показатель в группе В выше, чем в группе А."
      ]
    },
    {
      "cell_type": "markdown",
      "metadata": {
        "id": "bSaeTRoByhtW"
      },
      "source": [
        "<b>Построим график относительного изменения кумулятивного среднего количества заказов на посетителя группы B к группе A</b>"
      ]
    },
    {
      "cell_type": "code",
      "execution_count": 26,
      "metadata": {
        "colab": {
          "base_uri": "https://localhost:8080/",
          "height": 498
        },
        "id": "M0CAqvZyyhtW",
        "outputId": "e1663422-16fe-4f7f-88a7-56560dd6a056"
      },
      "outputs": [
        {
          "output_type": "display_data",
          "data": {
            "text/plain": [
              "<Figure size 1500x600 with 1 Axes>"
            ],
            "image/png": "[encoded data removed]"
          },
          "metadata": {}
        }
      ],
      "source": [
        "mergedCumulativeConversions  = (\n",
        "    cumulativeDataA[['date','conversion']]\n",
        "    .merge(\n",
        "        cumulativeDataB[['date','conversion']], \n",
        "        left_on='date', \n",
        "        right_on='date', \n",
        "        how='left', \n",
        "        suffixes=['A', 'B'])\n",
        "    )\n",
        "plt.figure(figsize=(15,6));\n",
        "plt.plot(\n",
        "    mergedCumulativeConversions['date'], \n",
        "    mergedCumulativeConversions['conversionB']/\n",
        "    mergedCumulativeConversions['conversionA']-1\n",
        ")\n",
        "\n",
        "# добавляем ось X\n",
        "plt.axhline(y=0, color='black', linestyle='--')\n",
        "plt.axhline(y=0.15, color='grey', linestyle='--')\n",
        "plt.xlabel(\"Дата\")\n",
        "plt.ylabel(\"Относительное изменение показателя\")\n",
        "plt.title('Относительный прирост кумулятивного среднего количества заказов на посетителя группы B к группе A')\n",
        "plt.show()"
      ]
    },
    {
      "cell_type": "markdown",
      "metadata": {
        "id": "yW-uMePFyhtW"
      },
      "source": [
        "В начале теста группа B значительно проигрывала группе A, затем вырвалась вперёд. Ее кумулятивное среднее количества заказов на посетителя стремительно росло, далее начался медленный спад. Теперь показатель группы В снова растет. Но, как мы знаем из предыдущих графиков, скорее всего у нас есть крупные заказы, которые могли повлиять на метрики. Нужно отчистить данные от выбросов и снова их проанализировать."
      ]
    },
    {
      "cell_type": "markdown",
      "metadata": {
        "id": "Rc7JhJGuyhtX"
      },
      "source": [
        "<b>Построим точечный график количества заказов по пользователям</b>"
      ]
    },
    {
      "cell_type": "code",
      "execution_count": 27,
      "metadata": {
        "colab": {
          "base_uri": "https://localhost:8080/"
        },
        "id": "D7wdoseNyhtX",
        "outputId": "cddca4c8-bf7d-4cb7-f2ee-8d8af67fc6be"
      },
      "outputs": [
        {
          "output_type": "execute_result",
          "data": {
            "text/plain": [
              "count    973.000000\n",
              "mean       1.044193\n",
              "std        0.238090\n",
              "min        1.000000\n",
              "25%        1.000000\n",
              "50%        1.000000\n",
              "75%        1.000000\n",
              "max        3.000000\n",
              "Name: orders, dtype: object"
            ]
          },
          "metadata": {},
          "execution_count": 27
        }
      ],
      "source": [
        "#Количество заказов по пользователям\n",
        "ordersByUsers = (\n",
        "    orders.groupby('visitorId', as_index=False)\n",
        "    .agg({'transactionId': 'nunique'})\n",
        ")\n",
        "ordersByUsers.columns = ['visitorId', 'orders']\n",
        "ordersByUsers['orders'].describe().apply(lambda x: format(x, 'f'))"
      ]
    },
    {
      "cell_type": "code",
      "execution_count": 28,
      "metadata": {
        "colab": {
          "base_uri": "https://localhost:8080/",
          "height": 507
        },
        "id": "OST35KV9yhtX",
        "outputId": "e70b2b05-1622-4312-88a6-ec4b2e0fd023"
      },
      "outputs": [
        {
          "output_type": "display_data",
          "data": {
            "text/plain": [
              "<Figure size 1500x600 with 1 Axes>"
            ],
            "image/png": "[encoded data removed]"
          },
          "metadata": {}
        }
      ],
      "source": [
        "x_values = pd.Series(range(0,len(ordersByUsers)))\n",
        "plt.figure(figsize=(15,6));\n",
        "plt.title('Количество заказов по пользователям')\n",
        "plt.xlabel('Номер пользователя')\n",
        "plt.ylabel('Количество заказов')\n",
        "plt.grid()\n",
        "plt.scatter(x_values, ordersByUsers['orders']);"
      ]
    },
    {
      "cell_type": "markdown",
      "metadata": {
        "id": "9LQE3trMyhtY"
      },
      "source": [
        "Большинство пользователей совершают не больше 2-3 заказов."
      ]
    },
    {
      "cell_type": "markdown",
      "metadata": {
        "id": "NABCm2UoyhtY"
      },
      "source": [
        "<b>Посчитаем 95-й и 99-й перцентили количества заказов на пользователя. Выбирем границу для определения аномальных пользователей.</b>"
      ]
    },
    {
      "cell_type": "code",
      "execution_count": 29,
      "metadata": {
        "colab": {
          "base_uri": "https://localhost:8080/"
        },
        "id": "MG0KhwyTyhtY",
        "outputId": "03f628ff-cf22-45a7-bc98-a94cbe812dad"
      },
      "outputs": [
        {
          "output_type": "execute_result",
          "data": {
            "text/plain": [
              "array([1., 2.])"
            ]
          },
          "metadata": {},
          "execution_count": 29
        }
      ],
      "source": [
        "np.percentile(ordersByUsers['orders'], [95, 99])"
      ]
    },
    {
      "cell_type": "markdown",
      "metadata": {
        "id": "bnDB2rTKyhtY"
      },
      "source": [
        "Не более 5% пользователей совершали больше 2-х покупок в течение тестирования. И только 1% - четыре и более.\n",
        "Примем за верхнюю границу 4 заказа на одного пользователя."
      ]
    },
    {
      "cell_type": "markdown",
      "metadata": {
        "id": "26nbKPdwyhtZ"
      },
      "source": [
        "<b>Построим точечный график стоимостей заказов</b>"
      ]
    },
    {
      "cell_type": "code",
      "execution_count": 30,
      "metadata": {
        "colab": {
          "base_uri": "https://localhost:8080/"
        },
        "id": "mTaJpBYcyhtZ",
        "outputId": "619aca4a-98d3-48da-d738-87a6f8479e0b"
      },
      "outputs": [
        {
          "output_type": "execute_result",
          "data": {
            "text/plain": [
              "count       1016.000000\n",
              "mean        8300.814961\n",
              "std        42121.991672\n",
              "min           50.000000\n",
              "25%         1190.000000\n",
              "50%         2955.000000\n",
              "75%         8134.250000\n",
              "max      1294500.000000\n",
              "Name: revenue, dtype: object"
            ]
          },
          "metadata": {},
          "execution_count": 30
        }
      ],
      "source": [
        "orders['revenue'].describe().apply(lambda x: format(x, 'f'))"
      ]
    },
    {
      "cell_type": "code",
      "execution_count": 31,
      "metadata": {
        "colab": {
          "base_uri": "https://localhost:8080/",
          "height": 511
        },
        "id": "3FcnXECqyhtZ",
        "outputId": "fd78691f-9be5-4078-c84d-8f232bbb1eed"
      },
      "outputs": [
        {
          "output_type": "display_data",
          "data": {
            "text/plain": [
              "<Figure size 1500x600 with 1 Axes>"
            ],
            "image/png": "[encoded data removed]"
          },
          "metadata": {}
        }
      ],
      "source": [
        "x_values = pd.Series(range(0,len(orders['revenue'])))\n",
        "plt.figure(figsize=(15,6));\n",
        "plt.title('График стоимостей заказов по пользователям')\n",
        "plt.xlabel('Номер заказа')\n",
        "plt.ylabel('Стоимость заказов')\n",
        "plt.grid()\n",
        "plt.scatter(x_values, orders['revenue']);"
      ]
    },
    {
      "cell_type": "markdown",
      "metadata": {
        "id": "2nt_ZUyVyhtZ"
      },
      "source": [
        "На графике отчетливо виден огромный заказ, который повлиял на поведение наших метрик. Также есть и другие заказы, которые выбиваются из общего числа стоимостей. Построим такой же график только без двух крупных выбросов, поменяем масштаб для наглядности"
      ]
    },
    {
      "cell_type": "code",
      "execution_count": 32,
      "metadata": {
        "colab": {
          "base_uri": "https://localhost:8080/",
          "height": 499
        },
        "id": "VM7OnltNyhta",
        "outputId": "f43a6964-cf64-47f5-f4c4-a621334e03fc"
      },
      "outputs": [
        {
          "output_type": "display_data",
          "data": {
            "text/plain": [
              "<Figure size 1500x600 with 1 Axes>"
            ],
            "image/png": "[encoded data removed]"
          },
          "metadata": {}
        }
      ],
      "source": [
        "x_values = pd.Series(range(0,len(orders['revenue'])))\n",
        "plt.figure(figsize=(15,6));\n",
        "plt.ylim(0, 120000)\n",
        "plt.title('График стоимостей заказов по пользователям')\n",
        "plt.xlabel('Номер заказа')\n",
        "plt.ylabel('Стоимость заказов')\n",
        "plt.grid()\n",
        "plt.scatter(x_values, orders['revenue']);"
      ]
    },
    {
      "cell_type": "markdown",
      "metadata": {
        "id": "jvKag845yhta"
      },
      "source": [
        "Стоиомость большинства заказов не превышает 20000"
      ]
    },
    {
      "cell_type": "markdown",
      "metadata": {
        "id": "XA4m_9hGyhta"
      },
      "source": [
        "<b>Посчитаем 95-й и 99-й перцентили стоимости заказов. Выбирем границу для определения аномальных заказов</b>"
      ]
    },
    {
      "cell_type": "code",
      "execution_count": 33,
      "metadata": {
        "colab": {
          "base_uri": "https://localhost:8080/"
        },
        "id": "JxCfA-Xnyhta",
        "outputId": "4a8b97cc-4599-497b-821c-a2a9cd4f4040"
      },
      "outputs": [
        {
          "output_type": "execute_result",
          "data": {
            "text/plain": [
              "array([26785., 53904.])"
            ]
          },
          "metadata": {},
          "execution_count": 33
        }
      ],
      "source": [
        "np.percentile(orders['revenue'], [95, 99])"
      ]
    },
    {
      "cell_type": "markdown",
      "metadata": {
        "id": "knNK4CHUyhtb"
      },
      "source": [
        "Не более 5% заказов превышают стоимость в 26785, и не более 1% заказов превышают 53904. Возьмем границу по величине 99 процентиля - 53904"
      ]
    },
    {
      "cell_type": "markdown",
      "metadata": {
        "id": "jBUQkYEnyhtb"
      },
      "source": [
        "<b>Посчитаем статистическую значимость различий в среднем количестве заказов на посетителя между группами по «сырым» данным</b>"
      ]
    },
    {
      "cell_type": "markdown",
      "metadata": {
        "id": "nxuIXeQXyhtb"
      },
      "source": [
        "Оценив результаты А/В-теста визуально мы выяснили, что в данных, скорее всего, есть выбросы. Посчитаем статистическую значимость различий в среднем числе заказов на пользователя и среднем чеке между группами по «сырым» данным — без удаления аномальных пользователей."
      ]
    },
    {
      "cell_type": "markdown",
      "metadata": {
        "id": "2OKFDxx5yhtb"
      },
      "source": [
        "Сформулируем гипотезы:<br>\n",
        "<b>H0: различий в среднем количестве заказов на посетителя между группами нет</b><br>\n",
        "<b>Н1: различия в среднем количестве заказов на посетителя между группами есть</b>\n"
      ]
    },
    {
      "cell_type": "markdown",
      "metadata": {
        "id": "6niZ6Q9Tyhtb"
      },
      "source": [
        "Уровень значимости alpha = 0.05"
      ]
    },
    {
      "cell_type": "markdown",
      "metadata": {
        "id": "lgHZmLcQyhtc"
      },
      "source": [
        "Так как данные о продажах и средних чеках редко бывают нормально распределены (это классический пример переменных, подверженных выбросам), для проверки гипотез будем использовать непараметрический тест Уилкоксона-Манна-Уитни.\n",
        "Для уровеня значимости установим стандартный уровень статистической значимости, равный 0.05."
      ]
    },
    {
      "cell_type": "markdown",
      "metadata": {
        "id": "ck1ppMQuyhtc"
      },
      "source": [
        "Начнем с подготовки данных"
      ]
    },
    {
      "cell_type": "code",
      "execution_count": 34,
      "metadata": {
        "colab": {
          "base_uri": "https://localhost:8080/",
          "height": 357
        },
        "id": "09X6BXAByhtd",
        "outputId": "627c91e4-13d2-481f-829a-a571a4258f40"
      },
      "outputs": [
        {
          "output_type": "execute_result",
          "data": {
            "text/plain": [
              "        date  ordersPerDateA  revenuePerDateA  ordersPerDateB  \\\n",
              "0 2019-08-01              23           142779              17   \n",
              "1 2019-08-02              19            91602              23   \n",
              "2 2019-08-03              24           112473              14   \n",
              "3 2019-08-04              11            41176              14   \n",
              "4 2019-08-05              22            86383              21   \n",
              "\n",
              "   revenuePerDateB  ordersCummulativeA  revenueCummulativeA  \\\n",
              "0            59758                  23               142779   \n",
              "1           162043                  42               234381   \n",
              "2            67049                  66               346854   \n",
              "3            96890                  77               388030   \n",
              "4            89908                  99               474413   \n",
              "\n",
              "   ordersCummulativeB  revenueCummulativeB  visitorsPerDateA  \\\n",
              "0                  17                59758               719   \n",
              "1                  40               221801               619   \n",
              "2                  54               288850               507   \n",
              "3                  68               385740               717   \n",
              "4                  89               475648               756   \n",
              "\n",
              "   visitorsPerDateB  visitorsCummulativeA  visitorsCummulativeB  \n",
              "0               713                   719                   713  \n",
              "1               581                  1338                  1294  \n",
              "2               509                  1845                  1803  \n",
              "3               770                  2562                  2573  \n",
              "4               707                  3318                  3280  "
            ],
            "text/html": [
              "\n",
              "  <div id=\"df-f2502f9f-1190-4a5a-8cd4-0652ec6960b6\">\n",
              "    <div class=\"colab-df-container\">\n",
              "      <div>\n",
              "<style scoped>\n",
              "    .dataframe tbody tr th:only-of-type {\n",
              "        vertical-align: middle;\n",
              "    }\n",
              "\n",
              "    .dataframe tbody tr th {\n",
              "        vertical-align: top;\n",
              "    }\n",
              "\n",
              "    .dataframe thead th {\n",
              "        text-align: right;\n",
              "    }\n",
              "</style>\n",
              "<table border=\"1\" class=\"dataframe\">\n",
              "  <thead>\n",
              "    <tr style=\"text-align: right;\">\n",
              "      <th></th>\n",
              "      <th>date</th>\n",
              "      <th>ordersPerDateA</th>\n",
              "      <th>revenuePerDateA</th>\n",
              "      <th>ordersPerDateB</th>\n",
              "      <th>revenuePerDateB</th>\n",
              "      <th>ordersCummulativeA</th>\n",
              "      <th>revenueCummulativeA</th>\n",
              "      <th>ordersCummulativeB</th>\n",
              "      <th>revenueCummulativeB</th>\n",
              "      <th>visitorsPerDateA</th>\n",
              "      <th>visitorsPerDateB</th>\n",
              "      <th>visitorsCummulativeA</th>\n",
              "      <th>visitorsCummulativeB</th>\n",
              "    </tr>\n",
              "  </thead>\n",
              "  <tbody>\n",
              "    <tr>\n",
              "      <th>0</th>\n",
              "      <td>2019-08-01</td>\n",
              "      <td>23</td>\n",
              "      <td>142779</td>\n",
              "      <td>17</td>\n",
              "      <td>59758</td>\n",
              "      <td>23</td>\n",
              "      <td>142779</td>\n",
              "      <td>17</td>\n",
              "      <td>59758</td>\n",
              "      <td>719</td>\n",
              "      <td>713</td>\n",
              "      <td>719</td>\n",
              "      <td>713</td>\n",
              "    </tr>\n",
              "    <tr>\n",
              "      <th>1</th>\n",
              "      <td>2019-08-02</td>\n",
              "      <td>19</td>\n",
              "      <td>91602</td>\n",
              "      <td>23</td>\n",
              "      <td>162043</td>\n",
              "      <td>42</td>\n",
              "      <td>234381</td>\n",
              "      <td>40</td>\n",
              "      <td>221801</td>\n",
              "      <td>619</td>\n",
              "      <td>581</td>\n",
              "      <td>1338</td>\n",
              "      <td>1294</td>\n",
              "    </tr>\n",
              "    <tr>\n",
              "      <th>2</th>\n",
              "      <td>2019-08-03</td>\n",
              "      <td>24</td>\n",
              "      <td>112473</td>\n",
              "      <td>14</td>\n",
              "      <td>67049</td>\n",
              "      <td>66</td>\n",
              "      <td>346854</td>\n",
              "      <td>54</td>\n",
              "      <td>288850</td>\n",
              "      <td>507</td>\n",
              "      <td>509</td>\n",
              "      <td>1845</td>\n",
              "      <td>1803</td>\n",
              "    </tr>\n",
              "    <tr>\n",
              "      <th>3</th>\n",
              "      <td>2019-08-04</td>\n",
              "      <td>11</td>\n",
              "      <td>41176</td>\n",
              "      <td>14</td>\n",
              "      <td>96890</td>\n",
              "      <td>77</td>\n",
              "      <td>388030</td>\n",
              "      <td>68</td>\n",
              "      <td>385740</td>\n",
              "      <td>717</td>\n",
              "      <td>770</td>\n",
              "      <td>2562</td>\n",
              "      <td>2573</td>\n",
              "    </tr>\n",
              "    <tr>\n",
              "      <th>4</th>\n",
              "      <td>2019-08-05</td>\n",
              "      <td>22</td>\n",
              "      <td>86383</td>\n",
              "      <td>21</td>\n",
              "      <td>89908</td>\n",
              "      <td>99</td>\n",
              "      <td>474413</td>\n",
              "      <td>89</td>\n",
              "      <td>475648</td>\n",
              "      <td>756</td>\n",
              "      <td>707</td>\n",
              "      <td>3318</td>\n",
              "      <td>3280</td>\n",
              "    </tr>\n",
              "  </tbody>\n",
              "</table>\n",
              "</div>\n",
              "      <button class=\"colab-df-convert\" onclick=\"convertToInteractive('df-f2502f9f-1190-4a5a-8cd4-0652ec6960b6')\"\n",
              "              title=\"Convert this dataframe to an interactive table.\"\n",
              "              style=\"display:none;\">\n",
              "        \n",
              "  <svg xmlns=\"http://www.w3.org/2000/svg\" height=\"24px\"viewBox=\"0 0 24 24\"\n",
              "       width=\"24px\">\n",
              "    <path d=\"M0 0h24v24H0V0z\" fill=\"none\"/>\n",
              "    <path d=\"M18.56 5.44l.94 2.06.94-2.06 2.06-.94-2.06-.94-.94-2.06-.94 2.06-2.06.94zm-11 1L8.5 8.5l.94-2.06 2.06-.94-2.06-.94L8.5 2.5l-.94 2.06-2.06.94zm10 10l.94 2.06.94-2.06 2.06-.94-2.06-.94-.94-2.06-.94 2.06-2.06.94z\"/><path d=\"M17.41 7.96l-1.37-1.37c-.4-.4-.92-.59-1.43-.59-.52 0-1.04.2-1.43.59L10.3 9.45l-7.72 7.72c-.78.78-.78 2.05 0 2.83L4 21.41c.39.39.9.59 1.41.59.51 0 1.02-.2 1.41-.59l7.78-7.78 2.81-2.81c.8-.78.8-2.07 0-2.86zM5.41 20L4 18.59l7.72-7.72 1.47 1.35L5.41 20z\"/>\n",
              "  </svg>\n",
              "      </button>\n",
              "      \n",
              "  <style>\n",
              "    .colab-df-container {\n",
              "      display:flex;\n",
              "      flex-wrap:wrap;\n",
              "      gap: 12px;\n",
              "    }\n",
              "\n",
              "    .colab-df-convert {\n",
              "      background-color: #E8F0FE;\n",
              "      border: none;\n",
              "      border-radius: 50%;\n",
              "      cursor: pointer;\n",
              "      display: none;\n",
              "      fill: #1967D2;\n",
              "      height: 32px;\n",
              "      padding: 0 0 0 0;\n",
              "      width: 32px;\n",
              "    }\n",
              "\n",
              "    .colab-df-convert:hover {\n",
              "      background-color: #E2EBFA;\n",
              "      box-shadow: 0px 1px 2px rgba(60, 64, 67, 0.3), 0px 1px 3px 1px rgba(60, 64, 67, 0.15);\n",
              "      fill: #174EA6;\n",
              "    }\n",
              "\n",
              "    [theme=dark] .colab-df-convert {\n",
              "      background-color: #3B4455;\n",
              "      fill: #D2E3FC;\n",
              "    }\n",
              "\n",
              "    [theme=dark] .colab-df-convert:hover {\n",
              "      background-color: #434B5C;\n",
              "      box-shadow: 0px 1px 3px 1px rgba(0, 0, 0, 0.15);\n",
              "      filter: drop-shadow(0px 1px 2px rgba(0, 0, 0, 0.3));\n",
              "      fill: #FFFFFF;\n",
              "    }\n",
              "  </style>\n",
              "\n",
              "      <script>\n",
              "        const buttonEl =\n",
              "          document.querySelector('#df-f2502f9f-1190-4a5a-8cd4-0652ec6960b6 button.colab-df-convert');\n",
              "        buttonEl.style.display =\n",
              "          google.colab.kernel.accessAllowed ? 'block' : 'none';\n",
              "\n",
              "        async function convertToInteractive(key) {\n",
              "          const element = document.querySelector('#df-f2502f9f-1190-4a5a-8cd4-0652ec6960b6');\n",
              "          const dataTable =\n",
              "            await google.colab.kernel.invokeFunction('convertToInteractive',\n",
              "                                                     [key], {});\n",
              "          if (!dataTable) return;\n",
              "\n",
              "          const docLinkHtml = 'Like what you see? Visit the ' +\n",
              "            '<a target=\"_blank\" href=https://colab.research.google.com/notebooks/data_table.ipynb>data table notebook</a>'\n",
              "            + ' to learn more about interactive tables.';\n",
              "          element.innerHTML = '';\n",
              "          dataTable['output_type'] = 'display_data';\n",
              "          await google.colab.output.renderOutput(dataTable, element);\n",
              "          const docLink = document.createElement('div');\n",
              "          docLink.innerHTML = docLinkHtml;\n",
              "          element.appendChild(docLink);\n",
              "        }\n",
              "      </script>\n",
              "    </div>\n",
              "  </div>\n",
              "  "
            ]
          },
          "metadata": {},
          "execution_count": 34
        }
      ],
      "source": [
        "visitorsADaily = visitors[visitors['group'] == 'A'][['date', 'visitors']]\n",
        "visitorsADaily.columns = ['date', 'visitorsPerDateA']\n",
        "\n",
        "visitorsACummulative = visitorsADaily.apply(\n",
        "    lambda x: visitorsADaily[visitorsADaily['date'] <= x['date']].agg(\n",
        "        {'date': 'max', 'visitorsPerDateA': 'sum'}\n",
        "    ),\n",
        "    axis=1,\n",
        ")\n",
        "visitorsACummulative.columns = ['date', 'visitorsCummulativeA']\n",
        "\n",
        "visitorsBDaily = visitors[visitors['group'] == 'B'][['date', 'visitors']]\n",
        "visitorsBDaily.columns = ['date', 'visitorsPerDateB']\n",
        "\n",
        "visitorsBCummulative = visitorsBDaily.apply(\n",
        "    lambda x: visitorsBDaily[visitorsBDaily['date'] <= x['date']].agg(\n",
        "        {'date': 'max', 'visitorsPerDateB': 'sum'}\n",
        "    ),\n",
        "    axis=1,\n",
        ")\n",
        "visitorsBCummulative.columns = ['date', 'visitorsCummulativeB']\n",
        "\n",
        "ordersADaily = (\n",
        "    orders[orders['group'] == 'A'][['date', 'transactionId', 'visitorId', 'revenue']]\n",
        "    .groupby('date', as_index=False)\n",
        "    .agg({'transactionId': pd.Series.nunique, 'revenue': 'sum'})\n",
        ")\n",
        "ordersADaily.columns = ['date', 'ordersPerDateA', 'revenuePerDateA']\n",
        "\n",
        "ordersACummulative = ordersADaily.apply(\n",
        "    lambda x: ordersADaily[ordersADaily['date'] <= x['date']].agg(\n",
        "        {'date': 'max', 'ordersPerDateA': 'sum', 'revenuePerDateA': 'sum'}\n",
        "    ),\n",
        "    axis=1,\n",
        ").sort_values(by=['date'])\n",
        "ordersACummulative.columns = [\n",
        "    'date',\n",
        "    'ordersCummulativeA',\n",
        "    'revenueCummulativeA',\n",
        "]\n",
        "\n",
        "ordersBDaily = (\n",
        "    orders[orders['group'] == 'B'][['date', 'transactionId', 'visitorId', 'revenue']]\n",
        "    .groupby('date', as_index=False)\n",
        "    .agg({'transactionId': pd.Series.nunique, 'revenue': 'sum'})\n",
        ")\n",
        "ordersBDaily.columns = ['date', 'ordersPerDateB', 'revenuePerDateB']\n",
        "\n",
        "ordersBCummulative = ordersBDaily.apply(\n",
        "    lambda x: ordersBDaily[ordersBDaily['date'] <= x['date']].agg(\n",
        "        {'date': 'max', 'ordersPerDateB': 'sum', 'revenuePerDateB': 'sum'}\n",
        "    ),\n",
        "    axis=1,\n",
        ").sort_values(by=['date'])\n",
        "ordersBCummulative.columns = [\n",
        "    'date',\n",
        "    'ordersCummulativeB',\n",
        "    'revenueCummulativeB',\n",
        "]\n",
        "\n",
        "data = (\n",
        "    ordersADaily.merge(\n",
        "        ordersBDaily, left_on='date', right_on='date', how='left'\n",
        "    )\n",
        "    .merge(ordersACummulative, left_on='date', right_on='date', how='left')\n",
        "    .merge(ordersBCummulative, left_on='date', right_on='date', how='left')\n",
        "    .merge(visitorsADaily, left_on='date', right_on='date', how='left')\n",
        "    .merge(visitorsBDaily, left_on='date', right_on='date', how='left')\n",
        "    .merge(visitorsACummulative, left_on='date', right_on='date', how='left')\n",
        "    .merge(visitorsBCummulative, left_on='date', right_on='date', how='left')\n",
        ")\n",
        "\n",
        "data.head(5)"
      ]
    },
    {
      "cell_type": "markdown",
      "metadata": {
        "id": "5-r8R8NFyhtd"
      },
      "source": [
        "Получилась таблица со следующими строками:"
      ]
    },
    {
      "cell_type": "markdown",
      "metadata": {
        "id": "ar1BebfAyhtd"
      },
      "source": [
        "\n",
        "<div>\n",
        "\n",
        "* <code>date</code> — дата;\n",
        "\n",
        "* <code>ordersPerDateA</code> — количество заказов в выбранную дату в группе A;\n",
        "\n",
        "* <code>revenuePerDateA</code> — суммарная выручка в выбранную дату в группе A;\n",
        "\n",
        "* <code>ordersPerDateB</code> — количество заказов в выбранную дату в группе B;\n",
        "    \n",
        "* <code>revenuePerDateB</code> — суммарная выручка в выбранную дату в группе B;\n",
        "    \n",
        "* <code>ordersCummulativeA</code> — суммарное число заказов до выбранной даты включительно в группе A;\n",
        "\n",
        "* <code>revenueCummulativeA</code> — суммарная выручка до выбранной даты включительно в группе A;\n",
        "\n",
        "* <code>ordersCummulativeB</code> — суммарное количество заказов до выбранной даты включительно в группе B;\n",
        "\n",
        "* <code>revenueCummulativeB</code> — уммарная выручка до выбранной даты включительно в группе B;\n",
        "    \n",
        "* <code>visitorsPerDateA</code> — количество пользователей в выбранную дату в группе A;\n",
        "    \n",
        "* <code>visitorsPerDateB</code> — количество пользователей в выбранную дату в группе B;\n",
        "\n",
        "* <code>visitorsCummulativeA</code> — количество пользователей до выбранной даты включительно в группе A;\n",
        "\n",
        "* <code>visitorsCummulativeB</code> — количество пользователей до выбранной даты включительно в группе B.\n",
        "\n",
        "</div>"
      ]
    },
    {
      "cell_type": "markdown",
      "metadata": {
        "id": "uAK9KeDByhte"
      },
      "source": [
        "Создадим переменные <code>ordersByUsersA</code> и <code>ordersByUsersB</code> со столбцами <code>['visitor_id', 'orders']</code>. В них для пользователей, которые заказывали хотя бы 1 раз, укажем число совершённых заказов. "
      ]
    },
    {
      "cell_type": "code",
      "execution_count": 35,
      "metadata": {
        "id": "cUOqjsnByhte"
      },
      "outputs": [],
      "source": [
        "ordersByUsersA = (\n",
        "    orders[orders['group'] == 'A']\n",
        "    .groupby('visitorId', as_index=False)\n",
        "    .agg({'transactionId': pd.Series.nunique})\n",
        ")\n",
        "ordersByUsersA.columns = ['visitorId', 'orders']\n",
        "\n",
        "ordersByUsersB = (\n",
        "    orders[orders['group'] == 'B']\n",
        "    .groupby('visitorId', as_index=False)\n",
        "    .agg({'transactionId': pd.Series.nunique})\n",
        ")\n",
        "ordersByUsersB.columns = ['visitorId', 'orders']"
      ]
    },
    {
      "cell_type": "markdown",
      "metadata": {
        "id": "O3OFPfO7yhte"
      },
      "source": [
        "Объявим переменные <code>sampleA</code> и <code>sampleB</code>, в которых пользователям из разных групп будет соответствовать количество заказов. Тем, кто ничего не заказал, будут соответствовать нули. Это нужно, чтобы подготовить выборки к проверке критерием Манна-Уитни."
      ]
    },
    {
      "cell_type": "code",
      "execution_count": 36,
      "metadata": {
        "id": "v-CmAPONyhte"
      },
      "outputs": [],
      "source": [
        "sampleA = pd.concat([ordersByUsersA['orders'],\n",
        "                     pd.Series(0, index=np.arange(data['visitorsPerDateA'].sum() - len(ordersByUsersA['orders'])), \n",
        "                               name='orders')],axis=0)\n",
        "\n",
        "sampleB = pd.concat([ordersByUsersB['orders'],\n",
        "                     pd.Series(0, index=np.arange(data['visitorsPerDateB'].sum() - len(ordersByUsersB['orders'])), \n",
        "                               name='orders')],axis=0)"
      ]
    },
    {
      "cell_type": "markdown",
      "metadata": {
        "id": "D8FaNgB1yhte"
      },
      "source": [
        "Создадим функцию для проверки стат значимости со следующими параметрами:"
      ]
    },
    {
      "cell_type": "markdown",
      "metadata": {
        "id": "L4-dto46yhte"
      },
      "source": [
        "<div>\n",
        "\n",
        "* Установим уровень значимости alpha = 0.05;\n",
        "\n",
        "* Воспользуемсмя критерием Манна-Уитни;\n",
        "\n",
        "* Округлим значение p-value до трех знаков после запятой.\n",
        "    \n",
        "* Выведем относительный прирост среднего числа заказов группы B: <code>среднее число заказов группы B / среднее число заказов группы A - 1.</code>  Округлим до трёх знаков после запятой.   \n",
        "\n",
        "</div>"
      ]
    },
    {
      "cell_type": "code",
      "execution_count": 37,
      "metadata": {
        "id": "YNqGzThVyhtf"
      },
      "outputs": [],
      "source": [
        "# Функция для проверки гипотезы о равенстве групп data A и data B\n",
        "def stat_significance(data_a, data_b):\n",
        "    alpha = 0.05\n",
        "    p_value = stats.mannwhitneyu(data_a, data_b)[1]\n",
        "    print(\"P-value: {0:.3f}\".format(p_value))\n",
        "\n",
        "    if (p_value < alpha):\n",
        "        print(\"Отвергаем нулевую гипотезу: между группами есть разница\")\n",
        "    else:\n",
        "        print(\"Не получилось отвергнуть нулевую гипотезу, нет оснований считать группы разными\")\n",
        "    \n",
        "    print(\"Относительный прирост В к А: {0:.3%}\".format(data_b.mean() / data_a.mean()-1))"
      ]
    },
    {
      "cell_type": "code",
      "execution_count": 38,
      "metadata": {
        "colab": {
          "base_uri": "https://localhost:8080/"
        },
        "id": "cyIZlwRQyhtf",
        "outputId": "032cc9f2-4c0e-42aa-cdcb-b2e0aaa1d58b"
      },
      "outputs": [
        {
          "output_type": "stream",
          "name": "stdout",
          "text": [
            "P-value: 0.011\n",
            "Отвергаем нулевую гипотезу: между группами есть разница\n",
            "Относительный прирост В к А: 15.980%\n"
          ]
        }
      ],
      "source": [
        "stat_significance(sampleA, sampleB)"
      ]
    },
    {
      "cell_type": "markdown",
      "metadata": {
        "id": "E48Ig7w1yhtf"
      },
      "source": [
        "По неочищенным данным различия в среднем количестве заказов на посетителя между группами есть.\n",
        "P-value = 0.011 меньше 0.05. Значит, нулевую гипотезу о том, что статистически значимых различий между группами нет, отвергаем. Относительный выигрыш группы B равен 16%."
      ]
    },
    {
      "cell_type": "markdown",
      "metadata": {
        "id": "499gPjHSyhtg"
      },
      "source": [
        "<b>Посчитаем статистическую значимость различий в среднем чеке заказа между группами по «сырым» данным.</b>"
      ]
    },
    {
      "cell_type": "markdown",
      "metadata": {
        "id": "WDiQVypiyhtg"
      },
      "source": [
        "Сформулируем гипотезы:<br>\n",
        "<b>H0: различий в среднем чеке заказа между группами нет</b><br>\n",
        "<b>Н1: различия в среднем чеке заказа между группами есть</b>"
      ]
    },
    {
      "cell_type": "markdown",
      "metadata": {
        "id": "xh3gr1wvyhtg"
      },
      "source": [
        "Уровень значимости alpha = 0.05"
      ]
    },
    {
      "cell_type": "code",
      "execution_count": 39,
      "metadata": {
        "colab": {
          "base_uri": "https://localhost:8080/"
        },
        "id": "swgLJAntyhtg",
        "outputId": "14326066-376d-444c-f9c9-c5da6fdb5a73"
      },
      "outputs": [
        {
          "output_type": "stream",
          "name": "stdout",
          "text": [
            "P-value: 0.829\n",
            "Не получилось отвергнуть нулевую гипотезу, нет оснований считать группы разными\n",
            "Относительный прирост В к А: 28.660%\n"
          ]
        }
      ],
      "source": [
        "stat_significance(orders[orders['group']=='A']['revenue'], orders[orders['group']=='B']['revenue'])"
      ]
    },
    {
      "cell_type": "markdown",
      "metadata": {
        "id": "qWP4N5zgyhtg"
      },
      "source": [
        "p-value значительно больше alpha, причин отвергнуть нулевую гипотезу у нас нет. Несмотря на это, средний чек группы В на 28% выше чека в группе А."
      ]
    },
    {
      "cell_type": "markdown",
      "metadata": {
        "id": "7mvCF5I6yhth"
      },
      "source": [
        "<b>Посчитаем статистическую значимость различий в среднем количестве заказов на посетителя между группами по «очищенным» данным. </b>"
      ]
    },
    {
      "cell_type": "markdown",
      "metadata": {
        "id": "1ReMVj79yhth"
      },
      "source": [
        "Примем за аномальных пользователей тех, кто совершил от 5 заказов или совершил заказ дороже 53904. Так мы уберём 1% пользователей с наибольшим числом заказов и от 1% пользователей с дорогими заказами. Сделаем срезы пользователей с числом заказов больше 4 — <code>users_with_many_orders</code> и пользователей, совершивших заказы дороже 53904 — <code>users_with_expensive_orders</code>. Объединим их в таблице <code>abnormal_users</code>.\n",
        "Узнаем, сколько всего аномальных пользователей методом <code>shape()</code>."
      ]
    },
    {
      "cell_type": "code",
      "execution_count": 40,
      "metadata": {
        "colab": {
          "base_uri": "https://localhost:8080/",
          "height": 138
        },
        "id": "Hmz4i-qmyhth",
        "outputId": "77502615-ab4c-42f1-e9e4-ec4ba7fdf869"
      },
      "outputs": [
        {
          "output_type": "display_data",
          "data": {
            "text/plain": [
              "937    148427295\n",
              "33     249864742\n",
              "58     611059232\n",
              "811    887908475\n",
              "632    888512513\n",
              "Name: visitorId, dtype: int64"
            ]
          },
          "metadata": {}
        },
        {
          "output_type": "execute_result",
          "data": {
            "text/plain": [
              "16"
            ]
          },
          "metadata": {},
          "execution_count": 40
        }
      ],
      "source": [
        "many_orders = np.percentile(ordersByUsers['orders'], 99)\n",
        "expensive_orders = np.percentile(orders['revenue'], 99)\n",
        "\n",
        "\n",
        "users_with_many_orders = pd.concat(\n",
        "    [\n",
        "        ordersByUsersA[ordersByUsersA['orders'] > many_orders]['visitorId'],\n",
        "        ordersByUsersB[ordersByUsersB['orders'] > many_orders]['visitorId'],\n",
        "    ],\n",
        "    axis=0,\n",
        ")\n",
        "\n",
        "\n",
        "users_with_expensive_orders = orders[orders['revenue'] > expensive_orders]['visitorId']\n",
        "\n",
        "\n",
        "abnormal_users = (\n",
        "    pd.concat([users_with_many_orders, users_with_expensive_orders], axis=0)\n",
        "    .drop_duplicates()\n",
        "    .sort_values()\n",
        ")\n",
        "display(abnormal_users.head(5))\n",
        "abnormal_users.shape[0]"
      ]
    },
    {
      "cell_type": "code",
      "execution_count": 41,
      "metadata": {
        "colab": {
          "base_uri": "https://localhost:8080/"
        },
        "id": "foN7iK1-yhth",
        "outputId": "a14479fa-1fc4-4e1a-cb62-3750aee7ec14"
      },
      "outputs": [
        {
          "output_type": "execute_result",
          "data": {
            "text/plain": [
              "0.01644398766700925"
            ]
          },
          "metadata": {},
          "execution_count": 41
        }
      ],
      "source": [
        "#Посмотрим на относительное значение потерь пользователей после фильтрации\n",
        "abnormal_users.count() / orders.visitorId.nunique()"
      ]
    },
    {
      "cell_type": "markdown",
      "metadata": {
        "id": "jkVoRnjIyhth"
      },
      "source": [
        "Относительное количество потерь пользователей после фильтрации - 1.6 %"
      ]
    },
    {
      "cell_type": "markdown",
      "metadata": {
        "id": "zdSm9WnNyhth"
      },
      "source": [
        "Всего у нас 16 аномальных пользователей. Узнаем, как их действия повлияли на результаты теста. Посчитаем статистическую значимость различий в среднем количестве заказов между группами теста по очищенным данным. Сначала подготовим выборки количества заказов по пользователям по группам теста:"
      ]
    },
    {
      "cell_type": "code",
      "execution_count": 42,
      "metadata": {
        "id": "bqfYFwhGyhti"
      },
      "outputs": [],
      "source": [
        "sample_a_filtered = pd.concat(\n",
        "    [\n",
        "        ordersByUsersA[\n",
        "            np.logical_not(ordersByUsersA['visitorId'].isin(abnormal_users))\n",
        "        ]['orders'],\n",
        "        pd.Series(\n",
        "            0,\n",
        "            index=np.arange(\n",
        "                data['visitorsPerDateA'].sum() - len(ordersByUsersA['orders'])\n",
        "            ),\n",
        "            name='orders',\n",
        "        ),\n",
        "    ],\n",
        "    axis=0,\n",
        ")\n",
        "\n",
        "sample_b_filtered = pd.concat(\n",
        "    [\n",
        "        ordersByUsersB[\n",
        "            np.logical_not(ordersByUsersB['visitorId'].isin(abnormal_users))\n",
        "        ]['orders'],\n",
        "        pd.Series(\n",
        "            0,\n",
        "            index=np.arange(\n",
        "                data['visitorsPerDateB'].sum() - len(ordersByUsersB['orders'])\n",
        "            ),\n",
        "            name='orders',\n",
        "        ),\n",
        "    ],\n",
        "    axis=0,\n",
        ")"
      ]
    },
    {
      "cell_type": "code",
      "execution_count": 43,
      "metadata": {
        "colab": {
          "base_uri": "https://localhost:8080/"
        },
        "id": "D1DUlFbtyhti",
        "outputId": "80a5267f-e04b-4ec6-b740-a663bea8674d"
      },
      "outputs": [
        {
          "output_type": "stream",
          "name": "stdout",
          "text": [
            "P-value: 0.007\n",
            "Отвергаем нулевую гипотезу: между группами есть разница\n",
            "Относительный прирост В к А: 18.921%\n"
          ]
        }
      ],
      "source": [
        "stat_significance(sample_a_filtered, sample_b_filtered)"
      ]
    },
    {
      "cell_type": "markdown",
      "metadata": {
        "id": "t43heuWDyhtj"
      },
      "source": [
        "p-value ниже значения alpha в 0.05, следовательно, отвергаем нулевую гипотезу. На очищенных данных различия в среднем количестве заказов на посетителя группы В к группе А составили 19%."
      ]
    },
    {
      "cell_type": "markdown",
      "metadata": {
        "id": "fbmcCn1Jyhtj"
      },
      "source": [
        "<b>Посчитаем статистическую значимость различий в среднем чеке заказа между группами по «очищенным» данным</b>"
      ]
    },
    {
      "cell_type": "code",
      "execution_count": 44,
      "metadata": {
        "colab": {
          "base_uri": "https://localhost:8080/"
        },
        "id": "iT8kKyIeyhtk",
        "outputId": "9c721f18-9f5b-4bbe-98b9-4af43257e969"
      },
      "outputs": [
        {
          "output_type": "stream",
          "name": "stdout",
          "text": [
            "P-value: 0.788\n",
            "Не получилось отвергнуть нулевую гипотезу, нет оснований считать группы разными\n",
            "Относительный прирост В к А: -3.234%\n"
          ]
        }
      ],
      "source": [
        "stat_significance(\n",
        "    orders[(orders['group']=='A') & np.logical_not(orders['visitorId'].isin(abnormal_users))]['revenue'], \n",
        "    orders[(orders['group']=='B') & np.logical_not(orders['visitorId'].isin(abnormal_users))]['revenue']\n",
        "                  )"
      ]
    },
    {
      "cell_type": "markdown",
      "metadata": {
        "id": "Q4tjafybyhtk"
      },
      "source": [
        "p-value выше значения alpha в 0.05, следовательно, не можем отвергнуть нулевую гипотезу. На очищенных данных видим, что разницы между средними чеками составляет 3 процента в пользу группы А"
      ]
    },
    {
      "cell_type": "markdown",
      "metadata": {
        "id": "QAq-oWw4yhtk"
      },
      "source": [
        "## Выводы"
      ]
    },
    {
      "cell_type": "markdown",
      "metadata": {
        "id": "xO0yP_vHyhtk"
      },
      "source": [
        "Исходя из предоставленных входных данных интернет-магазина, были проведены исследования, и ниже приведены рекомендации."
      ]
    },
    {
      "cell_type": "markdown",
      "metadata": {
        "id": "c_PAFkO3yhtk"
      },
      "source": [
        "<b>Часть 1. Приоретизация гипотез</b>\n",
        "\n",
        "<br>\n",
        "Приоритезация гипотез из списка, предоставленного отделом Маркетинга, должна начинаться с гипотез:\n",
        "<div>\n",
        "\n",
        "* \"Запустить акцию, дающую скидку на товар в день рождения\",\n",
        "\n",
        "* \"Добавить два новых канала привлечения трафика, что позволит привлекать на 30% больше пользователей\",\n",
        "\n",
        "* \"Добавить форму подписки на все основные страницы, чтобы собрать базу клиентов для email-рассылок\".\n",
        "\n",
        "</div>"
      ]
    },
    {
      "cell_type": "markdown",
      "metadata": {
        "id": "cR9vgNceyhtl"
      },
      "source": [
        "Если при ранжировании гипотез необходимо учитывать охват пользователей интернет-магазина, то места должны быть распределены следующим образом:\n",
        "<div>\n",
        "\n",
        "* \"Добавить форму подписки на все основные страницы, чтобы собрать базу клиентов для email-рассылок\",\n",
        "\n",
        "* \"Добавить блоки рекомендаций товаров на сайт интернет-магазина, чтобы повысить конверсию и средний чек заказа\",\n",
        "\n",
        "* \"Добавить два новых канала привлечения трафика, что позволит привлекать на 30% больше пользователей\".\n",
        "\n",
        "</div>"
      ]
    },
    {
      "cell_type": "markdown",
      "metadata": {
        "id": "S36l71ifyhtl"
      },
      "source": [
        "<b>Часть 2. Анализ результатов А/В-теста</b>"
      ]
    },
    {
      "cell_type": "markdown",
      "metadata": {
        "id": "13reTtMkyhtl"
      },
      "source": [
        "Анализ А/В теста показал следующее:\n",
        "<div>\n",
        "\n",
        "* Между группами есть статистически значимое различие по среднему количеству заказов на посетителя как по «сырым», так и по данным после фильтрации аномалий. Конверсия группы В на 16-19% выше, чем у группы А.\n",
        "\n",
        "* Нет статистически значимого различия по среднему чеку между группами ни по «сырым», ни по данным после фильтрации аномалий.\n",
        "\n",
        "* График относительного изменения кумулятивной конверсии группы B к группе A показывает, что результаты группы В стабильно лучше группы А.\n",
        "\n",
        "</div>"
      ]
    },
    {
      "cell_type": "markdown",
      "metadata": {
        "id": "5j4EE4B8yhtl"
      },
      "source": [
        "Основываясь на этом, рекомендуется остановить тест и зафиксировать победу группы В, так как ее среднее количество заказов на посетителя значительно выше, чем у группы А."
      ]
    }
  ],
  "metadata": {
    "ExecuteTimeLog": [
      {
        "duration": 864,
        "start_time": "2023-04-25T18:56:06.069Z"
      },
      {
        "duration": 102,
        "start_time": "2023-04-25T19:08:11.908Z"
      },
      {
        "duration": 15,
        "start_time": "2023-04-25T19:13:01.682Z"
      },
      {
        "duration": 54,
        "start_time": "2023-04-25T19:14:35.549Z"
      },
      {
        "duration": 16,
        "start_time": "2023-04-25T19:14:50.658Z"
      },
      {
        "duration": 11,
        "start_time": "2023-04-25T19:16:16.950Z"
      },
      {
        "duration": 130,
        "start_time": "2023-04-25T19:16:52.942Z"
      },
      {
        "duration": 12,
        "start_time": "2023-04-25T19:17:12.455Z"
      },
      {
        "duration": 10,
        "start_time": "2023-04-25T19:18:27.527Z"
      },
      {
        "duration": 11,
        "start_time": "2023-04-25T19:18:36.535Z"
      },
      {
        "duration": 8,
        "start_time": "2023-04-25T19:21:06.943Z"
      },
      {
        "duration": 5,
        "start_time": "2023-04-25T19:21:35.531Z"
      },
      {
        "duration": 5,
        "start_time": "2023-04-25T19:23:29.329Z"
      },
      {
        "duration": 48,
        "start_time": "2023-04-25T19:24:10.633Z"
      },
      {
        "duration": 1018,
        "start_time": "2023-04-30T11:23:55.068Z"
      },
      {
        "duration": 113,
        "start_time": "2023-04-30T11:23:56.089Z"
      },
      {
        "duration": 30,
        "start_time": "2023-04-30T11:23:56.204Z"
      },
      {
        "duration": 12,
        "start_time": "2023-04-30T11:23:56.239Z"
      },
      {
        "duration": 12,
        "start_time": "2023-04-30T11:23:56.257Z"
      },
      {
        "duration": 9,
        "start_time": "2023-04-30T11:23:56.274Z"
      },
      {
        "duration": 34,
        "start_time": "2023-04-30T11:23:56.285Z"
      },
      {
        "duration": 136,
        "start_time": "2023-04-30T12:01:50.656Z"
      },
      {
        "duration": 16,
        "start_time": "2023-04-30T12:01:55.618Z"
      },
      {
        "duration": 11,
        "start_time": "2023-04-30T12:02:03.074Z"
      },
      {
        "duration": 10,
        "start_time": "2023-04-30T12:02:15.648Z"
      },
      {
        "duration": 73,
        "start_time": "2023-04-30T12:02:32.869Z"
      },
      {
        "duration": 21,
        "start_time": "2023-04-30T12:02:34.538Z"
      },
      {
        "duration": 64,
        "start_time": "2023-04-30T12:03:01.157Z"
      },
      {
        "duration": 8,
        "start_time": "2023-04-30T12:03:02.660Z"
      },
      {
        "duration": 642,
        "start_time": "2023-04-30T12:04:31.712Z"
      },
      {
        "duration": 116,
        "start_time": "2023-04-30T12:04:53.583Z"
      },
      {
        "duration": 30,
        "start_time": "2023-04-30T12:32:46.263Z"
      },
      {
        "duration": 51,
        "start_time": "2023-04-30T12:36:27.880Z"
      },
      {
        "duration": 342,
        "start_time": "2023-04-30T12:36:58.033Z"
      },
      {
        "duration": 34,
        "start_time": "2023-04-30T12:40:53.093Z"
      },
      {
        "duration": 640,
        "start_time": "2023-04-30T12:41:08.256Z"
      },
      {
        "duration": 1115,
        "start_time": "2023-04-30T12:41:16.738Z"
      },
      {
        "duration": 107,
        "start_time": "2023-04-30T12:41:17.855Z"
      },
      {
        "duration": 12,
        "start_time": "2023-04-30T12:41:17.967Z"
      },
      {
        "duration": 34,
        "start_time": "2023-04-30T12:41:17.981Z"
      },
      {
        "duration": 29,
        "start_time": "2023-04-30T12:41:18.017Z"
      },
      {
        "duration": 11,
        "start_time": "2023-04-30T12:41:18.048Z"
      },
      {
        "duration": 16,
        "start_time": "2023-04-30T12:41:18.060Z"
      },
      {
        "duration": 134,
        "start_time": "2023-04-30T12:41:18.078Z"
      },
      {
        "duration": 362,
        "start_time": "2023-04-30T12:41:18.213Z"
      },
      {
        "duration": 362,
        "start_time": "2023-04-30T12:41:18.576Z"
      },
      {
        "duration": 251,
        "start_time": "2023-04-30T12:41:56.125Z"
      },
      {
        "duration": 214,
        "start_time": "2023-04-30T12:43:34.646Z"
      },
      {
        "duration": 216,
        "start_time": "2023-04-30T12:44:26.244Z"
      },
      {
        "duration": 237,
        "start_time": "2023-04-30T12:44:40.775Z"
      },
      {
        "duration": 212,
        "start_time": "2023-04-30T12:44:48.767Z"
      },
      {
        "duration": 303,
        "start_time": "2023-04-30T12:45:31.632Z"
      },
      {
        "duration": 335,
        "start_time": "2023-04-30T12:51:26.690Z"
      },
      {
        "duration": 270,
        "start_time": "2023-04-30T12:53:26.580Z"
      },
      {
        "duration": 337,
        "start_time": "2023-04-30T12:56:53.742Z"
      },
      {
        "duration": 434,
        "start_time": "2023-04-30T12:57:16.524Z"
      },
      {
        "duration": 304,
        "start_time": "2023-04-30T12:59:04.775Z"
      },
      {
        "duration": 321,
        "start_time": "2023-04-30T12:59:11.991Z"
      },
      {
        "duration": 332,
        "start_time": "2023-04-30T12:59:16.257Z"
      },
      {
        "duration": 241,
        "start_time": "2023-04-30T13:03:25.931Z"
      },
      {
        "duration": 306,
        "start_time": "2023-04-30T13:03:35.162Z"
      },
      {
        "duration": 281,
        "start_time": "2023-04-30T13:03:47.956Z"
      },
      {
        "duration": 126,
        "start_time": "2023-04-30T13:08:50.244Z"
      },
      {
        "duration": 16,
        "start_time": "2023-04-30T13:10:16.324Z"
      },
      {
        "duration": 62,
        "start_time": "2023-04-30T13:10:25.844Z"
      },
      {
        "duration": 138,
        "start_time": "2023-04-30T13:10:52.525Z"
      },
      {
        "duration": 175,
        "start_time": "2023-04-30T13:11:46.991Z"
      },
      {
        "duration": 88,
        "start_time": "2023-04-30T13:12:09.468Z"
      },
      {
        "duration": 139,
        "start_time": "2023-04-30T13:12:15.636Z"
      },
      {
        "duration": 368,
        "start_time": "2023-04-30T13:12:26.437Z"
      },
      {
        "duration": 319,
        "start_time": "2023-04-30T13:13:46.851Z"
      },
      {
        "duration": 310,
        "start_time": "2023-04-30T13:14:05.551Z"
      },
      {
        "duration": 16,
        "start_time": "2023-04-30T15:35:36.641Z"
      },
      {
        "duration": 177,
        "start_time": "2023-04-30T15:36:21.346Z"
      },
      {
        "duration": 262,
        "start_time": "2023-04-30T15:36:46.821Z"
      },
      {
        "duration": 153,
        "start_time": "2023-04-30T15:36:53.661Z"
      },
      {
        "duration": 192,
        "start_time": "2023-04-30T15:37:09.957Z"
      },
      {
        "duration": 9,
        "start_time": "2023-04-30T15:48:08.439Z"
      },
      {
        "duration": 16,
        "start_time": "2023-04-30T15:48:15.937Z"
      },
      {
        "duration": 183,
        "start_time": "2023-04-30T15:49:01.968Z"
      },
      {
        "duration": 203,
        "start_time": "2023-04-30T15:49:14.565Z"
      },
      {
        "duration": 170,
        "start_time": "2023-04-30T15:49:20.535Z"
      },
      {
        "duration": 221,
        "start_time": "2023-04-30T15:50:07.733Z"
      },
      {
        "duration": 9,
        "start_time": "2023-04-30T15:53:02.169Z"
      },
      {
        "duration": 23,
        "start_time": "2023-04-30T15:56:10.878Z"
      },
      {
        "duration": 25,
        "start_time": "2023-04-30T15:56:43.651Z"
      },
      {
        "duration": 19,
        "start_time": "2023-04-30T15:56:50.561Z"
      },
      {
        "duration": 28,
        "start_time": "2023-04-30T16:00:25.270Z"
      },
      {
        "duration": 17,
        "start_time": "2023-04-30T16:00:48.372Z"
      },
      {
        "duration": 31,
        "start_time": "2023-04-30T16:01:20.040Z"
      },
      {
        "duration": 35,
        "start_time": "2023-04-30T16:01:25.570Z"
      },
      {
        "duration": 199,
        "start_time": "2023-04-30T16:03:35.116Z"
      },
      {
        "duration": 250,
        "start_time": "2023-04-30T16:03:50.226Z"
      },
      {
        "duration": 9,
        "start_time": "2023-04-30T16:04:40.187Z"
      },
      {
        "duration": 9,
        "start_time": "2023-04-30T16:05:01.558Z"
      },
      {
        "duration": 32,
        "start_time": "2023-04-30T16:05:15.639Z"
      },
      {
        "duration": 17,
        "start_time": "2023-04-30T16:05:25.767Z"
      },
      {
        "duration": 28,
        "start_time": "2023-04-30T16:05:47.254Z"
      },
      {
        "duration": 374,
        "start_time": "2023-04-30T16:05:53.334Z"
      },
      {
        "duration": 34,
        "start_time": "2023-04-30T16:05:57.772Z"
      },
      {
        "duration": 20,
        "start_time": "2023-04-30T16:06:10.460Z"
      },
      {
        "duration": 15,
        "start_time": "2023-04-30T16:07:15.381Z"
      },
      {
        "duration": 224,
        "start_time": "2023-04-30T16:11:38.685Z"
      },
      {
        "duration": 233,
        "start_time": "2023-04-30T16:13:11.049Z"
      },
      {
        "duration": 334,
        "start_time": "2023-04-30T16:13:21.723Z"
      },
      {
        "duration": 261,
        "start_time": "2023-04-30T16:13:29.276Z"
      },
      {
        "duration": 7,
        "start_time": "2023-04-30T16:31:51.144Z"
      },
      {
        "duration": 137,
        "start_time": "2023-04-30T17:05:43.220Z"
      },
      {
        "duration": 132,
        "start_time": "2023-04-30T17:06:53.357Z"
      },
      {
        "duration": 169,
        "start_time": "2023-04-30T17:07:31.958Z"
      },
      {
        "duration": 137,
        "start_time": "2023-04-30T17:08:37.824Z"
      },
      {
        "duration": 204,
        "start_time": "2023-04-30T17:09:36.233Z"
      },
      {
        "duration": 252,
        "start_time": "2023-04-30T17:10:16.871Z"
      },
      {
        "duration": 258,
        "start_time": "2023-04-30T17:10:31.331Z"
      },
      {
        "duration": 41,
        "start_time": "2023-04-30T17:19:08.520Z"
      },
      {
        "duration": 15,
        "start_time": "2023-04-30T17:19:32.871Z"
      },
      {
        "duration": 215,
        "start_time": "2023-04-30T17:20:19.552Z"
      },
      {
        "duration": 12,
        "start_time": "2023-04-30T17:22:17.145Z"
      },
      {
        "duration": 8,
        "start_time": "2023-04-30T17:30:23.948Z"
      },
      {
        "duration": 11,
        "start_time": "2023-04-30T17:30:30.475Z"
      },
      {
        "duration": 54,
        "start_time": "2023-04-30T17:30:41.232Z"
      },
      {
        "duration": 8,
        "start_time": "2023-04-30T17:35:01.866Z"
      },
      {
        "duration": 19,
        "start_time": "2023-04-30T17:42:32.939Z"
      },
      {
        "duration": 14,
        "start_time": "2023-04-30T17:44:07.843Z"
      },
      {
        "duration": 1222,
        "start_time": "2023-04-30T17:44:19.550Z"
      },
      {
        "duration": 140,
        "start_time": "2023-04-30T17:45:24.744Z"
      },
      {
        "duration": 1108,
        "start_time": "2023-04-30T17:45:33.821Z"
      },
      {
        "duration": 119,
        "start_time": "2023-04-30T17:45:34.939Z"
      },
      {
        "duration": 11,
        "start_time": "2023-04-30T17:45:35.060Z"
      },
      {
        "duration": 23,
        "start_time": "2023-04-30T17:45:35.073Z"
      },
      {
        "duration": 18,
        "start_time": "2023-04-30T17:45:35.104Z"
      },
      {
        "duration": 10,
        "start_time": "2023-04-30T17:45:35.127Z"
      },
      {
        "duration": 13,
        "start_time": "2023-04-30T17:45:35.142Z"
      },
      {
        "duration": 111,
        "start_time": "2023-04-30T17:45:35.157Z"
      },
      {
        "duration": 320,
        "start_time": "2023-04-30T17:45:35.270Z"
      },
      {
        "duration": 369,
        "start_time": "2023-04-30T17:45:35.593Z"
      },
      {
        "duration": 268,
        "start_time": "2023-04-30T17:45:35.963Z"
      },
      {
        "duration": 335,
        "start_time": "2023-04-30T17:45:36.233Z"
      },
      {
        "duration": 295,
        "start_time": "2023-04-30T17:45:36.570Z"
      },
      {
        "duration": 385,
        "start_time": "2023-04-30T17:45:36.868Z"
      },
      {
        "duration": 16,
        "start_time": "2023-04-30T17:45:37.262Z"
      },
      {
        "duration": 201,
        "start_time": "2023-04-30T17:45:37.281Z"
      },
      {
        "duration": 5,
        "start_time": "2023-04-30T17:45:37.484Z"
      },
      {
        "duration": 26,
        "start_time": "2023-04-30T17:45:37.491Z"
      },
      {
        "duration": 209,
        "start_time": "2023-04-30T17:45:37.521Z"
      },
      {
        "duration": 238,
        "start_time": "2023-04-30T17:45:37.732Z"
      },
      {
        "duration": 8,
        "start_time": "2023-04-30T17:45:37.975Z"
      },
      {
        "duration": 339,
        "start_time": "2023-04-30T17:45:37.985Z"
      },
      {
        "duration": 169,
        "start_time": "2023-04-30T17:45:38.326Z"
      },
      {
        "duration": 10,
        "start_time": "2023-04-30T17:45:38.496Z"
      },
      {
        "duration": 6,
        "start_time": "2023-04-30T17:45:38.509Z"
      },
      {
        "duration": 63,
        "start_time": "2023-04-30T17:45:38.517Z"
      },
      {
        "duration": 21,
        "start_time": "2023-04-30T17:45:38.582Z"
      },
      {
        "duration": 16,
        "start_time": "2023-04-30T17:45:38.612Z"
      },
      {
        "duration": 151,
        "start_time": "2023-04-30T17:48:53.584Z"
      },
      {
        "duration": 22,
        "start_time": "2023-04-30T17:49:12.618Z"
      },
      {
        "duration": 16,
        "start_time": "2023-04-30T17:49:24.746Z"
      },
      {
        "duration": 44,
        "start_time": "2023-04-30T17:49:37.824Z"
      },
      {
        "duration": 1354,
        "start_time": "2023-04-30T17:52:48.414Z"
      },
      {
        "duration": 35,
        "start_time": "2023-04-30T17:52:57.491Z"
      },
      {
        "duration": 1195,
        "start_time": "2023-04-30T18:21:12.870Z"
      },
      {
        "duration": 146,
        "start_time": "2023-04-30T18:21:14.071Z"
      },
      {
        "duration": 25,
        "start_time": "2023-04-30T18:21:14.221Z"
      },
      {
        "duration": 10,
        "start_time": "2023-04-30T18:21:14.253Z"
      },
      {
        "duration": 20,
        "start_time": "2023-04-30T18:21:14.274Z"
      },
      {
        "duration": 12,
        "start_time": "2023-04-30T18:21:14.297Z"
      },
      {
        "duration": 35,
        "start_time": "2023-04-30T18:21:14.312Z"
      },
      {
        "duration": 129,
        "start_time": "2023-04-30T18:21:14.351Z"
      },
      {
        "duration": 422,
        "start_time": "2023-04-30T18:21:14.484Z"
      },
      {
        "duration": 425,
        "start_time": "2023-04-30T18:21:14.911Z"
      },
      {
        "duration": 302,
        "start_time": "2023-04-30T18:21:15.338Z"
      },
      {
        "duration": 324,
        "start_time": "2023-04-30T18:21:15.642Z"
      },
      {
        "duration": 309,
        "start_time": "2023-04-30T18:21:15.968Z"
      },
      {
        "duration": 370,
        "start_time": "2023-04-30T18:21:16.281Z"
      },
      {
        "duration": 19,
        "start_time": "2023-04-30T18:21:16.656Z"
      },
      {
        "duration": 264,
        "start_time": "2023-04-30T18:21:16.679Z"
      },
      {
        "duration": 9,
        "start_time": "2023-04-30T18:21:16.946Z"
      },
      {
        "duration": 16,
        "start_time": "2023-04-30T18:21:16.957Z"
      },
      {
        "duration": 245,
        "start_time": "2023-04-30T18:21:16.977Z"
      },
      {
        "duration": 264,
        "start_time": "2023-04-30T18:21:17.224Z"
      },
      {
        "duration": 25,
        "start_time": "2023-04-30T18:21:17.490Z"
      },
      {
        "duration": 302,
        "start_time": "2023-04-30T18:21:17.528Z"
      },
      {
        "duration": 157,
        "start_time": "2023-04-30T18:21:17.835Z"
      },
      {
        "duration": 12,
        "start_time": "2023-04-30T18:21:18.010Z"
      },
      {
        "duration": 6,
        "start_time": "2023-04-30T18:21:18.030Z"
      },
      {
        "duration": 37,
        "start_time": "2023-04-30T18:21:18.039Z"
      },
      {
        "duration": 9,
        "start_time": "2023-04-30T18:21:18.078Z"
      },
      {
        "duration": 50,
        "start_time": "2023-04-30T18:21:18.091Z"
      },
      {
        "duration": 15,
        "start_time": "2023-04-30T18:21:18.152Z"
      },
      {
        "duration": 41,
        "start_time": "2023-04-30T18:21:18.177Z"
      },
      {
        "duration": 17,
        "start_time": "2023-04-30T18:21:18.220Z"
      },
      {
        "duration": 13,
        "start_time": "2023-04-30T18:25:12.654Z"
      },
      {
        "duration": 1202,
        "start_time": "2023-04-30T18:26:10.151Z"
      },
      {
        "duration": 106,
        "start_time": "2023-04-30T18:26:11.359Z"
      },
      {
        "duration": 11,
        "start_time": "2023-04-30T18:26:11.467Z"
      },
      {
        "duration": 4,
        "start_time": "2023-04-30T18:26:11.480Z"
      },
      {
        "duration": 37,
        "start_time": "2023-04-30T18:26:11.487Z"
      },
      {
        "duration": 6,
        "start_time": "2023-04-30T18:26:11.526Z"
      },
      {
        "duration": 19,
        "start_time": "2023-04-30T18:26:11.534Z"
      },
      {
        "duration": 106,
        "start_time": "2023-04-30T18:26:11.555Z"
      },
      {
        "duration": 9,
        "start_time": "2023-04-30T18:26:11.663Z"
      },
      {
        "duration": 370,
        "start_time": "2023-04-30T18:26:11.674Z"
      },
      {
        "duration": 409,
        "start_time": "2023-04-30T18:26:12.046Z"
      },
      {
        "duration": 303,
        "start_time": "2023-04-30T18:26:12.456Z"
      },
      {
        "duration": 370,
        "start_time": "2023-04-30T18:26:12.762Z"
      },
      {
        "duration": 325,
        "start_time": "2023-04-30T18:26:13.137Z"
      },
      {
        "duration": 362,
        "start_time": "2023-04-30T18:26:13.464Z"
      },
      {
        "duration": 17,
        "start_time": "2023-04-30T18:26:13.830Z"
      },
      {
        "duration": 196,
        "start_time": "2023-04-30T18:26:13.849Z"
      },
      {
        "duration": 7,
        "start_time": "2023-04-30T18:26:14.047Z"
      },
      {
        "duration": 17,
        "start_time": "2023-04-30T18:26:14.056Z"
      },
      {
        "duration": 205,
        "start_time": "2023-04-30T18:26:14.074Z"
      },
      {
        "duration": 266,
        "start_time": "2023-04-30T18:26:14.281Z"
      },
      {
        "duration": 10,
        "start_time": "2023-04-30T18:26:14.549Z"
      },
      {
        "duration": 301,
        "start_time": "2023-04-30T18:26:14.564Z"
      },
      {
        "duration": 149,
        "start_time": "2023-04-30T18:26:14.867Z"
      },
      {
        "duration": 7,
        "start_time": "2023-04-30T18:26:15.018Z"
      },
      {
        "duration": 25,
        "start_time": "2023-04-30T18:26:15.027Z"
      },
      {
        "duration": 54,
        "start_time": "2023-04-30T18:26:15.054Z"
      },
      {
        "duration": 41,
        "start_time": "2023-04-30T18:26:15.110Z"
      },
      {
        "duration": 15,
        "start_time": "2023-04-30T18:26:15.153Z"
      },
      {
        "duration": 9,
        "start_time": "2023-04-30T18:26:15.170Z"
      },
      {
        "duration": 46,
        "start_time": "2023-04-30T18:26:15.181Z"
      },
      {
        "duration": 15,
        "start_time": "2023-04-30T18:26:15.229Z"
      },
      {
        "duration": 54,
        "start_time": "2023-05-05T09:57:23.052Z"
      },
      {
        "duration": 1256,
        "start_time": "2023-05-05T09:57:44.640Z"
      },
      {
        "duration": 168,
        "start_time": "2023-05-05T09:57:45.899Z"
      },
      {
        "duration": 14,
        "start_time": "2023-05-05T09:57:46.069Z"
      },
      {
        "duration": 22,
        "start_time": "2023-05-05T09:57:46.086Z"
      },
      {
        "duration": 93,
        "start_time": "2023-05-05T09:57:46.110Z"
      },
      {
        "duration": 36,
        "start_time": "2023-05-05T09:57:46.205Z"
      },
      {
        "duration": 21,
        "start_time": "2023-05-05T09:57:46.243Z"
      },
      {
        "duration": 201,
        "start_time": "2023-05-05T09:57:46.266Z"
      },
      {
        "duration": 9,
        "start_time": "2023-05-05T09:57:46.469Z"
      },
      {
        "duration": 18,
        "start_time": "2023-05-05T09:57:46.480Z"
      },
      {
        "duration": 341,
        "start_time": "2023-05-05T09:57:46.501Z"
      },
      {
        "duration": 353,
        "start_time": "2023-05-05T09:57:46.844Z"
      },
      {
        "duration": 261,
        "start_time": "2023-05-05T09:57:47.198Z"
      },
      {
        "duration": 385,
        "start_time": "2023-05-05T09:57:47.461Z"
      },
      {
        "duration": 264,
        "start_time": "2023-05-05T09:57:47.849Z"
      },
      {
        "duration": 345,
        "start_time": "2023-05-05T09:57:48.117Z"
      },
      {
        "duration": 12,
        "start_time": "2023-05-05T09:57:48.464Z"
      },
      {
        "duration": 182,
        "start_time": "2023-05-05T09:57:48.478Z"
      },
      {
        "duration": 5,
        "start_time": "2023-05-05T09:57:48.662Z"
      },
      {
        "duration": 28,
        "start_time": "2023-05-05T09:57:48.668Z"
      },
      {
        "duration": 224,
        "start_time": "2023-05-05T09:57:48.698Z"
      },
      {
        "duration": 179,
        "start_time": "2023-05-05T09:57:48.925Z"
      },
      {
        "duration": 21,
        "start_time": "2023-05-05T09:57:49.105Z"
      },
      {
        "duration": 242,
        "start_time": "2023-05-05T09:57:49.131Z"
      },
      {
        "duration": 169,
        "start_time": "2023-05-05T09:57:49.374Z"
      },
      {
        "duration": 7,
        "start_time": "2023-05-05T09:57:49.545Z"
      },
      {
        "duration": 19,
        "start_time": "2023-05-05T09:57:49.554Z"
      },
      {
        "duration": 40,
        "start_time": "2023-05-05T09:57:49.577Z"
      },
      {
        "duration": 19,
        "start_time": "2023-05-05T09:57:49.619Z"
      },
      {
        "duration": 22,
        "start_time": "2023-05-05T09:57:49.640Z"
      },
      {
        "duration": 10,
        "start_time": "2023-05-05T09:57:49.663Z"
      },
      {
        "duration": 54,
        "start_time": "2023-05-05T09:57:49.675Z"
      },
      {
        "duration": 11,
        "start_time": "2023-05-05T09:57:49.735Z"
      },
      {
        "duration": 18,
        "start_time": "2023-05-05T09:58:24.198Z"
      },
      {
        "duration": 10,
        "start_time": "2023-05-05T09:58:29.153Z"
      },
      {
        "duration": 6,
        "start_time": "2023-05-05T10:01:10.846Z"
      },
      {
        "duration": 6,
        "start_time": "2023-05-05T10:01:40.535Z"
      },
      {
        "duration": 7,
        "start_time": "2023-05-05T10:06:21.529Z"
      },
      {
        "duration": 10,
        "start_time": "2023-05-05T10:07:06.656Z"
      },
      {
        "duration": 10,
        "start_time": "2023-05-05T10:13:34.632Z"
      },
      {
        "duration": 10,
        "start_time": "2023-05-05T10:14:42.188Z"
      },
      {
        "duration": 144,
        "start_time": "2023-05-05T10:15:12.591Z"
      },
      {
        "duration": 13,
        "start_time": "2023-05-05T10:15:21.198Z"
      },
      {
        "duration": 9,
        "start_time": "2023-05-05T10:15:24.791Z"
      },
      {
        "duration": 9,
        "start_time": "2023-05-05T10:15:36.638Z"
      },
      {
        "duration": 8,
        "start_time": "2023-05-05T10:15:45.255Z"
      },
      {
        "duration": 7,
        "start_time": "2023-05-05T10:16:58.859Z"
      },
      {
        "duration": 8,
        "start_time": "2023-05-05T10:17:03.632Z"
      },
      {
        "duration": 10,
        "start_time": "2023-05-05T10:17:13.183Z"
      },
      {
        "duration": 17,
        "start_time": "2023-05-05T10:18:05.409Z"
      },
      {
        "duration": 5,
        "start_time": "2023-05-05T10:19:07.384Z"
      },
      {
        "duration": 9,
        "start_time": "2023-05-05T10:19:22.081Z"
      },
      {
        "duration": 10,
        "start_time": "2023-05-05T10:19:30.433Z"
      },
      {
        "duration": 5,
        "start_time": "2023-05-05T10:20:39.899Z"
      },
      {
        "duration": 9,
        "start_time": "2023-05-05T10:25:45.948Z"
      },
      {
        "duration": 5,
        "start_time": "2023-05-05T10:25:51.532Z"
      },
      {
        "duration": 5,
        "start_time": "2023-05-05T10:26:01.261Z"
      },
      {
        "duration": 3,
        "start_time": "2023-05-05T10:26:14.909Z"
      },
      {
        "duration": 5,
        "start_time": "2023-05-05T10:26:45.972Z"
      },
      {
        "duration": 7,
        "start_time": "2023-05-05T10:26:46.668Z"
      },
      {
        "duration": 1159,
        "start_time": "2023-05-05T10:26:54.060Z"
      },
      {
        "duration": 97,
        "start_time": "2023-05-05T10:26:55.222Z"
      },
      {
        "duration": 18,
        "start_time": "2023-05-05T10:26:55.321Z"
      },
      {
        "duration": 11,
        "start_time": "2023-05-05T10:26:55.342Z"
      },
      {
        "duration": 43,
        "start_time": "2023-05-05T10:26:55.356Z"
      },
      {
        "duration": 16,
        "start_time": "2023-05-05T10:26:55.403Z"
      },
      {
        "duration": 39,
        "start_time": "2023-05-05T10:26:55.421Z"
      },
      {
        "duration": 119,
        "start_time": "2023-05-05T10:26:55.461Z"
      },
      {
        "duration": 18,
        "start_time": "2023-05-05T10:26:55.582Z"
      },
      {
        "duration": 46,
        "start_time": "2023-05-05T10:26:55.602Z"
      },
      {
        "duration": 35,
        "start_time": "2023-05-05T10:26:55.651Z"
      },
      {
        "duration": 34,
        "start_time": "2023-05-05T10:26:55.689Z"
      },
      {
        "duration": 21,
        "start_time": "2023-05-05T10:26:55.726Z"
      },
      {
        "duration": 13,
        "start_time": "2023-05-05T10:26:55.751Z"
      },
      {
        "duration": 15,
        "start_time": "2023-05-05T10:26:55.766Z"
      },
      {
        "duration": 28,
        "start_time": "2023-05-05T10:26:55.783Z"
      },
      {
        "duration": 340,
        "start_time": "2023-05-05T10:26:55.813Z"
      },
      {
        "duration": 348,
        "start_time": "2023-05-05T10:26:56.156Z"
      },
      {
        "duration": 293,
        "start_time": "2023-05-05T10:26:56.507Z"
      },
      {
        "duration": 372,
        "start_time": "2023-05-05T10:26:56.802Z"
      },
      {
        "duration": 260,
        "start_time": "2023-05-05T10:26:57.176Z"
      },
      {
        "duration": 310,
        "start_time": "2023-05-05T10:26:57.439Z"
      },
      {
        "duration": 13,
        "start_time": "2023-05-05T10:26:57.751Z"
      },
      {
        "duration": 195,
        "start_time": "2023-05-05T10:26:57.766Z"
      },
      {
        "duration": 6,
        "start_time": "2023-05-05T10:26:57.963Z"
      },
      {
        "duration": 45,
        "start_time": "2023-05-05T10:26:57.971Z"
      },
      {
        "duration": 193,
        "start_time": "2023-05-05T10:26:58.018Z"
      },
      {
        "duration": 200,
        "start_time": "2023-05-05T10:26:58.213Z"
      },
      {
        "duration": 7,
        "start_time": "2023-05-05T10:26:58.414Z"
      },
      {
        "duration": 256,
        "start_time": "2023-05-05T10:26:58.422Z"
      },
      {
        "duration": 162,
        "start_time": "2023-05-05T10:26:58.680Z"
      },
      {
        "duration": 7,
        "start_time": "2023-05-05T10:26:58.844Z"
      },
      {
        "duration": 23,
        "start_time": "2023-05-05T10:26:58.853Z"
      },
      {
        "duration": 42,
        "start_time": "2023-05-05T10:26:58.877Z"
      },
      {
        "duration": 10,
        "start_time": "2023-05-05T10:26:58.921Z"
      },
      {
        "duration": 46,
        "start_time": "2023-05-05T10:26:58.933Z"
      },
      {
        "duration": 11,
        "start_time": "2023-05-05T10:26:58.981Z"
      },
      {
        "duration": 41,
        "start_time": "2023-05-05T10:26:58.994Z"
      },
      {
        "duration": 31,
        "start_time": "2023-05-05T10:26:59.037Z"
      },
      {
        "duration": 12,
        "start_time": "2023-05-05T10:28:08.638Z"
      },
      {
        "duration": 11,
        "start_time": "2023-05-05T10:28:14.124Z"
      },
      {
        "duration": 1195,
        "start_time": "2023-05-05T10:28:56.403Z"
      },
      {
        "duration": 93,
        "start_time": "2023-05-05T10:28:57.600Z"
      },
      {
        "duration": 12,
        "start_time": "2023-05-05T10:28:57.694Z"
      },
      {
        "duration": 4,
        "start_time": "2023-05-05T10:28:57.708Z"
      },
      {
        "duration": 30,
        "start_time": "2023-05-05T10:28:57.713Z"
      },
      {
        "duration": 24,
        "start_time": "2023-05-05T10:28:57.745Z"
      },
      {
        "duration": 23,
        "start_time": "2023-05-05T10:28:57.771Z"
      },
      {
        "duration": 82,
        "start_time": "2023-05-05T10:28:57.796Z"
      },
      {
        "duration": 8,
        "start_time": "2023-05-05T10:28:57.880Z"
      },
      {
        "duration": 9,
        "start_time": "2023-05-05T10:28:57.891Z"
      },
      {
        "duration": 7,
        "start_time": "2023-05-05T10:28:57.902Z"
      },
      {
        "duration": 11,
        "start_time": "2023-05-05T10:28:57.911Z"
      },
      {
        "duration": 17,
        "start_time": "2023-05-05T10:28:57.924Z"
      },
      {
        "duration": 5,
        "start_time": "2023-05-05T10:28:57.943Z"
      },
      {
        "duration": 9,
        "start_time": "2023-05-05T10:28:57.950Z"
      },
      {
        "duration": 318,
        "start_time": "2023-05-05T10:28:57.960Z"
      },
      {
        "duration": 322,
        "start_time": "2023-05-05T10:28:58.280Z"
      },
      {
        "duration": 248,
        "start_time": "2023-05-05T10:28:58.604Z"
      },
      {
        "duration": 316,
        "start_time": "2023-05-05T10:28:58.856Z"
      },
      {
        "duration": 288,
        "start_time": "2023-05-05T10:28:59.173Z"
      },
      {
        "duration": 287,
        "start_time": "2023-05-05T10:28:59.463Z"
      },
      {
        "duration": 13,
        "start_time": "2023-05-05T10:28:59.753Z"
      },
      {
        "duration": 214,
        "start_time": "2023-05-05T10:28:59.768Z"
      },
      {
        "duration": 5,
        "start_time": "2023-05-05T10:28:59.984Z"
      },
      {
        "duration": 38,
        "start_time": "2023-05-05T10:28:59.991Z"
      },
      {
        "duration": 216,
        "start_time": "2023-05-05T10:29:00.032Z"
      },
      {
        "duration": 200,
        "start_time": "2023-05-05T10:29:00.250Z"
      },
      {
        "duration": 5,
        "start_time": "2023-05-05T10:29:00.453Z"
      },
      {
        "duration": 338,
        "start_time": "2023-05-05T10:29:00.460Z"
      },
      {
        "duration": 178,
        "start_time": "2023-05-05T10:29:00.800Z"
      },
      {
        "duration": 6,
        "start_time": "2023-05-05T10:29:00.980Z"
      },
      {
        "duration": 45,
        "start_time": "2023-05-05T10:29:00.988Z"
      },
      {
        "duration": 83,
        "start_time": "2023-05-05T10:29:01.036Z"
      },
      {
        "duration": 68,
        "start_time": "2023-05-05T10:29:01.121Z"
      },
      {
        "duration": 63,
        "start_time": "2023-05-05T10:29:01.191Z"
      },
      {
        "duration": 60,
        "start_time": "2023-05-05T10:29:01.256Z"
      },
      {
        "duration": 93,
        "start_time": "2023-05-05T10:29:01.318Z"
      },
      {
        "duration": 35,
        "start_time": "2023-05-05T10:29:01.412Z"
      },
      {
        "duration": 11,
        "start_time": "2023-05-05T10:33:22.601Z"
      },
      {
        "duration": 309,
        "start_time": "2023-05-05T10:36:17.915Z"
      },
      {
        "duration": 259,
        "start_time": "2023-05-05T10:36:55.998Z"
      },
      {
        "duration": 324,
        "start_time": "2023-05-05T10:37:03.038Z"
      },
      {
        "duration": 338,
        "start_time": "2023-05-05T10:37:36.051Z"
      },
      {
        "duration": 287,
        "start_time": "2023-05-05T10:39:13.366Z"
      },
      {
        "duration": 401,
        "start_time": "2023-05-05T10:41:37.173Z"
      },
      {
        "duration": 93,
        "start_time": "2023-05-05T10:43:06.711Z"
      },
      {
        "duration": 19,
        "start_time": "2023-05-05T10:45:48.022Z"
      },
      {
        "duration": 1199,
        "start_time": "2023-05-05T10:52:01.942Z"
      },
      {
        "duration": 103,
        "start_time": "2023-05-05T10:52:03.143Z"
      },
      {
        "duration": 13,
        "start_time": "2023-05-05T10:52:03.248Z"
      },
      {
        "duration": 54,
        "start_time": "2023-05-05T10:52:03.263Z"
      },
      {
        "duration": 85,
        "start_time": "2023-05-05T10:52:03.319Z"
      },
      {
        "duration": 42,
        "start_time": "2023-05-05T10:52:03.406Z"
      },
      {
        "duration": 57,
        "start_time": "2023-05-05T10:52:03.450Z"
      },
      {
        "duration": 129,
        "start_time": "2023-05-05T10:52:03.509Z"
      },
      {
        "duration": 8,
        "start_time": "2023-05-05T10:52:03.640Z"
      },
      {
        "duration": 38,
        "start_time": "2023-05-05T10:52:03.650Z"
      },
      {
        "duration": 21,
        "start_time": "2023-05-05T10:52:03.690Z"
      },
      {
        "duration": 48,
        "start_time": "2023-05-05T10:52:03.713Z"
      },
      {
        "duration": 18,
        "start_time": "2023-05-05T10:52:03.763Z"
      },
      {
        "duration": 58,
        "start_time": "2023-05-05T10:52:03.782Z"
      },
      {
        "duration": 31,
        "start_time": "2023-05-05T10:52:03.842Z"
      },
      {
        "duration": 25,
        "start_time": "2023-05-05T10:52:03.875Z"
      },
      {
        "duration": 349,
        "start_time": "2023-05-05T10:52:03.901Z"
      },
      {
        "duration": 331,
        "start_time": "2023-05-05T10:52:04.252Z"
      },
      {
        "duration": 262,
        "start_time": "2023-05-05T10:52:04.585Z"
      },
      {
        "duration": 352,
        "start_time": "2023-05-05T10:52:04.850Z"
      },
      {
        "duration": 296,
        "start_time": "2023-05-05T10:52:05.203Z"
      },
      {
        "duration": 355,
        "start_time": "2023-05-05T10:52:05.501Z"
      },
      {
        "duration": 15,
        "start_time": "2023-05-05T10:52:05.858Z"
      },
      {
        "duration": 197,
        "start_time": "2023-05-05T10:52:05.875Z"
      },
      {
        "duration": 7,
        "start_time": "2023-05-05T10:52:06.074Z"
      },
      {
        "duration": 63,
        "start_time": "2023-05-05T10:52:06.083Z"
      },
      {
        "duration": 195,
        "start_time": "2023-05-05T10:52:06.148Z"
      },
      {
        "duration": 198,
        "start_time": "2023-05-05T10:52:06.347Z"
      },
      {
        "duration": 6,
        "start_time": "2023-05-05T10:52:06.547Z"
      },
      {
        "duration": 302,
        "start_time": "2023-05-05T10:52:06.555Z"
      },
      {
        "duration": 164,
        "start_time": "2023-05-05T10:52:06.859Z"
      },
      {
        "duration": 8,
        "start_time": "2023-05-05T10:52:07.025Z"
      },
      {
        "duration": 16,
        "start_time": "2023-05-05T10:52:07.036Z"
      },
      {
        "duration": 49,
        "start_time": "2023-05-05T10:52:07.054Z"
      },
      {
        "duration": 9,
        "start_time": "2023-05-05T10:52:07.105Z"
      },
      {
        "duration": 28,
        "start_time": "2023-05-05T10:52:07.117Z"
      },
      {
        "duration": 8,
        "start_time": "2023-05-05T10:52:07.147Z"
      },
      {
        "duration": 83,
        "start_time": "2023-05-05T10:52:07.156Z"
      },
      {
        "duration": 18,
        "start_time": "2023-05-05T10:52:07.242Z"
      },
      {
        "duration": 1235,
        "start_time": "2023-05-05T10:57:04.428Z"
      },
      {
        "duration": 100,
        "start_time": "2023-05-05T10:57:05.665Z"
      },
      {
        "duration": 13,
        "start_time": "2023-05-05T10:57:05.766Z"
      },
      {
        "duration": 12,
        "start_time": "2023-05-05T10:57:05.781Z"
      },
      {
        "duration": 50,
        "start_time": "2023-05-05T10:57:05.795Z"
      },
      {
        "duration": 8,
        "start_time": "2023-05-05T10:57:05.847Z"
      },
      {
        "duration": 24,
        "start_time": "2023-05-05T10:57:05.857Z"
      },
      {
        "duration": 92,
        "start_time": "2023-05-05T10:57:05.882Z"
      },
      {
        "duration": 8,
        "start_time": "2023-05-05T10:57:05.976Z"
      },
      {
        "duration": 22,
        "start_time": "2023-05-05T10:57:05.986Z"
      },
      {
        "duration": 14,
        "start_time": "2023-05-05T10:57:06.010Z"
      },
      {
        "duration": 22,
        "start_time": "2023-05-05T10:57:06.027Z"
      },
      {
        "duration": 21,
        "start_time": "2023-05-05T10:57:06.051Z"
      },
      {
        "duration": 26,
        "start_time": "2023-05-05T10:57:06.074Z"
      },
      {
        "duration": 29,
        "start_time": "2023-05-05T10:57:06.102Z"
      },
      {
        "duration": 30,
        "start_time": "2023-05-05T10:57:06.134Z"
      },
      {
        "duration": 332,
        "start_time": "2023-05-05T10:57:06.166Z"
      },
      {
        "duration": 350,
        "start_time": "2023-05-05T10:57:06.500Z"
      },
      {
        "duration": 272,
        "start_time": "2023-05-05T10:57:06.852Z"
      },
      {
        "duration": 348,
        "start_time": "2023-05-05T10:57:07.127Z"
      },
      {
        "duration": 281,
        "start_time": "2023-05-05T10:57:07.477Z"
      },
      {
        "duration": 307,
        "start_time": "2023-05-05T10:57:07.759Z"
      },
      {
        "duration": 13,
        "start_time": "2023-05-05T10:57:08.068Z"
      },
      {
        "duration": 188,
        "start_time": "2023-05-05T10:57:08.083Z"
      },
      {
        "duration": 6,
        "start_time": "2023-05-05T10:57:08.273Z"
      },
      {
        "duration": 12,
        "start_time": "2023-05-05T10:57:08.281Z"
      },
      {
        "duration": 185,
        "start_time": "2023-05-05T10:57:08.295Z"
      },
      {
        "duration": 192,
        "start_time": "2023-05-05T10:57:08.484Z"
      },
      {
        "duration": 6,
        "start_time": "2023-05-05T10:57:08.679Z"
      },
      {
        "duration": 266,
        "start_time": "2023-05-05T10:57:08.688Z"
      },
      {
        "duration": 136,
        "start_time": "2023-05-05T10:57:08.956Z"
      },
      {
        "duration": 8,
        "start_time": "2023-05-05T10:57:09.094Z"
      },
      {
        "duration": 17,
        "start_time": "2023-05-05T10:57:09.103Z"
      },
      {
        "duration": 42,
        "start_time": "2023-05-05T10:57:09.121Z"
      },
      {
        "duration": 17,
        "start_time": "2023-05-05T10:57:09.165Z"
      },
      {
        "duration": 35,
        "start_time": "2023-05-05T10:57:09.184Z"
      },
      {
        "duration": 14,
        "start_time": "2023-05-05T10:57:09.221Z"
      },
      {
        "duration": 63,
        "start_time": "2023-05-05T10:57:09.239Z"
      },
      {
        "duration": 9,
        "start_time": "2023-05-05T10:57:09.304Z"
      },
      {
        "duration": 141,
        "start_time": "2023-05-05T11:07:27.132Z"
      },
      {
        "duration": 7,
        "start_time": "2023-05-05T11:09:04.207Z"
      },
      {
        "duration": 5,
        "start_time": "2023-05-05T11:16:12.095Z"
      },
      {
        "duration": 5,
        "start_time": "2023-05-05T11:18:42.906Z"
      },
      {
        "duration": 5,
        "start_time": "2023-05-05T11:20:41.772Z"
      },
      {
        "duration": 7,
        "start_time": "2023-05-05T11:22:09.468Z"
      },
      {
        "duration": 4,
        "start_time": "2023-05-05T11:22:16.477Z"
      },
      {
        "duration": 10,
        "start_time": "2023-05-05T11:22:26.876Z"
      },
      {
        "duration": 11,
        "start_time": "2023-05-05T11:22:31.308Z"
      },
      {
        "duration": 11,
        "start_time": "2023-05-05T11:22:32.108Z"
      },
      {
        "duration": 16,
        "start_time": "2023-05-05T11:22:32.630Z"
      },
      {
        "duration": 4,
        "start_time": "2023-05-05T11:22:48.101Z"
      },
      {
        "duration": 5,
        "start_time": "2023-05-05T11:22:56.310Z"
      },
      {
        "duration": 5,
        "start_time": "2023-05-05T11:23:10.501Z"
      },
      {
        "duration": 1152,
        "start_time": "2023-05-05T11:36:46.642Z"
      },
      {
        "duration": 89,
        "start_time": "2023-05-05T11:36:47.796Z"
      },
      {
        "duration": 12,
        "start_time": "2023-05-05T11:36:47.887Z"
      },
      {
        "duration": 15,
        "start_time": "2023-05-05T11:36:47.902Z"
      },
      {
        "duration": 25,
        "start_time": "2023-05-05T11:36:47.919Z"
      },
      {
        "duration": 24,
        "start_time": "2023-05-05T11:36:47.946Z"
      },
      {
        "duration": 25,
        "start_time": "2023-05-05T11:36:47.971Z"
      },
      {
        "duration": 80,
        "start_time": "2023-05-05T11:36:47.998Z"
      },
      {
        "duration": 11,
        "start_time": "2023-05-05T11:36:48.081Z"
      },
      {
        "duration": 14,
        "start_time": "2023-05-05T11:36:48.095Z"
      },
      {
        "duration": 47,
        "start_time": "2023-05-05T11:36:48.111Z"
      },
      {
        "duration": 14,
        "start_time": "2023-05-05T11:36:48.160Z"
      },
      {
        "duration": 15,
        "start_time": "2023-05-05T11:36:48.176Z"
      },
      {
        "duration": 20,
        "start_time": "2023-05-05T11:36:48.193Z"
      },
      {
        "duration": 33,
        "start_time": "2023-05-05T11:36:48.215Z"
      },
      {
        "duration": 25,
        "start_time": "2023-05-05T11:36:48.250Z"
      },
      {
        "duration": 330,
        "start_time": "2023-05-05T11:36:48.277Z"
      },
      {
        "duration": 397,
        "start_time": "2023-05-05T11:36:48.608Z"
      },
      {
        "duration": 306,
        "start_time": "2023-05-05T11:36:49.007Z"
      },
      {
        "duration": 369,
        "start_time": "2023-05-05T11:36:49.321Z"
      },
      {
        "duration": 290,
        "start_time": "2023-05-05T11:36:49.691Z"
      },
      {
        "duration": 390,
        "start_time": "2023-05-05T11:36:49.983Z"
      },
      {
        "duration": 16,
        "start_time": "2023-05-05T11:36:50.376Z"
      },
      {
        "duration": 216,
        "start_time": "2023-05-05T11:36:50.394Z"
      },
      {
        "duration": 19,
        "start_time": "2023-05-05T11:36:50.611Z"
      },
      {
        "duration": 15,
        "start_time": "2023-05-05T11:36:50.642Z"
      },
      {
        "duration": 199,
        "start_time": "2023-05-05T11:36:50.659Z"
      },
      {
        "duration": 211,
        "start_time": "2023-05-05T11:36:50.861Z"
      },
      {
        "duration": 6,
        "start_time": "2023-05-05T11:36:51.074Z"
      },
      {
        "duration": 277,
        "start_time": "2023-05-05T11:36:51.082Z"
      },
      {
        "duration": 173,
        "start_time": "2023-05-05T11:36:51.360Z"
      },
      {
        "duration": 40,
        "start_time": "2023-05-05T11:36:51.535Z"
      },
      {
        "duration": 27,
        "start_time": "2023-05-05T11:36:51.576Z"
      },
      {
        "duration": 70,
        "start_time": "2023-05-05T11:36:51.604Z"
      },
      {
        "duration": 31,
        "start_time": "2023-05-05T11:36:51.676Z"
      },
      {
        "duration": 33,
        "start_time": "2023-05-05T11:36:51.709Z"
      },
      {
        "duration": 13,
        "start_time": "2023-05-05T11:36:51.744Z"
      },
      {
        "duration": 28,
        "start_time": "2023-05-05T11:36:51.759Z"
      },
      {
        "duration": 108,
        "start_time": "2023-05-05T11:36:51.789Z"
      },
      {
        "duration": 13,
        "start_time": "2023-05-05T11:36:51.900Z"
      },
      {
        "duration": 10,
        "start_time": "2023-05-05T11:47:53.522Z"
      },
      {
        "duration": 33,
        "start_time": "2023-05-05T11:47:56.771Z"
      },
      {
        "duration": 1179,
        "start_time": "2023-05-05T11:48:04.867Z"
      },
      {
        "duration": 103,
        "start_time": "2023-05-05T11:48:06.049Z"
      },
      {
        "duration": 13,
        "start_time": "2023-05-05T11:48:06.154Z"
      },
      {
        "duration": 70,
        "start_time": "2023-05-05T11:48:06.169Z"
      },
      {
        "duration": 31,
        "start_time": "2023-05-05T11:48:06.242Z"
      },
      {
        "duration": 23,
        "start_time": "2023-05-05T11:48:06.275Z"
      },
      {
        "duration": 63,
        "start_time": "2023-05-05T11:48:06.299Z"
      },
      {
        "duration": 156,
        "start_time": "2023-05-05T11:48:06.364Z"
      },
      {
        "duration": 20,
        "start_time": "2023-05-05T11:48:06.522Z"
      },
      {
        "duration": 24,
        "start_time": "2023-05-05T11:48:06.547Z"
      },
      {
        "duration": 31,
        "start_time": "2023-05-05T11:48:06.572Z"
      },
      {
        "duration": 46,
        "start_time": "2023-05-05T11:48:06.605Z"
      },
      {
        "duration": 29,
        "start_time": "2023-05-05T11:48:06.653Z"
      },
      {
        "duration": 10,
        "start_time": "2023-05-05T11:48:06.684Z"
      },
      {
        "duration": 21,
        "start_time": "2023-05-05T11:48:06.696Z"
      },
      {
        "duration": 39,
        "start_time": "2023-05-05T11:48:06.723Z"
      },
      {
        "duration": 363,
        "start_time": "2023-05-05T11:48:06.764Z"
      },
      {
        "duration": 444,
        "start_time": "2023-05-05T11:48:07.133Z"
      },
      {
        "duration": 280,
        "start_time": "2023-05-05T11:48:07.578Z"
      },
      {
        "duration": 345,
        "start_time": "2023-05-05T11:48:07.860Z"
      },
      {
        "duration": 293,
        "start_time": "2023-05-05T11:48:08.208Z"
      },
      {
        "duration": 406,
        "start_time": "2023-05-05T11:48:08.503Z"
      },
      {
        "duration": 27,
        "start_time": "2023-05-05T11:48:08.911Z"
      },
      {
        "duration": 220,
        "start_time": "2023-05-05T11:48:08.942Z"
      },
      {
        "duration": 21,
        "start_time": "2023-05-05T11:48:09.164Z"
      },
      {
        "duration": 51,
        "start_time": "2023-05-05T11:48:09.187Z"
      },
      {
        "duration": 237,
        "start_time": "2023-05-05T11:48:09.244Z"
      },
      {
        "duration": 190,
        "start_time": "2023-05-05T11:48:09.484Z"
      },
      {
        "duration": 5,
        "start_time": "2023-05-05T11:48:09.676Z"
      },
      {
        "duration": 277,
        "start_time": "2023-05-05T11:48:09.683Z"
      },
      {
        "duration": 147,
        "start_time": "2023-05-05T11:48:09.962Z"
      },
      {
        "duration": 13,
        "start_time": "2023-05-05T11:48:10.111Z"
      },
      {
        "duration": 47,
        "start_time": "2023-05-05T11:48:10.126Z"
      },
      {
        "duration": 53,
        "start_time": "2023-05-05T11:48:10.176Z"
      },
      {
        "duration": 14,
        "start_time": "2023-05-05T11:48:10.231Z"
      },
      {
        "duration": 28,
        "start_time": "2023-05-05T11:48:10.247Z"
      },
      {
        "duration": 20,
        "start_time": "2023-05-05T11:48:10.277Z"
      },
      {
        "duration": 14,
        "start_time": "2023-05-05T11:48:10.299Z"
      },
      {
        "duration": 72,
        "start_time": "2023-05-05T11:48:10.314Z"
      },
      {
        "duration": 10,
        "start_time": "2023-05-05T11:48:10.387Z"
      },
      {
        "duration": 133,
        "start_time": "2023-05-05T11:51:40.566Z"
      },
      {
        "duration": 4,
        "start_time": "2023-05-05T11:51:44.598Z"
      },
      {
        "duration": 55,
        "start_time": "2023-05-05T11:51:46.309Z"
      },
      {
        "duration": 16,
        "start_time": "2023-05-05T11:51:51.330Z"
      },
      {
        "duration": 1321,
        "start_time": "2023-05-05T11:55:11.632Z"
      },
      {
        "duration": 99,
        "start_time": "2023-05-05T11:55:12.955Z"
      },
      {
        "duration": 14,
        "start_time": "2023-05-05T11:55:13.056Z"
      },
      {
        "duration": 34,
        "start_time": "2023-05-05T11:55:13.072Z"
      },
      {
        "duration": 21,
        "start_time": "2023-05-05T11:55:13.108Z"
      },
      {
        "duration": 29,
        "start_time": "2023-05-05T11:55:13.139Z"
      },
      {
        "duration": 23,
        "start_time": "2023-05-05T11:55:13.170Z"
      },
      {
        "duration": 16,
        "start_time": "2023-05-05T11:55:13.195Z"
      },
      {
        "duration": 72,
        "start_time": "2023-05-05T11:55:13.212Z"
      },
      {
        "duration": 17,
        "start_time": "2023-05-05T11:55:13.286Z"
      },
      {
        "duration": 11,
        "start_time": "2023-05-05T11:55:13.305Z"
      },
      {
        "duration": 33,
        "start_time": "2023-05-05T11:55:13.321Z"
      },
      {
        "duration": 12,
        "start_time": "2023-05-05T11:55:13.356Z"
      },
      {
        "duration": 19,
        "start_time": "2023-05-05T11:55:13.371Z"
      },
      {
        "duration": 18,
        "start_time": "2023-05-05T11:55:13.392Z"
      },
      {
        "duration": 20,
        "start_time": "2023-05-05T11:55:13.412Z"
      },
      {
        "duration": 38,
        "start_time": "2023-05-05T11:55:13.435Z"
      },
      {
        "duration": 13,
        "start_time": "2023-05-05T11:55:13.475Z"
      },
      {
        "duration": 16,
        "start_time": "2023-05-05T11:55:13.490Z"
      },
      {
        "duration": 462,
        "start_time": "2023-05-05T11:55:13.509Z"
      },
      {
        "duration": 0,
        "start_time": "2023-05-05T11:55:13.973Z"
      },
      {
        "duration": 0,
        "start_time": "2023-05-05T11:55:13.974Z"
      },
      {
        "duration": 0,
        "start_time": "2023-05-05T11:55:13.975Z"
      },
      {
        "duration": 0,
        "start_time": "2023-05-05T11:55:13.977Z"
      },
      {
        "duration": 0,
        "start_time": "2023-05-05T11:55:13.978Z"
      },
      {
        "duration": 0,
        "start_time": "2023-05-05T11:55:13.979Z"
      },
      {
        "duration": 0,
        "start_time": "2023-05-05T11:55:13.980Z"
      },
      {
        "duration": 0,
        "start_time": "2023-05-05T11:55:13.981Z"
      },
      {
        "duration": 0,
        "start_time": "2023-05-05T11:55:13.983Z"
      },
      {
        "duration": 0,
        "start_time": "2023-05-05T11:55:13.984Z"
      },
      {
        "duration": 0,
        "start_time": "2023-05-05T11:55:13.985Z"
      },
      {
        "duration": 0,
        "start_time": "2023-05-05T11:55:13.986Z"
      },
      {
        "duration": 0,
        "start_time": "2023-05-05T11:55:13.987Z"
      },
      {
        "duration": 0,
        "start_time": "2023-05-05T11:55:13.989Z"
      },
      {
        "duration": 0,
        "start_time": "2023-05-05T11:55:14.017Z"
      },
      {
        "duration": 0,
        "start_time": "2023-05-05T11:55:14.019Z"
      },
      {
        "duration": 0,
        "start_time": "2023-05-05T11:55:14.019Z"
      },
      {
        "duration": 0,
        "start_time": "2023-05-05T11:55:14.023Z"
      },
      {
        "duration": 0,
        "start_time": "2023-05-05T11:55:14.024Z"
      },
      {
        "duration": 0,
        "start_time": "2023-05-05T11:55:14.025Z"
      },
      {
        "duration": 0,
        "start_time": "2023-05-05T11:55:14.027Z"
      },
      {
        "duration": 0,
        "start_time": "2023-05-05T11:55:14.029Z"
      },
      {
        "duration": 0,
        "start_time": "2023-05-05T11:55:14.030Z"
      },
      {
        "duration": 28,
        "start_time": "2023-05-05T11:55:28.248Z"
      },
      {
        "duration": 1167,
        "start_time": "2023-05-05T11:55:38.438Z"
      },
      {
        "duration": 102,
        "start_time": "2023-05-05T11:55:39.607Z"
      },
      {
        "duration": 24,
        "start_time": "2023-05-05T11:55:39.711Z"
      },
      {
        "duration": 41,
        "start_time": "2023-05-05T11:55:39.737Z"
      },
      {
        "duration": 11,
        "start_time": "2023-05-05T11:55:39.781Z"
      },
      {
        "duration": 57,
        "start_time": "2023-05-05T11:55:39.794Z"
      },
      {
        "duration": 54,
        "start_time": "2023-05-05T11:55:39.853Z"
      },
      {
        "duration": 63,
        "start_time": "2023-05-05T11:55:39.909Z"
      },
      {
        "duration": 73,
        "start_time": "2023-05-05T11:55:39.974Z"
      },
      {
        "duration": 34,
        "start_time": "2023-05-05T11:55:40.049Z"
      },
      {
        "duration": 24,
        "start_time": "2023-05-05T11:55:40.084Z"
      },
      {
        "duration": 71,
        "start_time": "2023-05-05T11:55:40.111Z"
      },
      {
        "duration": 45,
        "start_time": "2023-05-05T11:55:40.184Z"
      },
      {
        "duration": 44,
        "start_time": "2023-05-05T11:55:40.233Z"
      },
      {
        "duration": 24,
        "start_time": "2023-05-05T11:55:40.279Z"
      },
      {
        "duration": 71,
        "start_time": "2023-05-05T11:55:40.306Z"
      },
      {
        "duration": 192,
        "start_time": "2023-05-05T11:55:40.379Z"
      },
      {
        "duration": 15,
        "start_time": "2023-05-05T11:55:40.573Z"
      },
      {
        "duration": 27,
        "start_time": "2023-05-05T11:55:40.590Z"
      },
      {
        "duration": 474,
        "start_time": "2023-05-05T11:55:40.619Z"
      },
      {
        "duration": 0,
        "start_time": "2023-05-05T11:55:41.095Z"
      },
      {
        "duration": 0,
        "start_time": "2023-05-05T11:55:41.096Z"
      },
      {
        "duration": 0,
        "start_time": "2023-05-05T11:55:41.097Z"
      },
      {
        "duration": 0,
        "start_time": "2023-05-05T11:55:41.099Z"
      },
      {
        "duration": 0,
        "start_time": "2023-05-05T11:55:41.100Z"
      },
      {
        "duration": 0,
        "start_time": "2023-05-05T11:55:41.101Z"
      },
      {
        "duration": 0,
        "start_time": "2023-05-05T11:55:41.102Z"
      },
      {
        "duration": 0,
        "start_time": "2023-05-05T11:55:41.118Z"
      },
      {
        "duration": 0,
        "start_time": "2023-05-05T11:55:41.119Z"
      },
      {
        "duration": 0,
        "start_time": "2023-05-05T11:55:41.120Z"
      },
      {
        "duration": 0,
        "start_time": "2023-05-05T11:55:41.121Z"
      },
      {
        "duration": 0,
        "start_time": "2023-05-05T11:55:41.121Z"
      },
      {
        "duration": 0,
        "start_time": "2023-05-05T11:55:41.122Z"
      },
      {
        "duration": 0,
        "start_time": "2023-05-05T11:55:41.123Z"
      },
      {
        "duration": 0,
        "start_time": "2023-05-05T11:55:41.124Z"
      },
      {
        "duration": 0,
        "start_time": "2023-05-05T11:55:41.125Z"
      },
      {
        "duration": 0,
        "start_time": "2023-05-05T11:55:41.126Z"
      },
      {
        "duration": 0,
        "start_time": "2023-05-05T11:55:41.126Z"
      },
      {
        "duration": 0,
        "start_time": "2023-05-05T11:55:41.127Z"
      },
      {
        "duration": 0,
        "start_time": "2023-05-05T11:55:41.128Z"
      },
      {
        "duration": 0,
        "start_time": "2023-05-05T11:55:41.129Z"
      },
      {
        "duration": 0,
        "start_time": "2023-05-05T11:55:41.129Z"
      },
      {
        "duration": 0,
        "start_time": "2023-05-05T11:55:41.130Z"
      },
      {
        "duration": 28,
        "start_time": "2023-05-05T11:56:42.562Z"
      },
      {
        "duration": 1202,
        "start_time": "2023-05-05T11:56:49.051Z"
      },
      {
        "duration": 95,
        "start_time": "2023-05-05T11:56:50.255Z"
      },
      {
        "duration": 12,
        "start_time": "2023-05-05T11:56:50.352Z"
      },
      {
        "duration": 38,
        "start_time": "2023-05-05T11:56:50.366Z"
      },
      {
        "duration": 57,
        "start_time": "2023-05-05T11:56:50.405Z"
      },
      {
        "duration": 40,
        "start_time": "2023-05-05T11:56:50.464Z"
      },
      {
        "duration": 55,
        "start_time": "2023-05-05T11:56:50.506Z"
      },
      {
        "duration": 42,
        "start_time": "2023-05-05T11:56:50.563Z"
      },
      {
        "duration": 86,
        "start_time": "2023-05-05T11:56:50.607Z"
      },
      {
        "duration": 22,
        "start_time": "2023-05-05T11:56:50.697Z"
      },
      {
        "duration": 70,
        "start_time": "2023-05-05T11:56:50.722Z"
      },
      {
        "duration": 35,
        "start_time": "2023-05-05T11:56:50.794Z"
      },
      {
        "duration": 43,
        "start_time": "2023-05-05T11:56:50.836Z"
      },
      {
        "duration": 26,
        "start_time": "2023-05-05T11:56:50.881Z"
      },
      {
        "duration": 53,
        "start_time": "2023-05-05T11:56:50.909Z"
      },
      {
        "duration": 38,
        "start_time": "2023-05-05T11:56:50.963Z"
      },
      {
        "duration": 50,
        "start_time": "2023-05-05T11:56:51.003Z"
      },
      {
        "duration": 41,
        "start_time": "2023-05-05T11:56:51.055Z"
      },
      {
        "duration": 17,
        "start_time": "2023-05-05T11:56:51.098Z"
      },
      {
        "duration": 45,
        "start_time": "2023-05-05T11:56:51.117Z"
      },
      {
        "duration": 348,
        "start_time": "2023-05-05T11:56:51.164Z"
      },
      {
        "duration": 727,
        "start_time": "2023-05-05T11:56:51.518Z"
      },
      {
        "duration": 683,
        "start_time": "2023-05-05T11:56:52.247Z"
      },
      {
        "duration": 698,
        "start_time": "2023-05-05T11:56:52.938Z"
      },
      {
        "duration": 643,
        "start_time": "2023-05-05T11:56:53.641Z"
      },
      {
        "duration": 406,
        "start_time": "2023-05-05T11:56:54.286Z"
      },
      {
        "duration": 13,
        "start_time": "2023-05-05T11:56:54.694Z"
      },
      {
        "duration": 215,
        "start_time": "2023-05-05T11:56:54.726Z"
      },
      {
        "duration": 6,
        "start_time": "2023-05-05T11:56:54.943Z"
      },
      {
        "duration": 34,
        "start_time": "2023-05-05T11:56:54.952Z"
      },
      {
        "duration": 206,
        "start_time": "2023-05-05T11:56:54.987Z"
      },
      {
        "duration": 206,
        "start_time": "2023-05-05T11:56:55.195Z"
      },
      {
        "duration": 6,
        "start_time": "2023-05-05T11:56:55.402Z"
      },
      {
        "duration": 283,
        "start_time": "2023-05-05T11:56:55.410Z"
      },
      {
        "duration": 157,
        "start_time": "2023-05-05T11:56:55.695Z"
      },
      {
        "duration": 6,
        "start_time": "2023-05-05T11:56:55.854Z"
      },
      {
        "duration": 10,
        "start_time": "2023-05-05T11:56:55.862Z"
      },
      {
        "duration": 39,
        "start_time": "2023-05-05T11:56:55.874Z"
      },
      {
        "duration": 17,
        "start_time": "2023-05-05T11:56:55.915Z"
      },
      {
        "duration": 32,
        "start_time": "2023-05-05T11:56:55.944Z"
      },
      {
        "duration": 13,
        "start_time": "2023-05-05T11:56:55.978Z"
      },
      {
        "duration": 18,
        "start_time": "2023-05-05T11:56:55.993Z"
      },
      {
        "duration": 59,
        "start_time": "2023-05-05T11:56:56.013Z"
      },
      {
        "duration": 11,
        "start_time": "2023-05-05T11:56:56.073Z"
      },
      {
        "duration": 1174,
        "start_time": "2023-05-06T11:45:59.590Z"
      },
      {
        "duration": 80,
        "start_time": "2023-05-06T11:46:00.766Z"
      },
      {
        "duration": 14,
        "start_time": "2023-05-06T11:46:00.849Z"
      },
      {
        "duration": 42,
        "start_time": "2023-05-06T11:46:00.866Z"
      },
      {
        "duration": 22,
        "start_time": "2023-05-06T11:46:00.910Z"
      },
      {
        "duration": 43,
        "start_time": "2023-05-06T11:46:00.933Z"
      },
      {
        "duration": 49,
        "start_time": "2023-05-06T11:46:00.977Z"
      },
      {
        "duration": 50,
        "start_time": "2023-05-06T11:46:01.028Z"
      },
      {
        "duration": 78,
        "start_time": "2023-05-06T11:46:01.080Z"
      },
      {
        "duration": 29,
        "start_time": "2023-05-06T11:46:01.161Z"
      },
      {
        "duration": 27,
        "start_time": "2023-05-06T11:46:01.192Z"
      },
      {
        "duration": 34,
        "start_time": "2023-05-06T11:46:01.221Z"
      },
      {
        "duration": 80,
        "start_time": "2023-05-06T11:46:01.257Z"
      },
      {
        "duration": 134,
        "start_time": "2023-05-06T11:46:01.339Z"
      },
      {
        "duration": 59,
        "start_time": "2023-05-06T11:46:01.477Z"
      },
      {
        "duration": 54,
        "start_time": "2023-05-06T11:46:01.538Z"
      },
      {
        "duration": 52,
        "start_time": "2023-05-06T11:46:01.594Z"
      },
      {
        "duration": 101,
        "start_time": "2023-05-06T11:46:01.648Z"
      },
      {
        "duration": 74,
        "start_time": "2023-05-06T11:46:01.751Z"
      },
      {
        "duration": 93,
        "start_time": "2023-05-06T11:46:01.827Z"
      },
      {
        "duration": 320,
        "start_time": "2023-05-06T11:46:01.921Z"
      },
      {
        "duration": 378,
        "start_time": "2023-05-06T11:46:02.243Z"
      },
      {
        "duration": 229,
        "start_time": "2023-05-06T11:46:02.623Z"
      },
      {
        "duration": 321,
        "start_time": "2023-05-06T11:46:02.854Z"
      },
      {
        "duration": 248,
        "start_time": "2023-05-06T11:46:03.177Z"
      },
      {
        "duration": 343,
        "start_time": "2023-05-06T11:46:03.427Z"
      },
      {
        "duration": 15,
        "start_time": "2023-05-06T11:46:03.772Z"
      },
      {
        "duration": 196,
        "start_time": "2023-05-06T11:46:03.791Z"
      },
      {
        "duration": 5,
        "start_time": "2023-05-06T11:46:03.988Z"
      },
      {
        "duration": 9,
        "start_time": "2023-05-06T11:46:03.994Z"
      },
      {
        "duration": 182,
        "start_time": "2023-05-06T11:46:04.005Z"
      },
      {
        "duration": 175,
        "start_time": "2023-05-06T11:46:04.189Z"
      },
      {
        "duration": 5,
        "start_time": "2023-05-06T11:46:04.365Z"
      },
      {
        "duration": 245,
        "start_time": "2023-05-06T11:46:04.372Z"
      },
      {
        "duration": 148,
        "start_time": "2023-05-06T11:46:04.619Z"
      },
      {
        "duration": 7,
        "start_time": "2023-05-06T11:46:04.769Z"
      },
      {
        "duration": 54,
        "start_time": "2023-05-06T11:46:04.778Z"
      },
      {
        "duration": 63,
        "start_time": "2023-05-06T11:46:04.833Z"
      },
      {
        "duration": 13,
        "start_time": "2023-05-06T11:46:04.898Z"
      },
      {
        "duration": 17,
        "start_time": "2023-05-06T11:46:04.912Z"
      },
      {
        "duration": 19,
        "start_time": "2023-05-06T11:46:04.931Z"
      },
      {
        "duration": 38,
        "start_time": "2023-05-06T11:46:04.952Z"
      },
      {
        "duration": 47,
        "start_time": "2023-05-06T11:46:04.991Z"
      },
      {
        "duration": 13,
        "start_time": "2023-05-06T11:46:05.040Z"
      },
      {
        "duration": 1010,
        "start_time": "2023-05-06T11:48:03.096Z"
      },
      {
        "duration": 74,
        "start_time": "2023-05-06T11:48:04.108Z"
      },
      {
        "duration": 13,
        "start_time": "2023-05-06T11:48:04.184Z"
      },
      {
        "duration": 18,
        "start_time": "2023-05-06T11:48:04.200Z"
      },
      {
        "duration": 5,
        "start_time": "2023-05-06T11:48:04.219Z"
      },
      {
        "duration": 36,
        "start_time": "2023-05-06T11:48:04.226Z"
      },
      {
        "duration": 5,
        "start_time": "2023-05-06T11:48:04.264Z"
      },
      {
        "duration": 21,
        "start_time": "2023-05-06T11:48:04.271Z"
      },
      {
        "duration": 58,
        "start_time": "2023-05-06T11:48:04.293Z"
      },
      {
        "duration": 19,
        "start_time": "2023-05-06T11:48:04.353Z"
      },
      {
        "duration": 28,
        "start_time": "2023-05-06T11:48:04.374Z"
      },
      {
        "duration": 9,
        "start_time": "2023-05-06T11:48:04.404Z"
      },
      {
        "duration": 16,
        "start_time": "2023-05-06T11:48:04.414Z"
      },
      {
        "duration": 17,
        "start_time": "2023-05-06T11:48:04.432Z"
      },
      {
        "duration": 11,
        "start_time": "2023-05-06T11:48:04.450Z"
      },
      {
        "duration": 23,
        "start_time": "2023-05-06T11:48:04.463Z"
      },
      {
        "duration": 10,
        "start_time": "2023-05-06T11:48:04.487Z"
      },
      {
        "duration": 7,
        "start_time": "2023-05-06T11:48:04.498Z"
      },
      {
        "duration": 6,
        "start_time": "2023-05-06T11:48:04.506Z"
      },
      {
        "duration": 38,
        "start_time": "2023-05-06T11:48:04.514Z"
      },
      {
        "duration": 368,
        "start_time": "2023-05-06T11:48:04.554Z"
      },
      {
        "duration": 351,
        "start_time": "2023-05-06T11:48:04.924Z"
      },
      {
        "duration": 235,
        "start_time": "2023-05-06T11:48:05.277Z"
      },
      {
        "duration": 395,
        "start_time": "2023-05-06T11:48:05.514Z"
      },
      {
        "duration": 243,
        "start_time": "2023-05-06T11:48:05.911Z"
      },
      {
        "duration": 323,
        "start_time": "2023-05-06T11:48:06.156Z"
      },
      {
        "duration": 15,
        "start_time": "2023-05-06T11:48:06.480Z"
      },
      {
        "duration": 203,
        "start_time": "2023-05-06T11:48:06.500Z"
      },
      {
        "duration": 4,
        "start_time": "2023-05-06T11:48:06.705Z"
      },
      {
        "duration": 14,
        "start_time": "2023-05-06T11:48:06.711Z"
      },
      {
        "duration": 181,
        "start_time": "2023-05-06T11:48:06.726Z"
      },
      {
        "duration": 185,
        "start_time": "2023-05-06T11:48:06.909Z"
      },
      {
        "duration": 5,
        "start_time": "2023-05-06T11:48:07.097Z"
      },
      {
        "duration": 229,
        "start_time": "2023-05-06T11:48:07.104Z"
      },
      {
        "duration": 169,
        "start_time": "2023-05-06T11:48:07.335Z"
      },
      {
        "duration": 8,
        "start_time": "2023-05-06T11:48:07.507Z"
      },
      {
        "duration": 8,
        "start_time": "2023-05-06T11:48:07.517Z"
      },
      {
        "duration": 51,
        "start_time": "2023-05-06T11:48:07.527Z"
      },
      {
        "duration": 9,
        "start_time": "2023-05-06T11:48:07.580Z"
      },
      {
        "duration": 22,
        "start_time": "2023-05-06T11:48:07.591Z"
      },
      {
        "duration": 7,
        "start_time": "2023-05-06T11:48:07.615Z"
      },
      {
        "duration": 30,
        "start_time": "2023-05-06T11:48:07.625Z"
      },
      {
        "duration": 34,
        "start_time": "2023-05-06T11:48:07.657Z"
      },
      {
        "duration": 9,
        "start_time": "2023-05-06T11:48:07.693Z"
      }
    ],
    "kernelspec": {
      "display_name": "Python 3 (ipykernel)",
      "language": "python",
      "name": "python3"
    },
    "language_info": {
      "codemirror_mode": {
        "name": "ipython",
        "version": 3
      },
      "file_extension": ".py",
      "mimetype": "text/x-python",
      "name": "python",
      "nbconvert_exporter": "python",
      "pygments_lexer": "ipython3",
      "version": "3.9.5"
    },
    "toc": {
      "base_numbering": 1,
      "nav_menu": {
        "height": "152.159px",
        "width": "160px"
      },
      "number_sections": true,
      "sideBar": true,
      "skip_h1_title": true,
      "title_cell": "Содержание",
      "title_sidebar": "Contents",
      "toc_cell": true,
      "toc_position": {
        "height": "calc(100% - 180px)",
        "left": "10px",
        "top": "150px",
        "width": "336.179px"
      },
      "toc_section_display": true,
      "toc_window_display": false
    },
    "colab": {
      "provenance": []
    }
  },
  "nbformat": 4,
  "nbformat_minor": 0
}