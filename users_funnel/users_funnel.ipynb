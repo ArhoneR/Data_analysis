{
  "cells": [
    {
      "cell_type": "markdown",
      "metadata": {
        "toc": true,
        "id": "Mkes9PoChY_u"
      },
      "source": [
        "<h1>Содержание<span class=\"tocSkip\"></span></h1>\n",
        "<div class=\"toc\"><ul class=\"toc-item\"><li><span><a href=\"#Цель-проекта\" data-toc-modified-id=\"Цель-проекта-1\"><span class=\"toc-item-num\">1&nbsp;&nbsp;</span>Цель проекта</a></span></li><li><span><a href=\"#Описание-данных\" data-toc-modified-id=\"Описание-данных-2\"><span class=\"toc-item-num\">2&nbsp;&nbsp;</span>Описание данных</a></span></li><li><span><a href=\"#План-работы\" data-toc-modified-id=\"План-работы-3\"><span class=\"toc-item-num\">3&nbsp;&nbsp;</span>План работы</a></span><ul class=\"toc-item\"><li><span><a href=\"#Часть-1.-Подготовка-и-обработка-данных\" data-toc-modified-id=\"Часть-1.-Подготовка-и-обработка-данных-3.1\"><span class=\"toc-item-num\">3.1&nbsp;&nbsp;</span>Часть 1. Подготовка и обработка данных</a></span></li><li><span><a href=\"#Часть-2.-Изучение-воронки-событий\" data-toc-modified-id=\"Часть-2.-Изучение-воронки-событий-3.2\"><span class=\"toc-item-num\">3.2&nbsp;&nbsp;</span>Часть 2. Изучение воронки событий</a></span></li><li><span><a href=\"#Часть-3.-Изучение-результатов-эксперимента\" data-toc-modified-id=\"Часть-3.-Изучение-результатов-эксперимента-3.3\"><span class=\"toc-item-num\">3.3&nbsp;&nbsp;</span>Часть 3. Изучение результатов эксперимента</a></span></li><li><span><a href=\"#Часть-4.-Вывод\" data-toc-modified-id=\"Часть-4.-Вывод-3.4\"><span class=\"toc-item-num\">3.4&nbsp;&nbsp;</span>Часть 4. Вывод</a></span></li></ul></li></ul></div>"
      ]
    },
    {
      "cell_type": "markdown",
      "metadata": {
        "id": "Jja35hnHhY_v"
      },
      "source": [
        "# Анализ поведения пользователей в мобильном приложении\n"
      ]
    },
    {
      "cell_type": "markdown",
      "metadata": {
        "id": "tt2E8LxhhY_v"
      },
      "source": [
        "## Цель проекта"
      ]
    },
    {
      "cell_type": "markdown",
      "metadata": {
        "id": "TpA7dXJFhY_v"
      },
      "source": [
        "Нужно проанализировать поведение пользователей мобильного приложения на основании логов пользователей и результатов А/А/В - эксперимента, в котором для тестовой группы клиентов поменяли шрифты в приложении."
      ]
    },
    {
      "cell_type": "markdown",
      "metadata": {
        "id": "8GrCr5HHhY_w"
      },
      "source": [
        "## Описание данных"
      ]
    },
    {
      "cell_type": "markdown",
      "metadata": {
        "id": "cvDg6XVIhY_w"
      },
      "source": [
        "Файл с логами пользователей <code>logs_exp.csv</code>\n",
        "<div>\n",
        "\n",
        "* <code>EventName</code> — название события;\n",
        "\n",
        "* <code>DeviceIDHash</code> —  уникальный идентификатор пользователя;\n",
        "\n",
        "* <code>EventTimestamp</code> — время события;\n",
        "\n",
        "* <code>ExpId</code> — номер эксперимента: 246 и 247 — контрольные группы, а 248 — экспериментальная.\n",
        "    \n",
        "</div>"
      ]
    },
    {
      "cell_type": "markdown",
      "metadata": {
        "id": "DZBr-wbDhY_w"
      },
      "source": [
        "## План работы"
      ]
    },
    {
      "cell_type": "markdown",
      "metadata": {
        "id": "1dbtVAILhY_x"
      },
      "source": [
        "Исследование пройдет в 4 этапа:\n",
        "\n",
        "<div>\n",
        "\n",
        "* <b>Часть 1. Подготовка и обработка данных</b>\n",
        "\n",
        "* <b>Часть 2. Изучение воронки событий</b>\n",
        "    \n",
        "* <b>Часть 3. Изучение результатов эксперимента</b>\n",
        "\n",
        "* <b>Часть 4. Вывод</b>    \n",
        "    "
      ]
    },
    {
      "cell_type": "markdown",
      "metadata": {
        "id": "ghrNp9dzhY_x"
      },
      "source": [
        "### Часть 1. Подготовка и обработка данных"
      ]
    },
    {
      "cell_type": "code",
      "execution_count": 1,
      "metadata": {
        "id": "QLCfIgeYhY_x"
      },
      "outputs": [],
      "source": [
        "import pandas as pd\n",
        "import scipy.stats as st\n",
        "import datetime as dt\n",
        "import numpy as np\n",
        "import matplotlib.pyplot as plt\n",
        "import os\n",
        "from plotly import graph_objects as go\n",
        "import seaborn as sns\n",
        "sns.set()\n",
        "pd.options.display.max_colwidth = 150"
      ]
    },
    {
      "cell_type": "code",
      "execution_count": 2,
      "metadata": {
        "id": "er6jK3u6hY_y"
      },
      "outputs": [],
      "source": [
        "pth1 = '/datasets/logs_exp.csv'\n",
        "pth2 = 'logs_exp.csv'\n",
        "\n",
        "if os.path.exists(pth1):\n",
        "    data = pd.read_csv(pth1, sep='\\t')\n",
        "elif os.path.exists(pth2):\n",
        "    data = pd.read_csv(pth2, sep='\\t')\n",
        "else:\n",
        "    print('Что-то пошло не так')"
      ]
    },
    {
      "cell_type": "markdown",
      "metadata": {
        "id": "vKp6Z0yIhY_z"
      },
      "source": [
        "Обзор данных"
      ]
    },
    {
      "cell_type": "code",
      "execution_count": 3,
      "metadata": {
        "colab": {
          "base_uri": "https://localhost:8080/"
        },
        "id": "X1fzbejrhY_z",
        "outputId": "47698143-cc2b-41f6-97f8-62efb4b8f9ad"
      },
      "outputs": [
        {
          "output_type": "execute_result",
          "data": {
            "text/plain": [
              "(244126, 4)"
            ]
          },
          "metadata": {},
          "execution_count": 3
        }
      ],
      "source": [
        "data.shape"
      ]
    },
    {
      "cell_type": "code",
      "execution_count": 4,
      "metadata": {
        "colab": {
          "base_uri": "https://localhost:8080/"
        },
        "id": "fjSFWjOXhY_z",
        "outputId": "67dcdfc0-3b02-4720-cc6a-91982358e497"
      },
      "outputs": [
        {
          "output_type": "stream",
          "name": "stdout",
          "text": [
            "<class 'pandas.core.frame.DataFrame'>\n",
            "RangeIndex: 244126 entries, 0 to 244125\n",
            "Data columns (total 4 columns):\n",
            " #   Column          Non-Null Count   Dtype \n",
            "---  ------          --------------   ----- \n",
            " 0   EventName       244126 non-null  object\n",
            " 1   DeviceIDHash    244126 non-null  int64 \n",
            " 2   EventTimestamp  244126 non-null  int64 \n",
            " 3   ExpId           244126 non-null  int64 \n",
            "dtypes: int64(3), object(1)\n",
            "memory usage: 7.5+ MB\n"
          ]
        }
      ],
      "source": [
        "data.info()"
      ]
    },
    {
      "cell_type": "code",
      "execution_count": 5,
      "metadata": {
        "colab": {
          "base_uri": "https://localhost:8080/",
          "height": 206
        },
        "id": "VHFIyowhhY_0",
        "outputId": "dac8b9d0-4873-4710-bd2c-cea144b421ec"
      },
      "outputs": [
        {
          "output_type": "execute_result",
          "data": {
            "text/plain": [
              "                 EventName         DeviceIDHash  EventTimestamp  ExpId\n",
              "0         MainScreenAppear  4575588528974610257      1564029816    246\n",
              "1         MainScreenAppear  7416695313311560658      1564053102    246\n",
              "2  PaymentScreenSuccessful  3518123091307005509      1564054127    248\n",
              "3         CartScreenAppear  3518123091307005509      1564054127    248\n",
              "4  PaymentScreenSuccessful  6217807653094995999      1564055322    248"
            ],
            "text/html": [
              "\n",
              "  <div id=\"df-7f6c3481-b038-4f34-8c53-830f94293b8d\">\n",
              "    <div class=\"colab-df-container\">\n",
              "      <div>\n",
              "<style scoped>\n",
              "    .dataframe tbody tr th:only-of-type {\n",
              "        vertical-align: middle;\n",
              "    }\n",
              "\n",
              "    .dataframe tbody tr th {\n",
              "        vertical-align: top;\n",
              "    }\n",
              "\n",
              "    .dataframe thead th {\n",
              "        text-align: right;\n",
              "    }\n",
              "</style>\n",
              "<table border=\"1\" class=\"dataframe\">\n",
              "  <thead>\n",
              "    <tr style=\"text-align: right;\">\n",
              "      <th></th>\n",
              "      <th>EventName</th>\n",
              "      <th>DeviceIDHash</th>\n",
              "      <th>EventTimestamp</th>\n",
              "      <th>ExpId</th>\n",
              "    </tr>\n",
              "  </thead>\n",
              "  <tbody>\n",
              "    <tr>\n",
              "      <th>0</th>\n",
              "      <td>MainScreenAppear</td>\n",
              "      <td>4575588528974610257</td>\n",
              "      <td>1564029816</td>\n",
              "      <td>246</td>\n",
              "    </tr>\n",
              "    <tr>\n",
              "      <th>1</th>\n",
              "      <td>MainScreenAppear</td>\n",
              "      <td>7416695313311560658</td>\n",
              "      <td>1564053102</td>\n",
              "      <td>246</td>\n",
              "    </tr>\n",
              "    <tr>\n",
              "      <th>2</th>\n",
              "      <td>PaymentScreenSuccessful</td>\n",
              "      <td>3518123091307005509</td>\n",
              "      <td>1564054127</td>\n",
              "      <td>248</td>\n",
              "    </tr>\n",
              "    <tr>\n",
              "      <th>3</th>\n",
              "      <td>CartScreenAppear</td>\n",
              "      <td>3518123091307005509</td>\n",
              "      <td>1564054127</td>\n",
              "      <td>248</td>\n",
              "    </tr>\n",
              "    <tr>\n",
              "      <th>4</th>\n",
              "      <td>PaymentScreenSuccessful</td>\n",
              "      <td>6217807653094995999</td>\n",
              "      <td>1564055322</td>\n",
              "      <td>248</td>\n",
              "    </tr>\n",
              "  </tbody>\n",
              "</table>\n",
              "</div>\n",
              "      <button class=\"colab-df-convert\" onclick=\"convertToInteractive('df-7f6c3481-b038-4f34-8c53-830f94293b8d')\"\n",
              "              title=\"Convert this dataframe to an interactive table.\"\n",
              "              style=\"display:none;\">\n",
              "        \n",
              "  <svg xmlns=\"http://www.w3.org/2000/svg\" height=\"24px\"viewBox=\"0 0 24 24\"\n",
              "       width=\"24px\">\n",
              "    <path d=\"M0 0h24v24H0V0z\" fill=\"none\"/>\n",
              "    <path d=\"M18.56 5.44l.94 2.06.94-2.06 2.06-.94-2.06-.94-.94-2.06-.94 2.06-2.06.94zm-11 1L8.5 8.5l.94-2.06 2.06-.94-2.06-.94L8.5 2.5l-.94 2.06-2.06.94zm10 10l.94 2.06.94-2.06 2.06-.94-2.06-.94-.94-2.06-.94 2.06-2.06.94z\"/><path d=\"M17.41 7.96l-1.37-1.37c-.4-.4-.92-.59-1.43-.59-.52 0-1.04.2-1.43.59L10.3 9.45l-7.72 7.72c-.78.78-.78 2.05 0 2.83L4 21.41c.39.39.9.59 1.41.59.51 0 1.02-.2 1.41-.59l7.78-7.78 2.81-2.81c.8-.78.8-2.07 0-2.86zM5.41 20L4 18.59l7.72-7.72 1.47 1.35L5.41 20z\"/>\n",
              "  </svg>\n",
              "      </button>\n",
              "      \n",
              "  <style>\n",
              "    .colab-df-container {\n",
              "      display:flex;\n",
              "      flex-wrap:wrap;\n",
              "      gap: 12px;\n",
              "    }\n",
              "\n",
              "    .colab-df-convert {\n",
              "      background-color: #E8F0FE;\n",
              "      border: none;\n",
              "      border-radius: 50%;\n",
              "      cursor: pointer;\n",
              "      display: none;\n",
              "      fill: #1967D2;\n",
              "      height: 32px;\n",
              "      padding: 0 0 0 0;\n",
              "      width: 32px;\n",
              "    }\n",
              "\n",
              "    .colab-df-convert:hover {\n",
              "      background-color: #E2EBFA;\n",
              "      box-shadow: 0px 1px 2px rgba(60, 64, 67, 0.3), 0px 1px 3px 1px rgba(60, 64, 67, 0.15);\n",
              "      fill: #174EA6;\n",
              "    }\n",
              "\n",
              "    [theme=dark] .colab-df-convert {\n",
              "      background-color: #3B4455;\n",
              "      fill: #D2E3FC;\n",
              "    }\n",
              "\n",
              "    [theme=dark] .colab-df-convert:hover {\n",
              "      background-color: #434B5C;\n",
              "      box-shadow: 0px 1px 3px 1px rgba(0, 0, 0, 0.15);\n",
              "      filter: drop-shadow(0px 1px 2px rgba(0, 0, 0, 0.3));\n",
              "      fill: #FFFFFF;\n",
              "    }\n",
              "  </style>\n",
              "\n",
              "      <script>\n",
              "        const buttonEl =\n",
              "          document.querySelector('#df-7f6c3481-b038-4f34-8c53-830f94293b8d button.colab-df-convert');\n",
              "        buttonEl.style.display =\n",
              "          google.colab.kernel.accessAllowed ? 'block' : 'none';\n",
              "\n",
              "        async function convertToInteractive(key) {\n",
              "          const element = document.querySelector('#df-7f6c3481-b038-4f34-8c53-830f94293b8d');\n",
              "          const dataTable =\n",
              "            await google.colab.kernel.invokeFunction('convertToInteractive',\n",
              "                                                     [key], {});\n",
              "          if (!dataTable) return;\n",
              "\n",
              "          const docLinkHtml = 'Like what you see? Visit the ' +\n",
              "            '<a target=\"_blank\" href=https://colab.research.google.com/notebooks/data_table.ipynb>data table notebook</a>'\n",
              "            + ' to learn more about interactive tables.';\n",
              "          element.innerHTML = '';\n",
              "          dataTable['output_type'] = 'display_data';\n",
              "          await google.colab.output.renderOutput(dataTable, element);\n",
              "          const docLink = document.createElement('div');\n",
              "          docLink.innerHTML = docLinkHtml;\n",
              "          element.appendChild(docLink);\n",
              "        }\n",
              "      </script>\n",
              "    </div>\n",
              "  </div>\n",
              "  "
            ]
          },
          "metadata": {},
          "execution_count": 5
        }
      ],
      "source": [
        "data.head()"
      ]
    },
    {
      "cell_type": "code",
      "execution_count": 6,
      "metadata": {
        "colab": {
          "base_uri": "https://localhost:8080/"
        },
        "id": "wYfXua_GhY_0",
        "outputId": "9c474679-3a59-41e0-f265-535e79dec2d7"
      },
      "outputs": [
        {
          "output_type": "execute_result",
          "data": {
            "text/plain": [
              "array(['MainScreenAppear', 'PaymentScreenSuccessful', 'CartScreenAppear',\n",
              "       'OffersScreenAppear', 'Tutorial'], dtype=object)"
            ]
          },
          "metadata": {},
          "execution_count": 6
        }
      ],
      "source": [
        "data['EventName'].unique()"
      ]
    },
    {
      "cell_type": "code",
      "execution_count": 7,
      "metadata": {
        "colab": {
          "base_uri": "https://localhost:8080/"
        },
        "id": "FsTatrVbhY_0",
        "outputId": "3d0f93fb-c58b-4211-f84c-4cd4eb6cea3a"
      },
      "outputs": [
        {
          "output_type": "execute_result",
          "data": {
            "text/plain": [
              "array([246, 248, 247])"
            ]
          },
          "metadata": {},
          "execution_count": 7
        }
      ],
      "source": [
        "data['ExpId'].unique()"
      ]
    },
    {
      "cell_type": "code",
      "execution_count": 8,
      "metadata": {
        "colab": {
          "base_uri": "https://localhost:8080/",
          "height": 52
        },
        "id": "Te3XSZCJhY_0",
        "outputId": "4161b57f-c824-42d8-8982-f1e95ec34275"
      },
      "outputs": [
        {
          "output_type": "display_data",
          "data": {
            "text/plain": [
              "413"
            ]
          },
          "metadata": {}
        },
        {
          "output_type": "execute_result",
          "data": {
            "text/plain": [
              "0.0016917493425526163"
            ]
          },
          "metadata": {},
          "execution_count": 8
        }
      ],
      "source": [
        "#Проверка на дубликаты\n",
        "display(data.duplicated().sum())\n",
        "data.duplicated().sum()/len(data)"
      ]
    },
    {
      "cell_type": "code",
      "execution_count": 9,
      "metadata": {
        "colab": {
          "base_uri": "https://localhost:8080/"
        },
        "id": "cmIODeq5hY_1",
        "outputId": "595457d9-21c4-469d-b9e0-b5668e03a9f4"
      },
      "outputs": [
        {
          "output_type": "execute_result",
          "data": {
            "text/plain": [
              "EventName         0\n",
              "DeviceIDHash      0\n",
              "EventTimestamp    0\n",
              "ExpId             0\n",
              "dtype: int64"
            ]
          },
          "metadata": {},
          "execution_count": 9
        }
      ],
      "source": [
        "#Проверка на пропуски\n",
        "data.isna().sum()"
      ]
    },
    {
      "cell_type": "markdown",
      "metadata": {
        "id": "0Hc_q2AKhY_1"
      },
      "source": [
        "В таблице 244 126 строк. Всего у нас 5 событий, которые совершали пользователи. Есть дубликаты. Заменим названия столбцов на более удобные. Откорректируем тип данных в столбце EventTimestamp, а также добавим отдельный столбец с датой. Избавимся от дубликатов."
      ]
    },
    {
      "cell_type": "code",
      "execution_count": 10,
      "metadata": {
        "colab": {
          "base_uri": "https://localhost:8080/"
        },
        "id": "x0Qa0MK1hY_1",
        "outputId": "d213e697-fbb1-4a1a-ef9f-3614532ae062"
      },
      "outputs": [
        {
          "output_type": "execute_result",
          "data": {
            "text/plain": [
              "Index(['event_name', 'user_id', 'date_time', 'group'], dtype='object')"
            ]
          },
          "metadata": {},
          "execution_count": 10
        }
      ],
      "source": [
        "#Переименуем колонки\n",
        "data.rename(columns = {'EventName':'event_name', 'DeviceIDHash':'user_id', \n",
        "                       'EventTimestamp':'date_time', 'ExpId':'group'}, inplace = True)\n",
        "data.columns"
      ]
    },
    {
      "cell_type": "code",
      "execution_count": 11,
      "metadata": {
        "id": "nLpRovrKhY_1"
      },
      "outputs": [],
      "source": [
        "data['date_time'] = pd.to_datetime(data['date_time'], unit='s')"
      ]
    },
    {
      "cell_type": "code",
      "execution_count": 12,
      "metadata": {
        "id": "37fFrN_BhY_2"
      },
      "outputs": [],
      "source": [
        "data['date'] = pd.to_datetime(data['date_time'].dt.date)"
      ]
    },
    {
      "cell_type": "code",
      "execution_count": 13,
      "metadata": {
        "colab": {
          "base_uri": "https://localhost:8080/"
        },
        "id": "bsCZ2GA0hY_2",
        "outputId": "d7b0ad6b-d447-41e5-e1e0-196bc4b06ab2"
      },
      "outputs": [
        {
          "output_type": "execute_result",
          "data": {
            "text/plain": [
              "0"
            ]
          },
          "metadata": {},
          "execution_count": 13
        }
      ],
      "source": [
        "#Удалим дубликаты\n",
        "data = data.drop_duplicates().reset_index(drop=True)\n",
        "data.duplicated().sum()"
      ]
    },
    {
      "cell_type": "code",
      "execution_count": 14,
      "metadata": {
        "colab": {
          "base_uri": "https://localhost:8080/"
        },
        "id": "n9oSMoS-hY_3",
        "outputId": "5047f4c0-bee4-4cfc-82e2-de4bc85e8ac6"
      },
      "outputs": [
        {
          "output_type": "stream",
          "name": "stdout",
          "text": [
            "<class 'pandas.core.frame.DataFrame'>\n",
            "RangeIndex: 243713 entries, 0 to 243712\n",
            "Data columns (total 5 columns):\n",
            " #   Column      Non-Null Count   Dtype         \n",
            "---  ------      --------------   -----         \n",
            " 0   event_name  243713 non-null  object        \n",
            " 1   user_id     243713 non-null  int64         \n",
            " 2   date_time   243713 non-null  datetime64[ns]\n",
            " 3   group       243713 non-null  int64         \n",
            " 4   date        243713 non-null  datetime64[ns]\n",
            "dtypes: datetime64[ns](2), int64(2), object(1)\n",
            "memory usage: 9.3+ MB\n"
          ]
        }
      ],
      "source": [
        "#Данные после обработки\n",
        "data.info()"
      ]
    },
    {
      "cell_type": "code",
      "execution_count": 15,
      "metadata": {
        "colab": {
          "base_uri": "https://localhost:8080/",
          "height": 206
        },
        "id": "vunGrW-EhY_3",
        "outputId": "050acf50-121e-4e23-aef7-ed74a2f85311"
      },
      "outputs": [
        {
          "output_type": "execute_result",
          "data": {
            "text/plain": [
              "                event_name              user_id           date_time  group  \\\n",
              "0         MainScreenAppear  4575588528974610257 2019-07-25 04:43:36    246   \n",
              "1         MainScreenAppear  7416695313311560658 2019-07-25 11:11:42    246   \n",
              "2  PaymentScreenSuccessful  3518123091307005509 2019-07-25 11:28:47    248   \n",
              "3         CartScreenAppear  3518123091307005509 2019-07-25 11:28:47    248   \n",
              "4  PaymentScreenSuccessful  6217807653094995999 2019-07-25 11:48:42    248   \n",
              "\n",
              "        date  \n",
              "0 2019-07-25  \n",
              "1 2019-07-25  \n",
              "2 2019-07-25  \n",
              "3 2019-07-25  \n",
              "4 2019-07-25  "
            ],
            "text/html": [
              "\n",
              "  <div id=\"df-277aa403-8489-40c5-8ed7-4edcf089fb9a\">\n",
              "    <div class=\"colab-df-container\">\n",
              "      <div>\n",
              "<style scoped>\n",
              "    .dataframe tbody tr th:only-of-type {\n",
              "        vertical-align: middle;\n",
              "    }\n",
              "\n",
              "    .dataframe tbody tr th {\n",
              "        vertical-align: top;\n",
              "    }\n",
              "\n",
              "    .dataframe thead th {\n",
              "        text-align: right;\n",
              "    }\n",
              "</style>\n",
              "<table border=\"1\" class=\"dataframe\">\n",
              "  <thead>\n",
              "    <tr style=\"text-align: right;\">\n",
              "      <th></th>\n",
              "      <th>event_name</th>\n",
              "      <th>user_id</th>\n",
              "      <th>date_time</th>\n",
              "      <th>group</th>\n",
              "      <th>date</th>\n",
              "    </tr>\n",
              "  </thead>\n",
              "  <tbody>\n",
              "    <tr>\n",
              "      <th>0</th>\n",
              "      <td>MainScreenAppear</td>\n",
              "      <td>4575588528974610257</td>\n",
              "      <td>2019-07-25 04:43:36</td>\n",
              "      <td>246</td>\n",
              "      <td>2019-07-25</td>\n",
              "    </tr>\n",
              "    <tr>\n",
              "      <th>1</th>\n",
              "      <td>MainScreenAppear</td>\n",
              "      <td>7416695313311560658</td>\n",
              "      <td>2019-07-25 11:11:42</td>\n",
              "      <td>246</td>\n",
              "      <td>2019-07-25</td>\n",
              "    </tr>\n",
              "    <tr>\n",
              "      <th>2</th>\n",
              "      <td>PaymentScreenSuccessful</td>\n",
              "      <td>3518123091307005509</td>\n",
              "      <td>2019-07-25 11:28:47</td>\n",
              "      <td>248</td>\n",
              "      <td>2019-07-25</td>\n",
              "    </tr>\n",
              "    <tr>\n",
              "      <th>3</th>\n",
              "      <td>CartScreenAppear</td>\n",
              "      <td>3518123091307005509</td>\n",
              "      <td>2019-07-25 11:28:47</td>\n",
              "      <td>248</td>\n",
              "      <td>2019-07-25</td>\n",
              "    </tr>\n",
              "    <tr>\n",
              "      <th>4</th>\n",
              "      <td>PaymentScreenSuccessful</td>\n",
              "      <td>6217807653094995999</td>\n",
              "      <td>2019-07-25 11:48:42</td>\n",
              "      <td>248</td>\n",
              "      <td>2019-07-25</td>\n",
              "    </tr>\n",
              "  </tbody>\n",
              "</table>\n",
              "</div>\n",
              "      <button class=\"colab-df-convert\" onclick=\"convertToInteractive('df-277aa403-8489-40c5-8ed7-4edcf089fb9a')\"\n",
              "              title=\"Convert this dataframe to an interactive table.\"\n",
              "              style=\"display:none;\">\n",
              "        \n",
              "  <svg xmlns=\"http://www.w3.org/2000/svg\" height=\"24px\"viewBox=\"0 0 24 24\"\n",
              "       width=\"24px\">\n",
              "    <path d=\"M0 0h24v24H0V0z\" fill=\"none\"/>\n",
              "    <path d=\"M18.56 5.44l.94 2.06.94-2.06 2.06-.94-2.06-.94-.94-2.06-.94 2.06-2.06.94zm-11 1L8.5 8.5l.94-2.06 2.06-.94-2.06-.94L8.5 2.5l-.94 2.06-2.06.94zm10 10l.94 2.06.94-2.06 2.06-.94-2.06-.94-.94-2.06-.94 2.06-2.06.94z\"/><path d=\"M17.41 7.96l-1.37-1.37c-.4-.4-.92-.59-1.43-.59-.52 0-1.04.2-1.43.59L10.3 9.45l-7.72 7.72c-.78.78-.78 2.05 0 2.83L4 21.41c.39.39.9.59 1.41.59.51 0 1.02-.2 1.41-.59l7.78-7.78 2.81-2.81c.8-.78.8-2.07 0-2.86zM5.41 20L4 18.59l7.72-7.72 1.47 1.35L5.41 20z\"/>\n",
              "  </svg>\n",
              "      </button>\n",
              "      \n",
              "  <style>\n",
              "    .colab-df-container {\n",
              "      display:flex;\n",
              "      flex-wrap:wrap;\n",
              "      gap: 12px;\n",
              "    }\n",
              "\n",
              "    .colab-df-convert {\n",
              "      background-color: #E8F0FE;\n",
              "      border: none;\n",
              "      border-radius: 50%;\n",
              "      cursor: pointer;\n",
              "      display: none;\n",
              "      fill: #1967D2;\n",
              "      height: 32px;\n",
              "      padding: 0 0 0 0;\n",
              "      width: 32px;\n",
              "    }\n",
              "\n",
              "    .colab-df-convert:hover {\n",
              "      background-color: #E2EBFA;\n",
              "      box-shadow: 0px 1px 2px rgba(60, 64, 67, 0.3), 0px 1px 3px 1px rgba(60, 64, 67, 0.15);\n",
              "      fill: #174EA6;\n",
              "    }\n",
              "\n",
              "    [theme=dark] .colab-df-convert {\n",
              "      background-color: #3B4455;\n",
              "      fill: #D2E3FC;\n",
              "    }\n",
              "\n",
              "    [theme=dark] .colab-df-convert:hover {\n",
              "      background-color: #434B5C;\n",
              "      box-shadow: 0px 1px 3px 1px rgba(0, 0, 0, 0.15);\n",
              "      filter: drop-shadow(0px 1px 2px rgba(0, 0, 0, 0.3));\n",
              "      fill: #FFFFFF;\n",
              "    }\n",
              "  </style>\n",
              "\n",
              "      <script>\n",
              "        const buttonEl =\n",
              "          document.querySelector('#df-277aa403-8489-40c5-8ed7-4edcf089fb9a button.colab-df-convert');\n",
              "        buttonEl.style.display =\n",
              "          google.colab.kernel.accessAllowed ? 'block' : 'none';\n",
              "\n",
              "        async function convertToInteractive(key) {\n",
              "          const element = document.querySelector('#df-277aa403-8489-40c5-8ed7-4edcf089fb9a');\n",
              "          const dataTable =\n",
              "            await google.colab.kernel.invokeFunction('convertToInteractive',\n",
              "                                                     [key], {});\n",
              "          if (!dataTable) return;\n",
              "\n",
              "          const docLinkHtml = 'Like what you see? Visit the ' +\n",
              "            '<a target=\"_blank\" href=https://colab.research.google.com/notebooks/data_table.ipynb>data table notebook</a>'\n",
              "            + ' to learn more about interactive tables.';\n",
              "          element.innerHTML = '';\n",
              "          dataTable['output_type'] = 'display_data';\n",
              "          await google.colab.output.renderOutput(dataTable, element);\n",
              "          const docLink = document.createElement('div');\n",
              "          docLink.innerHTML = docLinkHtml;\n",
              "          element.appendChild(docLink);\n",
              "        }\n",
              "      </script>\n",
              "    </div>\n",
              "  </div>\n",
              "  "
            ]
          },
          "metadata": {},
          "execution_count": 15
        }
      ],
      "source": [
        "data.head()"
      ]
    },
    {
      "cell_type": "markdown",
      "metadata": {
        "id": "jnP95FV4hY_3"
      },
      "source": [
        "Нужно проверить, не пересекаются ли пользователи в группах теста. Это важно, чтобы эксперимент прошел без искажений."
      ]
    },
    {
      "cell_type": "code",
      "execution_count": 16,
      "metadata": {
        "colab": {
          "base_uri": "https://localhost:8080/",
          "height": 49
        },
        "id": "dMRBo4w0hY_3",
        "outputId": "bb093a81-d3b7-4be1-95be-db96018d317f"
      },
      "outputs": [
        {
          "output_type": "execute_result",
          "data": {
            "text/plain": [
              "Empty DataFrame\n",
              "Columns: [user_id, group]\n",
              "Index: []"
            ],
            "text/html": [
              "\n",
              "  <div id=\"df-c5373872-444e-4dc0-85f0-46078ecbcec3\">\n",
              "    <div class=\"colab-df-container\">\n",
              "      <div>\n",
              "<style scoped>\n",
              "    .dataframe tbody tr th:only-of-type {\n",
              "        vertical-align: middle;\n",
              "    }\n",
              "\n",
              "    .dataframe tbody tr th {\n",
              "        vertical-align: top;\n",
              "    }\n",
              "\n",
              "    .dataframe thead th {\n",
              "        text-align: right;\n",
              "    }\n",
              "</style>\n",
              "<table border=\"1\" class=\"dataframe\">\n",
              "  <thead>\n",
              "    <tr style=\"text-align: right;\">\n",
              "      <th></th>\n",
              "      <th>user_id</th>\n",
              "      <th>group</th>\n",
              "    </tr>\n",
              "  </thead>\n",
              "  <tbody>\n",
              "  </tbody>\n",
              "</table>\n",
              "</div>\n",
              "      <button class=\"colab-df-convert\" onclick=\"convertToInteractive('df-c5373872-444e-4dc0-85f0-46078ecbcec3')\"\n",
              "              title=\"Convert this dataframe to an interactive table.\"\n",
              "              style=\"display:none;\">\n",
              "        \n",
              "  <svg xmlns=\"http://www.w3.org/2000/svg\" height=\"24px\"viewBox=\"0 0 24 24\"\n",
              "       width=\"24px\">\n",
              "    <path d=\"M0 0h24v24H0V0z\" fill=\"none\"/>\n",
              "    <path d=\"M18.56 5.44l.94 2.06.94-2.06 2.06-.94-2.06-.94-.94-2.06-.94 2.06-2.06.94zm-11 1L8.5 8.5l.94-2.06 2.06-.94-2.06-.94L8.5 2.5l-.94 2.06-2.06.94zm10 10l.94 2.06.94-2.06 2.06-.94-2.06-.94-.94-2.06-.94 2.06-2.06.94z\"/><path d=\"M17.41 7.96l-1.37-1.37c-.4-.4-.92-.59-1.43-.59-.52 0-1.04.2-1.43.59L10.3 9.45l-7.72 7.72c-.78.78-.78 2.05 0 2.83L4 21.41c.39.39.9.59 1.41.59.51 0 1.02-.2 1.41-.59l7.78-7.78 2.81-2.81c.8-.78.8-2.07 0-2.86zM5.41 20L4 18.59l7.72-7.72 1.47 1.35L5.41 20z\"/>\n",
              "  </svg>\n",
              "      </button>\n",
              "      \n",
              "  <style>\n",
              "    .colab-df-container {\n",
              "      display:flex;\n",
              "      flex-wrap:wrap;\n",
              "      gap: 12px;\n",
              "    }\n",
              "\n",
              "    .colab-df-convert {\n",
              "      background-color: #E8F0FE;\n",
              "      border: none;\n",
              "      border-radius: 50%;\n",
              "      cursor: pointer;\n",
              "      display: none;\n",
              "      fill: #1967D2;\n",
              "      height: 32px;\n",
              "      padding: 0 0 0 0;\n",
              "      width: 32px;\n",
              "    }\n",
              "\n",
              "    .colab-df-convert:hover {\n",
              "      background-color: #E2EBFA;\n",
              "      box-shadow: 0px 1px 2px rgba(60, 64, 67, 0.3), 0px 1px 3px 1px rgba(60, 64, 67, 0.15);\n",
              "      fill: #174EA6;\n",
              "    }\n",
              "\n",
              "    [theme=dark] .colab-df-convert {\n",
              "      background-color: #3B4455;\n",
              "      fill: #D2E3FC;\n",
              "    }\n",
              "\n",
              "    [theme=dark] .colab-df-convert:hover {\n",
              "      background-color: #434B5C;\n",
              "      box-shadow: 0px 1px 3px 1px rgba(0, 0, 0, 0.15);\n",
              "      filter: drop-shadow(0px 1px 2px rgba(0, 0, 0, 0.3));\n",
              "      fill: #FFFFFF;\n",
              "    }\n",
              "  </style>\n",
              "\n",
              "      <script>\n",
              "        const buttonEl =\n",
              "          document.querySelector('#df-c5373872-444e-4dc0-85f0-46078ecbcec3 button.colab-df-convert');\n",
              "        buttonEl.style.display =\n",
              "          google.colab.kernel.accessAllowed ? 'block' : 'none';\n",
              "\n",
              "        async function convertToInteractive(key) {\n",
              "          const element = document.querySelector('#df-c5373872-444e-4dc0-85f0-46078ecbcec3');\n",
              "          const dataTable =\n",
              "            await google.colab.kernel.invokeFunction('convertToInteractive',\n",
              "                                                     [key], {});\n",
              "          if (!dataTable) return;\n",
              "\n",
              "          const docLinkHtml = 'Like what you see? Visit the ' +\n",
              "            '<a target=\"_blank\" href=https://colab.research.google.com/notebooks/data_table.ipynb>data table notebook</a>'\n",
              "            + ' to learn more about interactive tables.';\n",
              "          element.innerHTML = '';\n",
              "          dataTable['output_type'] = 'display_data';\n",
              "          await google.colab.output.renderOutput(dataTable, element);\n",
              "          const docLink = document.createElement('div');\n",
              "          docLink.innerHTML = docLinkHtml;\n",
              "          element.appendChild(docLink);\n",
              "        }\n",
              "      </script>\n",
              "    </div>\n",
              "  </div>\n",
              "  "
            ]
          },
          "metadata": {},
          "execution_count": 16
        }
      ],
      "source": [
        "data.groupby('user_id')['group'].nunique().reset_index().query('group > 1')"
      ]
    },
    {
      "cell_type": "markdown",
      "metadata": {
        "id": "1CQh6IrZhY_3"
      },
      "source": [
        "Данные обработаны, пользоваетли не пересекаются между группами теста, можно переходить к анализу."
      ]
    },
    {
      "cell_type": "markdown",
      "metadata": {
        "id": "pTKMcKushY_4"
      },
      "source": [
        "### Часть 2. Изучение воронки событий"
      ]
    },
    {
      "cell_type": "markdown",
      "metadata": {
        "id": "zCAINZBmhY_4"
      },
      "source": [
        "Разберемся, сколько всего событий в логе, сколько всего пользователей, сколько в среднем событий приходится на пользователя."
      ]
    },
    {
      "cell_type": "code",
      "execution_count": 17,
      "metadata": {
        "colab": {
          "base_uri": "https://localhost:8080/"
        },
        "id": "GsF6_6-shY_4",
        "outputId": "1cf18dbd-c273-4b91-c7b2-e1813c16d807"
      },
      "outputs": [
        {
          "output_type": "stream",
          "name": "stdout",
          "text": [
            "Всего событий в логе - 243713.\n",
            "Всего уникальных событий в логе - 5. Всего пользователей в логе - 7551.\n",
            "В среднем на одного пользователя приходится 32.27559263673685 событий.\n"
          ]
        }
      ],
      "source": [
        "#data.event_name.nunique()\n",
        "print(f'Всего событий в логе - {data.shape[0]}.')\n",
        "print(f'Всего уникальных событий в логе - {data.event_name.nunique()}. Всего пользователей в логе - {data.user_id.nunique()}.') \n",
        "print(f'В среднем на одного пользователя приходится {len(data)/data.user_id.nunique()} событий.')"
      ]
    },
    {
      "cell_type": "markdown",
      "metadata": {
        "id": "TbSEyh-6hY_4"
      },
      "source": [
        "Посмотрим, данными за какой период мы располагаем."
      ]
    },
    {
      "cell_type": "code",
      "execution_count": 18,
      "metadata": {
        "colab": {
          "base_uri": "https://localhost:8080/"
        },
        "id": "T0Gz9FIjhZAB",
        "outputId": "251f3583-d617-4d15-a42a-40cd0b656a65"
      },
      "outputs": [
        {
          "output_type": "stream",
          "name": "stdout",
          "text": [
            "Минимальная дата в логе - 2019-07-25 00:00:00. Максимальная дата в логе - 2019-08-07 00:00:00\n"
          ]
        }
      ],
      "source": [
        "print(f'Минимальная дата в логе - {min(data.date)}. Максимальная дата в логе - {max(data.date)}')"
      ]
    },
    {
      "cell_type": "markdown",
      "metadata": {
        "id": "q806Y-B9hZAB"
      },
      "source": [
        "Построим гистограмму с количеством пользователей по дате и времени, чтобы посмотреть, одинаково ли полные данные за весь период, или нет."
      ]
    },
    {
      "cell_type": "code",
      "execution_count": 19,
      "metadata": {
        "colab": {
          "base_uri": "https://localhost:8080/",
          "height": 423
        },
        "id": "Q5EcF0sQhZAB",
        "outputId": "686e4124-a589-42e4-f4a3-f2c5095ecd53"
      },
      "outputs": [
        {
          "output_type": "display_data",
          "data": {
            "text/plain": [
              "<Figure size 1700x600 with 1 Axes>"
            ],
            "image/png": "[encoded data removed]"
          },
          "metadata": {}
        }
      ],
      "source": [
        "plt.figure(figsize=(17,6));\n",
        "data.date_time.hist(bins = 15);"
      ]
    },
    {
      "cell_type": "markdown",
      "metadata": {
        "id": "g84ZWzJJhZAC"
      },
      "source": [
        "Технически в логи новых дней по некоторым пользователям могут «доезжать» события из прошлого — это может «перекашивать данные». Будем считать, что данные полные с 1 августа и отбросим более старые."
      ]
    },
    {
      "cell_type": "code",
      "execution_count": 20,
      "metadata": {
        "id": "aEE6eQvDhZAC"
      },
      "outputs": [],
      "source": [
        "data_filtered = data.query('date >= \"2019-08-01\"')"
      ]
    },
    {
      "cell_type": "markdown",
      "metadata": {
        "id": "6awB0-FthZAC"
      },
      "source": [
        "Посмотрим, сколько событий и пользователей мы потеряли, отбросив старые данные"
      ]
    },
    {
      "cell_type": "code",
      "execution_count": 21,
      "metadata": {
        "colab": {
          "base_uri": "https://localhost:8080/",
          "height": 52
        },
        "id": "B9Xc7aMchZAC",
        "outputId": "abc3900d-4842-49de-87e5-6a8eeffcc8ad"
      },
      "outputs": [
        {
          "output_type": "display_data",
          "data": {
            "text/plain": [
              "2826"
            ]
          },
          "metadata": {}
        },
        {
          "output_type": "execute_result",
          "data": {
            "text/plain": [
              "1.1595606307418933"
            ]
          },
          "metadata": {},
          "execution_count": 21
        }
      ],
      "source": [
        "#События\n",
        "display(data.shape[0] - data_filtered.shape[0])\n",
        "100 - (data_filtered.shape[0] * 100 / data.shape[0])"
      ]
    },
    {
      "cell_type": "code",
      "execution_count": 22,
      "metadata": {
        "colab": {
          "base_uri": "https://localhost:8080/",
          "height": 52
        },
        "id": "eP7q8Q_9hZAD",
        "outputId": "dba94116-46d6-4ba1-8303-2cdbaf55cbe7"
      },
      "outputs": [
        {
          "output_type": "display_data",
          "data": {
            "text/plain": [
              "17"
            ]
          },
          "metadata": {}
        },
        {
          "output_type": "execute_result",
          "data": {
            "text/plain": [
              "0.22513574361012445"
            ]
          },
          "metadata": {},
          "execution_count": 22
        }
      ],
      "source": [
        "#Пользователи\n",
        "display(data.user_id.nunique() - data_filtered.user_id.nunique())\n",
        "100 - (data_filtered.user_id.nunique() * 100 / data.user_id.nunique())"
      ]
    },
    {
      "cell_type": "markdown",
      "metadata": {
        "id": "HX9-_zTohZAD"
      },
      "source": [
        "Потери в событиях составили 2826 (1.2%), потери в пользователях - 17 (0.2%)"
      ]
    },
    {
      "cell_type": "markdown",
      "metadata": {
        "id": "LMs6IDX9hZAD"
      },
      "source": [
        "Посмотрим на распределение пользователей в тестовых группах"
      ]
    },
    {
      "cell_type": "code",
      "execution_count": 23,
      "metadata": {
        "colab": {
          "base_uri": "https://localhost:8080/",
          "height": 175
        },
        "id": "DOc4rQcvhZAD",
        "outputId": "79e83cdc-22cc-4e0c-abc8-3bef9df0ba83"
      },
      "outputs": [
        {
          "output_type": "execute_result",
          "data": {
            "text/plain": [
              "       user_id\n",
              "group         \n",
              "246      79302\n",
              "247      77022\n",
              "248      84563"
            ],
            "text/html": [
              "\n",
              "  <div id=\"df-8ee36455-9537-40e6-bc80-6d71fec1d606\">\n",
              "    <div class=\"colab-df-container\">\n",
              "      <div>\n",
              "<style scoped>\n",
              "    .dataframe tbody tr th:only-of-type {\n",
              "        vertical-align: middle;\n",
              "    }\n",
              "\n",
              "    .dataframe tbody tr th {\n",
              "        vertical-align: top;\n",
              "    }\n",
              "\n",
              "    .dataframe thead th {\n",
              "        text-align: right;\n",
              "    }\n",
              "</style>\n",
              "<table border=\"1\" class=\"dataframe\">\n",
              "  <thead>\n",
              "    <tr style=\"text-align: right;\">\n",
              "      <th></th>\n",
              "      <th>user_id</th>\n",
              "    </tr>\n",
              "    <tr>\n",
              "      <th>group</th>\n",
              "      <th></th>\n",
              "    </tr>\n",
              "  </thead>\n",
              "  <tbody>\n",
              "    <tr>\n",
              "      <th>246</th>\n",
              "      <td>79302</td>\n",
              "    </tr>\n",
              "    <tr>\n",
              "      <th>247</th>\n",
              "      <td>77022</td>\n",
              "    </tr>\n",
              "    <tr>\n",
              "      <th>248</th>\n",
              "      <td>84563</td>\n",
              "    </tr>\n",
              "  </tbody>\n",
              "</table>\n",
              "</div>\n",
              "      <button class=\"colab-df-convert\" onclick=\"convertToInteractive('df-8ee36455-9537-40e6-bc80-6d71fec1d606')\"\n",
              "              title=\"Convert this dataframe to an interactive table.\"\n",
              "              style=\"display:none;\">\n",
              "        \n",
              "  <svg xmlns=\"http://www.w3.org/2000/svg\" height=\"24px\"viewBox=\"0 0 24 24\"\n",
              "       width=\"24px\">\n",
              "    <path d=\"M0 0h24v24H0V0z\" fill=\"none\"/>\n",
              "    <path d=\"M18.56 5.44l.94 2.06.94-2.06 2.06-.94-2.06-.94-.94-2.06-.94 2.06-2.06.94zm-11 1L8.5 8.5l.94-2.06 2.06-.94-2.06-.94L8.5 2.5l-.94 2.06-2.06.94zm10 10l.94 2.06.94-2.06 2.06-.94-2.06-.94-.94-2.06-.94 2.06-2.06.94z\"/><path d=\"M17.41 7.96l-1.37-1.37c-.4-.4-.92-.59-1.43-.59-.52 0-1.04.2-1.43.59L10.3 9.45l-7.72 7.72c-.78.78-.78 2.05 0 2.83L4 21.41c.39.39.9.59 1.41.59.51 0 1.02-.2 1.41-.59l7.78-7.78 2.81-2.81c.8-.78.8-2.07 0-2.86zM5.41 20L4 18.59l7.72-7.72 1.47 1.35L5.41 20z\"/>\n",
              "  </svg>\n",
              "      </button>\n",
              "      \n",
              "  <style>\n",
              "    .colab-df-container {\n",
              "      display:flex;\n",
              "      flex-wrap:wrap;\n",
              "      gap: 12px;\n",
              "    }\n",
              "\n",
              "    .colab-df-convert {\n",
              "      background-color: #E8F0FE;\n",
              "      border: none;\n",
              "      border-radius: 50%;\n",
              "      cursor: pointer;\n",
              "      display: none;\n",
              "      fill: #1967D2;\n",
              "      height: 32px;\n",
              "      padding: 0 0 0 0;\n",
              "      width: 32px;\n",
              "    }\n",
              "\n",
              "    .colab-df-convert:hover {\n",
              "      background-color: #E2EBFA;\n",
              "      box-shadow: 0px 1px 2px rgba(60, 64, 67, 0.3), 0px 1px 3px 1px rgba(60, 64, 67, 0.15);\n",
              "      fill: #174EA6;\n",
              "    }\n",
              "\n",
              "    [theme=dark] .colab-df-convert {\n",
              "      background-color: #3B4455;\n",
              "      fill: #D2E3FC;\n",
              "    }\n",
              "\n",
              "    [theme=dark] .colab-df-convert:hover {\n",
              "      background-color: #434B5C;\n",
              "      box-shadow: 0px 1px 3px 1px rgba(0, 0, 0, 0.15);\n",
              "      filter: drop-shadow(0px 1px 2px rgba(0, 0, 0, 0.3));\n",
              "      fill: #FFFFFF;\n",
              "    }\n",
              "  </style>\n",
              "\n",
              "      <script>\n",
              "        const buttonEl =\n",
              "          document.querySelector('#df-8ee36455-9537-40e6-bc80-6d71fec1d606 button.colab-df-convert');\n",
              "        buttonEl.style.display =\n",
              "          google.colab.kernel.accessAllowed ? 'block' : 'none';\n",
              "\n",
              "        async function convertToInteractive(key) {\n",
              "          const element = document.querySelector('#df-8ee36455-9537-40e6-bc80-6d71fec1d606');\n",
              "          const dataTable =\n",
              "            await google.colab.kernel.invokeFunction('convertToInteractive',\n",
              "                                                     [key], {});\n",
              "          if (!dataTable) return;\n",
              "\n",
              "          const docLinkHtml = 'Like what you see? Visit the ' +\n",
              "            '<a target=\"_blank\" href=https://colab.research.google.com/notebooks/data_table.ipynb>data table notebook</a>'\n",
              "            + ' to learn more about interactive tables.';\n",
              "          element.innerHTML = '';\n",
              "          dataTable['output_type'] = 'display_data';\n",
              "          await google.colab.output.renderOutput(dataTable, element);\n",
              "          const docLink = document.createElement('div');\n",
              "          docLink.innerHTML = docLinkHtml;\n",
              "          element.appendChild(docLink);\n",
              "        }\n",
              "      </script>\n",
              "    </div>\n",
              "  </div>\n",
              "  "
            ]
          },
          "metadata": {},
          "execution_count": 23
        }
      ],
      "source": [
        "#По количеству событий\n",
        "data_filtered.groupby(['group']).agg({'user_id': 'count'})"
      ]
    },
    {
      "cell_type": "code",
      "execution_count": 24,
      "metadata": {
        "colab": {
          "base_uri": "https://localhost:8080/",
          "height": 175
        },
        "id": "89vZM1yShZAD",
        "outputId": "eaa61531-3577-4bad-9350-326dfb77e25b"
      },
      "outputs": [
        {
          "output_type": "execute_result",
          "data": {
            "text/plain": [
              "       user_id\n",
              "group         \n",
              "246       2484\n",
              "247       2513\n",
              "248       2537"
            ],
            "text/html": [
              "\n",
              "  <div id=\"df-aa05b8d6-c5c5-47b9-af82-3da3f8a68d0c\">\n",
              "    <div class=\"colab-df-container\">\n",
              "      <div>\n",
              "<style scoped>\n",
              "    .dataframe tbody tr th:only-of-type {\n",
              "        vertical-align: middle;\n",
              "    }\n",
              "\n",
              "    .dataframe tbody tr th {\n",
              "        vertical-align: top;\n",
              "    }\n",
              "\n",
              "    .dataframe thead th {\n",
              "        text-align: right;\n",
              "    }\n",
              "</style>\n",
              "<table border=\"1\" class=\"dataframe\">\n",
              "  <thead>\n",
              "    <tr style=\"text-align: right;\">\n",
              "      <th></th>\n",
              "      <th>user_id</th>\n",
              "    </tr>\n",
              "    <tr>\n",
              "      <th>group</th>\n",
              "      <th></th>\n",
              "    </tr>\n",
              "  </thead>\n",
              "  <tbody>\n",
              "    <tr>\n",
              "      <th>246</th>\n",
              "      <td>2484</td>\n",
              "    </tr>\n",
              "    <tr>\n",
              "      <th>247</th>\n",
              "      <td>2513</td>\n",
              "    </tr>\n",
              "    <tr>\n",
              "      <th>248</th>\n",
              "      <td>2537</td>\n",
              "    </tr>\n",
              "  </tbody>\n",
              "</table>\n",
              "</div>\n",
              "      <button class=\"colab-df-convert\" onclick=\"convertToInteractive('df-aa05b8d6-c5c5-47b9-af82-3da3f8a68d0c')\"\n",
              "              title=\"Convert this dataframe to an interactive table.\"\n",
              "              style=\"display:none;\">\n",
              "        \n",
              "  <svg xmlns=\"http://www.w3.org/2000/svg\" height=\"24px\"viewBox=\"0 0 24 24\"\n",
              "       width=\"24px\">\n",
              "    <path d=\"M0 0h24v24H0V0z\" fill=\"none\"/>\n",
              "    <path d=\"M18.56 5.44l.94 2.06.94-2.06 2.06-.94-2.06-.94-.94-2.06-.94 2.06-2.06.94zm-11 1L8.5 8.5l.94-2.06 2.06-.94-2.06-.94L8.5 2.5l-.94 2.06-2.06.94zm10 10l.94 2.06.94-2.06 2.06-.94-2.06-.94-.94-2.06-.94 2.06-2.06.94z\"/><path d=\"M17.41 7.96l-1.37-1.37c-.4-.4-.92-.59-1.43-.59-.52 0-1.04.2-1.43.59L10.3 9.45l-7.72 7.72c-.78.78-.78 2.05 0 2.83L4 21.41c.39.39.9.59 1.41.59.51 0 1.02-.2 1.41-.59l7.78-7.78 2.81-2.81c.8-.78.8-2.07 0-2.86zM5.41 20L4 18.59l7.72-7.72 1.47 1.35L5.41 20z\"/>\n",
              "  </svg>\n",
              "      </button>\n",
              "      \n",
              "  <style>\n",
              "    .colab-df-container {\n",
              "      display:flex;\n",
              "      flex-wrap:wrap;\n",
              "      gap: 12px;\n",
              "    }\n",
              "\n",
              "    .colab-df-convert {\n",
              "      background-color: #E8F0FE;\n",
              "      border: none;\n",
              "      border-radius: 50%;\n",
              "      cursor: pointer;\n",
              "      display: none;\n",
              "      fill: #1967D2;\n",
              "      height: 32px;\n",
              "      padding: 0 0 0 0;\n",
              "      width: 32px;\n",
              "    }\n",
              "\n",
              "    .colab-df-convert:hover {\n",
              "      background-color: #E2EBFA;\n",
              "      box-shadow: 0px 1px 2px rgba(60, 64, 67, 0.3), 0px 1px 3px 1px rgba(60, 64, 67, 0.15);\n",
              "      fill: #174EA6;\n",
              "    }\n",
              "\n",
              "    [theme=dark] .colab-df-convert {\n",
              "      background-color: #3B4455;\n",
              "      fill: #D2E3FC;\n",
              "    }\n",
              "\n",
              "    [theme=dark] .colab-df-convert:hover {\n",
              "      background-color: #434B5C;\n",
              "      box-shadow: 0px 1px 3px 1px rgba(0, 0, 0, 0.15);\n",
              "      filter: drop-shadow(0px 1px 2px rgba(0, 0, 0, 0.3));\n",
              "      fill: #FFFFFF;\n",
              "    }\n",
              "  </style>\n",
              "\n",
              "      <script>\n",
              "        const buttonEl =\n",
              "          document.querySelector('#df-aa05b8d6-c5c5-47b9-af82-3da3f8a68d0c button.colab-df-convert');\n",
              "        buttonEl.style.display =\n",
              "          google.colab.kernel.accessAllowed ? 'block' : 'none';\n",
              "\n",
              "        async function convertToInteractive(key) {\n",
              "          const element = document.querySelector('#df-aa05b8d6-c5c5-47b9-af82-3da3f8a68d0c');\n",
              "          const dataTable =\n",
              "            await google.colab.kernel.invokeFunction('convertToInteractive',\n",
              "                                                     [key], {});\n",
              "          if (!dataTable) return;\n",
              "\n",
              "          const docLinkHtml = 'Like what you see? Visit the ' +\n",
              "            '<a target=\"_blank\" href=https://colab.research.google.com/notebooks/data_table.ipynb>data table notebook</a>'\n",
              "            + ' to learn more about interactive tables.';\n",
              "          element.innerHTML = '';\n",
              "          dataTable['output_type'] = 'display_data';\n",
              "          await google.colab.output.renderOutput(dataTable, element);\n",
              "          const docLink = document.createElement('div');\n",
              "          docLink.innerHTML = docLinkHtml;\n",
              "          element.appendChild(docLink);\n",
              "        }\n",
              "      </script>\n",
              "    </div>\n",
              "  </div>\n",
              "  "
            ]
          },
          "metadata": {},
          "execution_count": 24
        }
      ],
      "source": [
        "#По количеству уникальных пользователей\n",
        "data_filtered.groupby(['group']).agg({'user_id': 'nunique'})"
      ]
    },
    {
      "cell_type": "markdown",
      "metadata": {
        "id": "n_qCcJQphZAE"
      },
      "source": [
        "По количеству событий группы немного разнятся, больше всего их в экспериментальной группе 248. По количеству уникальных пользователей группы примерно одинаковы."
      ]
    },
    {
      "cell_type": "markdown",
      "metadata": {
        "id": "vjK-BHfvhZAE"
      },
      "source": [
        "<b>Воронка событий</b>"
      ]
    },
    {
      "cell_type": "markdown",
      "metadata": {
        "id": "TjSXMJXwhZAE"
      },
      "source": [
        "Посмотрим, какие события есть в логах, как часто они встречаются. Отсортируем события по частоте."
      ]
    },
    {
      "cell_type": "code",
      "execution_count": 25,
      "metadata": {
        "colab": {
          "base_uri": "https://localhost:8080/",
          "height": 206
        },
        "id": "liG46GrXhZAE",
        "outputId": "351280ff-4ad4-4cb5-f41a-21512310d4b7"
      },
      "outputs": [
        {
          "output_type": "execute_result",
          "data": {
            "text/plain": [
              "                event_name  total_events\n",
              "1         MainScreenAppear        117328\n",
              "2       OffersScreenAppear         46333\n",
              "0         CartScreenAppear         42303\n",
              "3  PaymentScreenSuccessful         33918\n",
              "4                 Tutorial          1005"
            ],
            "text/html": [
              "\n",
              "  <div id=\"df-f2a53ba8-d73b-4dfb-949d-e29014cdd80f\">\n",
              "    <div class=\"colab-df-container\">\n",
              "      <div>\n",
              "<style scoped>\n",
              "    .dataframe tbody tr th:only-of-type {\n",
              "        vertical-align: middle;\n",
              "    }\n",
              "\n",
              "    .dataframe tbody tr th {\n",
              "        vertical-align: top;\n",
              "    }\n",
              "\n",
              "    .dataframe thead th {\n",
              "        text-align: right;\n",
              "    }\n",
              "</style>\n",
              "<table border=\"1\" class=\"dataframe\">\n",
              "  <thead>\n",
              "    <tr style=\"text-align: right;\">\n",
              "      <th></th>\n",
              "      <th>event_name</th>\n",
              "      <th>total_events</th>\n",
              "    </tr>\n",
              "  </thead>\n",
              "  <tbody>\n",
              "    <tr>\n",
              "      <th>1</th>\n",
              "      <td>MainScreenAppear</td>\n",
              "      <td>117328</td>\n",
              "    </tr>\n",
              "    <tr>\n",
              "      <th>2</th>\n",
              "      <td>OffersScreenAppear</td>\n",
              "      <td>46333</td>\n",
              "    </tr>\n",
              "    <tr>\n",
              "      <th>0</th>\n",
              "      <td>CartScreenAppear</td>\n",
              "      <td>42303</td>\n",
              "    </tr>\n",
              "    <tr>\n",
              "      <th>3</th>\n",
              "      <td>PaymentScreenSuccessful</td>\n",
              "      <td>33918</td>\n",
              "    </tr>\n",
              "    <tr>\n",
              "      <th>4</th>\n",
              "      <td>Tutorial</td>\n",
              "      <td>1005</td>\n",
              "    </tr>\n",
              "  </tbody>\n",
              "</table>\n",
              "</div>\n",
              "      <button class=\"colab-df-convert\" onclick=\"convertToInteractive('df-f2a53ba8-d73b-4dfb-949d-e29014cdd80f')\"\n",
              "              title=\"Convert this dataframe to an interactive table.\"\n",
              "              style=\"display:none;\">\n",
              "        \n",
              "  <svg xmlns=\"http://www.w3.org/2000/svg\" height=\"24px\"viewBox=\"0 0 24 24\"\n",
              "       width=\"24px\">\n",
              "    <path d=\"M0 0h24v24H0V0z\" fill=\"none\"/>\n",
              "    <path d=\"M18.56 5.44l.94 2.06.94-2.06 2.06-.94-2.06-.94-.94-2.06-.94 2.06-2.06.94zm-11 1L8.5 8.5l.94-2.06 2.06-.94-2.06-.94L8.5 2.5l-.94 2.06-2.06.94zm10 10l.94 2.06.94-2.06 2.06-.94-2.06-.94-.94-2.06-.94 2.06-2.06.94z\"/><path d=\"M17.41 7.96l-1.37-1.37c-.4-.4-.92-.59-1.43-.59-.52 0-1.04.2-1.43.59L10.3 9.45l-7.72 7.72c-.78.78-.78 2.05 0 2.83L4 21.41c.39.39.9.59 1.41.59.51 0 1.02-.2 1.41-.59l7.78-7.78 2.81-2.81c.8-.78.8-2.07 0-2.86zM5.41 20L4 18.59l7.72-7.72 1.47 1.35L5.41 20z\"/>\n",
              "  </svg>\n",
              "      </button>\n",
              "      \n",
              "  <style>\n",
              "    .colab-df-container {\n",
              "      display:flex;\n",
              "      flex-wrap:wrap;\n",
              "      gap: 12px;\n",
              "    }\n",
              "\n",
              "    .colab-df-convert {\n",
              "      background-color: #E8F0FE;\n",
              "      border: none;\n",
              "      border-radius: 50%;\n",
              "      cursor: pointer;\n",
              "      display: none;\n",
              "      fill: #1967D2;\n",
              "      height: 32px;\n",
              "      padding: 0 0 0 0;\n",
              "      width: 32px;\n",
              "    }\n",
              "\n",
              "    .colab-df-convert:hover {\n",
              "      background-color: #E2EBFA;\n",
              "      box-shadow: 0px 1px 2px rgba(60, 64, 67, 0.3), 0px 1px 3px 1px rgba(60, 64, 67, 0.15);\n",
              "      fill: #174EA6;\n",
              "    }\n",
              "\n",
              "    [theme=dark] .colab-df-convert {\n",
              "      background-color: #3B4455;\n",
              "      fill: #D2E3FC;\n",
              "    }\n",
              "\n",
              "    [theme=dark] .colab-df-convert:hover {\n",
              "      background-color: #434B5C;\n",
              "      box-shadow: 0px 1px 3px 1px rgba(0, 0, 0, 0.15);\n",
              "      filter: drop-shadow(0px 1px 2px rgba(0, 0, 0, 0.3));\n",
              "      fill: #FFFFFF;\n",
              "    }\n",
              "  </style>\n",
              "\n",
              "      <script>\n",
              "        const buttonEl =\n",
              "          document.querySelector('#df-f2a53ba8-d73b-4dfb-949d-e29014cdd80f button.colab-df-convert');\n",
              "        buttonEl.style.display =\n",
              "          google.colab.kernel.accessAllowed ? 'block' : 'none';\n",
              "\n",
              "        async function convertToInteractive(key) {\n",
              "          const element = document.querySelector('#df-f2a53ba8-d73b-4dfb-949d-e29014cdd80f');\n",
              "          const dataTable =\n",
              "            await google.colab.kernel.invokeFunction('convertToInteractive',\n",
              "                                                     [key], {});\n",
              "          if (!dataTable) return;\n",
              "\n",
              "          const docLinkHtml = 'Like what you see? Visit the ' +\n",
              "            '<a target=\"_blank\" href=https://colab.research.google.com/notebooks/data_table.ipynb>data table notebook</a>'\n",
              "            + ' to learn more about interactive tables.';\n",
              "          element.innerHTML = '';\n",
              "          dataTable['output_type'] = 'display_data';\n",
              "          await google.colab.output.renderOutput(dataTable, element);\n",
              "          const docLink = document.createElement('div');\n",
              "          docLink.innerHTML = docLinkHtml;\n",
              "          element.appendChild(docLink);\n",
              "        }\n",
              "      </script>\n",
              "    </div>\n",
              "  </div>\n",
              "  "
            ]
          },
          "metadata": {},
          "execution_count": 25
        }
      ],
      "source": [
        "events = data_filtered.groupby(['event_name']).agg({'user_id':'count'}).reset_index().sort_values(by='user_id', ascending=False)\n",
        "events.rename(columns={'user_id':'total_events'}, inplace=True)\n",
        "events"
      ]
    },
    {
      "cell_type": "code",
      "execution_count": 26,
      "metadata": {
        "colab": {
          "base_uri": "https://localhost:8080/",
          "height": 416
        },
        "id": "fnbE8mRthZAE",
        "outputId": "07150848-63d1-4549-eea5-a787d47fe17c"
      },
      "outputs": [
        {
          "output_type": "display_data",
          "data": {
            "text/plain": [
              "<Figure size 1700x600 with 1 Axes>"
            ],
            "image/png": "[encoded data removed]"
          },
          "metadata": {}
        }
      ],
      "source": [
        "plt.figure(figsize=(17,6))\n",
        "ax = sns.barplot(x='total_events', y='event_name', data=events, orient='h')\n",
        "ax.set_title('Частота событий в логах')\n",
        "ax.set_xlabel('Количество') \n",
        "ax.set_ylabel('') \n",
        "plt.show()"
      ]
    },
    {
      "cell_type": "markdown",
      "metadata": {
        "id": "uFjXR1SPhZAF"
      },
      "source": [
        "Посчитаем, сколько пользователей совершали каждое из этих событий. Отсортируем события по числу пользователей. Посчитаем долю пользователей, которые хоть раз совершали событие."
      ]
    },
    {
      "cell_type": "code",
      "execution_count": 27,
      "metadata": {
        "colab": {
          "base_uri": "https://localhost:8080/",
          "height": 206
        },
        "id": "80cadndDhZAF",
        "outputId": "547fabf6-b9f8-4c48-c560-1e9a63e01990"
      },
      "outputs": [
        {
          "output_type": "execute_result",
          "data": {
            "text/plain": [
              "                event_name  total_users  share\n",
              "1         MainScreenAppear         7419  98.47\n",
              "2       OffersScreenAppear         4593  60.96\n",
              "0         CartScreenAppear         3734  49.56\n",
              "3  PaymentScreenSuccessful         3539  46.97\n",
              "4                 Tutorial          840  11.15"
            ],
            "text/html": [
              "\n",
              "  <div id=\"df-a6536439-964a-4e0c-b876-bd7db29904b5\">\n",
              "    <div class=\"colab-df-container\">\n",
              "      <div>\n",
              "<style scoped>\n",
              "    .dataframe tbody tr th:only-of-type {\n",
              "        vertical-align: middle;\n",
              "    }\n",
              "\n",
              "    .dataframe tbody tr th {\n",
              "        vertical-align: top;\n",
              "    }\n",
              "\n",
              "    .dataframe thead th {\n",
              "        text-align: right;\n",
              "    }\n",
              "</style>\n",
              "<table border=\"1\" class=\"dataframe\">\n",
              "  <thead>\n",
              "    <tr style=\"text-align: right;\">\n",
              "      <th></th>\n",
              "      <th>event_name</th>\n",
              "      <th>total_users</th>\n",
              "      <th>share</th>\n",
              "    </tr>\n",
              "  </thead>\n",
              "  <tbody>\n",
              "    <tr>\n",
              "      <th>1</th>\n",
              "      <td>MainScreenAppear</td>\n",
              "      <td>7419</td>\n",
              "      <td>98.47</td>\n",
              "    </tr>\n",
              "    <tr>\n",
              "      <th>2</th>\n",
              "      <td>OffersScreenAppear</td>\n",
              "      <td>4593</td>\n",
              "      <td>60.96</td>\n",
              "    </tr>\n",
              "    <tr>\n",
              "      <th>0</th>\n",
              "      <td>CartScreenAppear</td>\n",
              "      <td>3734</td>\n",
              "      <td>49.56</td>\n",
              "    </tr>\n",
              "    <tr>\n",
              "      <th>3</th>\n",
              "      <td>PaymentScreenSuccessful</td>\n",
              "      <td>3539</td>\n",
              "      <td>46.97</td>\n",
              "    </tr>\n",
              "    <tr>\n",
              "      <th>4</th>\n",
              "      <td>Tutorial</td>\n",
              "      <td>840</td>\n",
              "      <td>11.15</td>\n",
              "    </tr>\n",
              "  </tbody>\n",
              "</table>\n",
              "</div>\n",
              "      <button class=\"colab-df-convert\" onclick=\"convertToInteractive('df-a6536439-964a-4e0c-b876-bd7db29904b5')\"\n",
              "              title=\"Convert this dataframe to an interactive table.\"\n",
              "              style=\"display:none;\">\n",
              "        \n",
              "  <svg xmlns=\"http://www.w3.org/2000/svg\" height=\"24px\"viewBox=\"0 0 24 24\"\n",
              "       width=\"24px\">\n",
              "    <path d=\"M0 0h24v24H0V0z\" fill=\"none\"/>\n",
              "    <path d=\"M18.56 5.44l.94 2.06.94-2.06 2.06-.94-2.06-.94-.94-2.06-.94 2.06-2.06.94zm-11 1L8.5 8.5l.94-2.06 2.06-.94-2.06-.94L8.5 2.5l-.94 2.06-2.06.94zm10 10l.94 2.06.94-2.06 2.06-.94-2.06-.94-.94-2.06-.94 2.06-2.06.94z\"/><path d=\"M17.41 7.96l-1.37-1.37c-.4-.4-.92-.59-1.43-.59-.52 0-1.04.2-1.43.59L10.3 9.45l-7.72 7.72c-.78.78-.78 2.05 0 2.83L4 21.41c.39.39.9.59 1.41.59.51 0 1.02-.2 1.41-.59l7.78-7.78 2.81-2.81c.8-.78.8-2.07 0-2.86zM5.41 20L4 18.59l7.72-7.72 1.47 1.35L5.41 20z\"/>\n",
              "  </svg>\n",
              "      </button>\n",
              "      \n",
              "  <style>\n",
              "    .colab-df-container {\n",
              "      display:flex;\n",
              "      flex-wrap:wrap;\n",
              "      gap: 12px;\n",
              "    }\n",
              "\n",
              "    .colab-df-convert {\n",
              "      background-color: #E8F0FE;\n",
              "      border: none;\n",
              "      border-radius: 50%;\n",
              "      cursor: pointer;\n",
              "      display: none;\n",
              "      fill: #1967D2;\n",
              "      height: 32px;\n",
              "      padding: 0 0 0 0;\n",
              "      width: 32px;\n",
              "    }\n",
              "\n",
              "    .colab-df-convert:hover {\n",
              "      background-color: #E2EBFA;\n",
              "      box-shadow: 0px 1px 2px rgba(60, 64, 67, 0.3), 0px 1px 3px 1px rgba(60, 64, 67, 0.15);\n",
              "      fill: #174EA6;\n",
              "    }\n",
              "\n",
              "    [theme=dark] .colab-df-convert {\n",
              "      background-color: #3B4455;\n",
              "      fill: #D2E3FC;\n",
              "    }\n",
              "\n",
              "    [theme=dark] .colab-df-convert:hover {\n",
              "      background-color: #434B5C;\n",
              "      box-shadow: 0px 1px 3px 1px rgba(0, 0, 0, 0.15);\n",
              "      filter: drop-shadow(0px 1px 2px rgba(0, 0, 0, 0.3));\n",
              "      fill: #FFFFFF;\n",
              "    }\n",
              "  </style>\n",
              "\n",
              "      <script>\n",
              "        const buttonEl =\n",
              "          document.querySelector('#df-a6536439-964a-4e0c-b876-bd7db29904b5 button.colab-df-convert');\n",
              "        buttonEl.style.display =\n",
              "          google.colab.kernel.accessAllowed ? 'block' : 'none';\n",
              "\n",
              "        async function convertToInteractive(key) {\n",
              "          const element = document.querySelector('#df-a6536439-964a-4e0c-b876-bd7db29904b5');\n",
              "          const dataTable =\n",
              "            await google.colab.kernel.invokeFunction('convertToInteractive',\n",
              "                                                     [key], {});\n",
              "          if (!dataTable) return;\n",
              "\n",
              "          const docLinkHtml = 'Like what you see? Visit the ' +\n",
              "            '<a target=\"_blank\" href=https://colab.research.google.com/notebooks/data_table.ipynb>data table notebook</a>'\n",
              "            + ' to learn more about interactive tables.';\n",
              "          element.innerHTML = '';\n",
              "          dataTable['output_type'] = 'display_data';\n",
              "          await google.colab.output.renderOutput(dataTable, element);\n",
              "          const docLink = document.createElement('div');\n",
              "          docLink.innerHTML = docLinkHtml;\n",
              "          element.appendChild(docLink);\n",
              "        }\n",
              "      </script>\n",
              "    </div>\n",
              "  </div>\n",
              "  "
            ]
          },
          "metadata": {},
          "execution_count": 27
        }
      ],
      "source": [
        "funnel =(\n",
        "    data_filtered.groupby(['event_name']).agg({'user_id': 'nunique'}).\n",
        "    reset_index().sort_values(by='user_id',ascending=False)\n",
        ") \n",
        "funnel.rename(columns = {'user_id': 'total_users'}, inplace=True)\n",
        "funnel['share'] = round(funnel['total_users'] / data_filtered['user_id'].nunique() * 100, 2)\n",
        "funnel"
      ]
    },
    {
      "cell_type": "markdown",
      "metadata": {
        "id": "ClRTOYdOhZAF"
      },
      "source": [
        "Получили следующую информацию:"
      ]
    },
    {
      "cell_type": "markdown",
      "metadata": {
        "id": "uMDWpC5uhZAF"
      },
      "source": [
        "<div>\n",
        "\n",
        "* Главную страницу просмотели 7419 пользователей (98.5% от всех пользователей);\n",
        "\n",
        "* Страницу с предложениями увидели 4593 пользователя (70% от всех пользователей);\n",
        "    \n",
        "* Страницу с корзиной увидели 3734 пользователя (49.56% от всех пользователей);\n",
        "\n",
        "* Страницу с успешной оплатой увидели 3539 пользователей (50% от всех пользователей);  \n",
        "    \n",
        "* Страницу с обучением увидело 840 пользователей (11% от всех пользователей);     "
      ]
    },
    {
      "cell_type": "markdown",
      "metadata": {
        "id": "S_WCPS80hZAG"
      },
      "source": [
        "Все события выстраиваются в последовательную цепочку, кроме последнего. Скорее всего, обучение является не обязательным шагом, и часто пропускается. Не будем учитывать это событие при расчёте воронки."
      ]
    },
    {
      "cell_type": "markdown",
      "metadata": {
        "id": "71Vg5F3ShZAG"
      },
      "source": [
        "По воронке событий посчитаем, какая доля пользователей проходит на следующий шаг воронки (от числа пользователей на предыдущем). То есть для последовательности событий A → B → C → D посчитайте отношение числа пользователей с событием B к количеству пользователей с событием A, а также отношение числа пользователей с событием C к количеству пользователей с событием B и т.д."
      ]
    },
    {
      "cell_type": "code",
      "execution_count": 28,
      "metadata": {
        "colab": {
          "base_uri": "https://localhost:8080/",
          "height": 542
        },
        "id": "3EVm46QehZAG",
        "outputId": "f71dd4f7-689a-4665-add0-c8ff7079f5b8"
      },
      "outputs": [
        {
          "output_type": "display_data",
          "data": {
            "text/html": [
              "<html>\n",
              "<head><meta charset=\"utf-8\" /></head>\n",
              "<body>\n",
              "    <div>            <script src=\"https://cdnjs.cloudflare.com/ajax/libs/mathjax/2.7.5/MathJax.js?config=TeX-AMS-MML_SVG\"></script><script type=\"text/javascript\">if (window.MathJax && window.MathJax.Hub && window.MathJax.Hub.Config) {window.MathJax.Hub.Config({SVG: {font: \"STIX-Web\"}});}</script>                <script type=\"text/javascript\">window.PlotlyConfig = {MathJaxConfig: 'local'};</script>\n",
              "        <script src=\"https://cdn.plot.ly/plotly-2.18.2.min.js\"></script>                <div id=\"7f4204be-b74f-44d3-9fa9-e73a42a3adde\" class=\"plotly-graph-div\" style=\"height:525px; width:100%;\"></div>            <script type=\"text/javascript\">                                    window.PLOTLYENV=window.PLOTLYENV || {};                                    if (document.getElementById(\"7f4204be-b74f-44d3-9fa9-e73a42a3adde\")) {                    Plotly.newPlot(                        \"7f4204be-b74f-44d3-9fa9-e73a42a3adde\",                        [{\"opacity\":0.6,\"textinfo\":\"value+percent previous\",\"textposition\":\"inside\",\"x\":[7419,4593,3734,3539],\"y\":[\"MainScreenAppear\",\"OffersScreenAppear\",\"CartScreenAppear\",\"PaymentScreenSuccessful\"],\"type\":\"funnel\"}],                        {\"template\":{\"data\":{\"histogram2dcontour\":[{\"type\":\"histogram2dcontour\",\"colorbar\":{\"outlinewidth\":0,\"ticks\":\"\"},\"colorscale\":[[0.0,\"#0d0887\"],[0.1111111111111111,\"#46039f\"],[0.2222222222222222,\"#7201a8\"],[0.3333333333333333,\"#9c179e\"],[0.4444444444444444,\"#bd3786\"],[0.5555555555555556,\"#d8576b\"],[0.6666666666666666,\"#ed7953\"],[0.7777777777777778,\"#fb9f3a\"],[0.8888888888888888,\"#fdca26\"],[1.0,\"#f0f921\"]]}],\"choropleth\":[{\"type\":\"choropleth\",\"colorbar\":{\"outlinewidth\":0,\"ticks\":\"\"}}],\"histogram2d\":[{\"type\":\"histogram2d\",\"colorbar\":{\"outlinewidth\":0,\"ticks\":\"\"},\"colorscale\":[[0.0,\"#0d0887\"],[0.1111111111111111,\"#46039f\"],[0.2222222222222222,\"#7201a8\"],[0.3333333333333333,\"#9c179e\"],[0.4444444444444444,\"#bd3786\"],[0.5555555555555556,\"#d8576b\"],[0.6666666666666666,\"#ed7953\"],[0.7777777777777778,\"#fb9f3a\"],[0.8888888888888888,\"#fdca26\"],[1.0,\"#f0f921\"]]}],\"heatmap\":[{\"type\":\"heatmap\",\"colorbar\":{\"outlinewidth\":0,\"ticks\":\"\"},\"colorscale\":[[0.0,\"#0d0887\"],[0.1111111111111111,\"#46039f\"],[0.2222222222222222,\"#7201a8\"],[0.3333333333333333,\"#9c179e\"],[0.4444444444444444,\"#bd3786\"],[0.5555555555555556,\"#d8576b\"],[0.6666666666666666,\"#ed7953\"],[0.7777777777777778,\"#fb9f3a\"],[0.8888888888888888,\"#fdca26\"],[1.0,\"#f0f921\"]]}],\"heatmapgl\":[{\"type\":\"heatmapgl\",\"colorbar\":{\"outlinewidth\":0,\"ticks\":\"\"},\"colorscale\":[[0.0,\"#0d0887\"],[0.1111111111111111,\"#46039f\"],[0.2222222222222222,\"#7201a8\"],[0.3333333333333333,\"#9c179e\"],[0.4444444444444444,\"#bd3786\"],[0.5555555555555556,\"#d8576b\"],[0.6666666666666666,\"#ed7953\"],[0.7777777777777778,\"#fb9f3a\"],[0.8888888888888888,\"#fdca26\"],[1.0,\"#f0f921\"]]}],\"contourcarpet\":[{\"type\":\"contourcarpet\",\"colorbar\":{\"outlinewidth\":0,\"ticks\":\"\"}}],\"contour\":[{\"type\":\"contour\",\"colorbar\":{\"outlinewidth\":0,\"ticks\":\"\"},\"colorscale\":[[0.0,\"#0d0887\"],[0.1111111111111111,\"#46039f\"],[0.2222222222222222,\"#7201a8\"],[0.3333333333333333,\"#9c179e\"],[0.4444444444444444,\"#bd3786\"],[0.5555555555555556,\"#d8576b\"],[0.6666666666666666,\"#ed7953\"],[0.7777777777777778,\"#fb9f3a\"],[0.8888888888888888,\"#fdca26\"],[1.0,\"#f0f921\"]]}],\"surface\":[{\"type\":\"surface\",\"colorbar\":{\"outlinewidth\":0,\"ticks\":\"\"},\"colorscale\":[[0.0,\"#0d0887\"],[0.1111111111111111,\"#46039f\"],[0.2222222222222222,\"#7201a8\"],[0.3333333333333333,\"#9c179e\"],[0.4444444444444444,\"#bd3786\"],[0.5555555555555556,\"#d8576b\"],[0.6666666666666666,\"#ed7953\"],[0.7777777777777778,\"#fb9f3a\"],[0.8888888888888888,\"#fdca26\"],[1.0,\"#f0f921\"]]}],\"mesh3d\":[{\"type\":\"mesh3d\",\"colorbar\":{\"outlinewidth\":0,\"ticks\":\"\"}}],\"scatter\":[{\"fillpattern\":{\"fillmode\":\"overlay\",\"size\":10,\"solidity\":0.2},\"type\":\"scatter\"}],\"parcoords\":[{\"type\":\"parcoords\",\"line\":{\"colorbar\":{\"outlinewidth\":0,\"ticks\":\"\"}}}],\"scatterpolargl\":[{\"type\":\"scatterpolargl\",\"marker\":{\"colorbar\":{\"outlinewidth\":0,\"ticks\":\"\"}}}],\"bar\":[{\"error_x\":{\"color\":\"#2a3f5f\"},\"error_y\":{\"color\":\"#2a3f5f\"},\"marker\":{\"line\":{\"color\":\"#E5ECF6\",\"width\":0.5},\"pattern\":{\"fillmode\":\"overlay\",\"size\":10,\"solidity\":0.2}},\"type\":\"bar\"}],\"scattergeo\":[{\"type\":\"scattergeo\",\"marker\":{\"colorbar\":{\"outlinewidth\":0,\"ticks\":\"\"}}}],\"scatterpolar\":[{\"type\":\"scatterpolar\",\"marker\":{\"colorbar\":{\"outlinewidth\":0,\"ticks\":\"\"}}}],\"histogram\":[{\"marker\":{\"pattern\":{\"fillmode\":\"overlay\",\"size\":10,\"solidity\":0.2}},\"type\":\"histogram\"}],\"scattergl\":[{\"type\":\"scattergl\",\"marker\":{\"colorbar\":{\"outlinewidth\":0,\"ticks\":\"\"}}}],\"scatter3d\":[{\"type\":\"scatter3d\",\"line\":{\"colorbar\":{\"outlinewidth\":0,\"ticks\":\"\"}},\"marker\":{\"colorbar\":{\"outlinewidth\":0,\"ticks\":\"\"}}}],\"scattermapbox\":[{\"type\":\"scattermapbox\",\"marker\":{\"colorbar\":{\"outlinewidth\":0,\"ticks\":\"\"}}}],\"scatterternary\":[{\"type\":\"scatterternary\",\"marker\":{\"colorbar\":{\"outlinewidth\":0,\"ticks\":\"\"}}}],\"scattercarpet\":[{\"type\":\"scattercarpet\",\"marker\":{\"colorbar\":{\"outlinewidth\":0,\"ticks\":\"\"}}}],\"carpet\":[{\"aaxis\":{\"endlinecolor\":\"#2a3f5f\",\"gridcolor\":\"white\",\"linecolor\":\"white\",\"minorgridcolor\":\"white\",\"startlinecolor\":\"#2a3f5f\"},\"baxis\":{\"endlinecolor\":\"#2a3f5f\",\"gridcolor\":\"white\",\"linecolor\":\"white\",\"minorgridcolor\":\"white\",\"startlinecolor\":\"#2a3f5f\"},\"type\":\"carpet\"}],\"table\":[{\"cells\":{\"fill\":{\"color\":\"#EBF0F8\"},\"line\":{\"color\":\"white\"}},\"header\":{\"fill\":{\"color\":\"#C8D4E3\"},\"line\":{\"color\":\"white\"}},\"type\":\"table\"}],\"barpolar\":[{\"marker\":{\"line\":{\"color\":\"#E5ECF6\",\"width\":0.5},\"pattern\":{\"fillmode\":\"overlay\",\"size\":10,\"solidity\":0.2}},\"type\":\"barpolar\"}],\"pie\":[{\"automargin\":true,\"type\":\"pie\"}]},\"layout\":{\"autotypenumbers\":\"strict\",\"colorway\":[\"#636efa\",\"#EF553B\",\"#00cc96\",\"#ab63fa\",\"#FFA15A\",\"#19d3f3\",\"#FF6692\",\"#B6E880\",\"#FF97FF\",\"#FECB52\"],\"font\":{\"color\":\"#2a3f5f\"},\"hovermode\":\"closest\",\"hoverlabel\":{\"align\":\"left\"},\"paper_bgcolor\":\"white\",\"plot_bgcolor\":\"#E5ECF6\",\"polar\":{\"bgcolor\":\"#E5ECF6\",\"angularaxis\":{\"gridcolor\":\"white\",\"linecolor\":\"white\",\"ticks\":\"\"},\"radialaxis\":{\"gridcolor\":\"white\",\"linecolor\":\"white\",\"ticks\":\"\"}},\"ternary\":{\"bgcolor\":\"#E5ECF6\",\"aaxis\":{\"gridcolor\":\"white\",\"linecolor\":\"white\",\"ticks\":\"\"},\"baxis\":{\"gridcolor\":\"white\",\"linecolor\":\"white\",\"ticks\":\"\"},\"caxis\":{\"gridcolor\":\"white\",\"linecolor\":\"white\",\"ticks\":\"\"}},\"coloraxis\":{\"colorbar\":{\"outlinewidth\":0,\"ticks\":\"\"}},\"colorscale\":{\"sequential\":[[0.0,\"#0d0887\"],[0.1111111111111111,\"#46039f\"],[0.2222222222222222,\"#7201a8\"],[0.3333333333333333,\"#9c179e\"],[0.4444444444444444,\"#bd3786\"],[0.5555555555555556,\"#d8576b\"],[0.6666666666666666,\"#ed7953\"],[0.7777777777777778,\"#fb9f3a\"],[0.8888888888888888,\"#fdca26\"],[1.0,\"#f0f921\"]],\"sequentialminus\":[[0.0,\"#0d0887\"],[0.1111111111111111,\"#46039f\"],[0.2222222222222222,\"#7201a8\"],[0.3333333333333333,\"#9c179e\"],[0.4444444444444444,\"#bd3786\"],[0.5555555555555556,\"#d8576b\"],[0.6666666666666666,\"#ed7953\"],[0.7777777777777778,\"#fb9f3a\"],[0.8888888888888888,\"#fdca26\"],[1.0,\"#f0f921\"]],\"diverging\":[[0,\"#8e0152\"],[0.1,\"#c51b7d\"],[0.2,\"#de77ae\"],[0.3,\"#f1b6da\"],[0.4,\"#fde0ef\"],[0.5,\"#f7f7f7\"],[0.6,\"#e6f5d0\"],[0.7,\"#b8e186\"],[0.8,\"#7fbc41\"],[0.9,\"#4d9221\"],[1,\"#276419\"]]},\"xaxis\":{\"gridcolor\":\"white\",\"linecolor\":\"white\",\"ticks\":\"\",\"title\":{\"standoff\":15},\"zerolinecolor\":\"white\",\"automargin\":true,\"zerolinewidth\":2},\"yaxis\":{\"gridcolor\":\"white\",\"linecolor\":\"white\",\"ticks\":\"\",\"title\":{\"standoff\":15},\"zerolinecolor\":\"white\",\"automargin\":true,\"zerolinewidth\":2},\"scene\":{\"xaxis\":{\"backgroundcolor\":\"#E5ECF6\",\"gridcolor\":\"white\",\"linecolor\":\"white\",\"showbackground\":true,\"ticks\":\"\",\"zerolinecolor\":\"white\",\"gridwidth\":2},\"yaxis\":{\"backgroundcolor\":\"#E5ECF6\",\"gridcolor\":\"white\",\"linecolor\":\"white\",\"showbackground\":true,\"ticks\":\"\",\"zerolinecolor\":\"white\",\"gridwidth\":2},\"zaxis\":{\"backgroundcolor\":\"#E5ECF6\",\"gridcolor\":\"white\",\"linecolor\":\"white\",\"showbackground\":true,\"ticks\":\"\",\"zerolinecolor\":\"white\",\"gridwidth\":2}},\"shapedefaults\":{\"line\":{\"color\":\"#2a3f5f\"}},\"annotationdefaults\":{\"arrowcolor\":\"#2a3f5f\",\"arrowhead\":0,\"arrowwidth\":1},\"geo\":{\"bgcolor\":\"white\",\"landcolor\":\"#E5ECF6\",\"subunitcolor\":\"white\",\"showland\":true,\"showlakes\":true,\"lakecolor\":\"white\"},\"title\":{\"x\":0.05},\"mapbox\":{\"style\":\"light\"}}},\"title\":{\"text\":\"\\u0412\\u043e\\u0440\\u043e\\u043d\\u043a\\u0430 \\u0441\\u043e\\u0431\\u044b\\u0442\\u0438\\u0439\"}},                        {\"responsive\": true}                    ).then(function(){\n",
              "                            \n",
              "var gd = document.getElementById('7f4204be-b74f-44d3-9fa9-e73a42a3adde');\n",
              "var x = new MutationObserver(function (mutations, observer) {{\n",
              "        var display = window.getComputedStyle(gd).display;\n",
              "        if (!display || display === 'none') {{\n",
              "            console.log([gd, 'removed!']);\n",
              "            Plotly.purge(gd);\n",
              "            observer.disconnect();\n",
              "        }}\n",
              "}});\n",
              "\n",
              "// Listen for the removal of the full notebook cells\n",
              "var notebookContainer = gd.closest('#notebook-container');\n",
              "if (notebookContainer) {{\n",
              "    x.observe(notebookContainer, {childList: true});\n",
              "}}\n",
              "\n",
              "// Listen for the clearing of the current output cell\n",
              "var outputEl = gd.closest('.output');\n",
              "if (outputEl) {{\n",
              "    x.observe(outputEl, {childList: true});\n",
              "}}\n",
              "\n",
              "                        })                };                            </script>        </div>\n",
              "</body>\n",
              "</html>"
            ]
          },
          "metadata": {}
        }
      ],
      "source": [
        "funnel = funnel[funnel['event_name'] != 'Tutorial']\n",
        "\n",
        "fig = go.Figure(go.Funnel(y = funnel['event_name'],\n",
        "                          x = funnel['total_users'],\n",
        "                          opacity = 0.6,\n",
        "                          textposition = 'inside',\n",
        "                          textinfo = 'value + percent previous'))\n",
        "fig.update_layout(title_text='Воронка событий')\n",
        "fig.show()"
      ]
    },
    {
      "cell_type": "markdown",
      "metadata": {
        "id": "cgA7iKcdhZAG"
      },
      "source": [
        "По получившейся воронке событий видим, что больше всего потерь на втором шаге (OffersScreenAppear) - 38 % пользователей. От первого события до оплаты доходит 47.7 % пользователей."
      ]
    },
    {
      "cell_type": "markdown",
      "metadata": {
        "id": "JgtEGAHIhZAH"
      },
      "source": [
        "### Часть 3. Изучение результатов эксперимента"
      ]
    },
    {
      "cell_type": "markdown",
      "metadata": {
        "id": "gUjsa_eghZAH"
      },
      "source": [
        "Посмотрим, сколько пользователей в каждой экспериментальной группе"
      ]
    },
    {
      "cell_type": "code",
      "execution_count": 29,
      "metadata": {
        "colab": {
          "base_uri": "https://localhost:8080/",
          "height": 175
        },
        "id": "8DTw3u9AhZAH",
        "outputId": "b8ab6906-899d-4d6a-f0da-64349f1a3aca"
      },
      "outputs": [
        {
          "output_type": "execute_result",
          "data": {
            "text/plain": [
              "       count\n",
              "group       \n",
              "246     2484\n",
              "247     2513\n",
              "248     2537"
            ],
            "text/html": [
              "\n",
              "  <div id=\"df-3a3ec54d-7e96-486b-9c4d-8ff0f8bd5bfc\">\n",
              "    <div class=\"colab-df-container\">\n",
              "      <div>\n",
              "<style scoped>\n",
              "    .dataframe tbody tr th:only-of-type {\n",
              "        vertical-align: middle;\n",
              "    }\n",
              "\n",
              "    .dataframe tbody tr th {\n",
              "        vertical-align: top;\n",
              "    }\n",
              "\n",
              "    .dataframe thead th {\n",
              "        text-align: right;\n",
              "    }\n",
              "</style>\n",
              "<table border=\"1\" class=\"dataframe\">\n",
              "  <thead>\n",
              "    <tr style=\"text-align: right;\">\n",
              "      <th></th>\n",
              "      <th>count</th>\n",
              "    </tr>\n",
              "    <tr>\n",
              "      <th>group</th>\n",
              "      <th></th>\n",
              "    </tr>\n",
              "  </thead>\n",
              "  <tbody>\n",
              "    <tr>\n",
              "      <th>246</th>\n",
              "      <td>2484</td>\n",
              "    </tr>\n",
              "    <tr>\n",
              "      <th>247</th>\n",
              "      <td>2513</td>\n",
              "    </tr>\n",
              "    <tr>\n",
              "      <th>248</th>\n",
              "      <td>2537</td>\n",
              "    </tr>\n",
              "  </tbody>\n",
              "</table>\n",
              "</div>\n",
              "      <button class=\"colab-df-convert\" onclick=\"convertToInteractive('df-3a3ec54d-7e96-486b-9c4d-8ff0f8bd5bfc')\"\n",
              "              title=\"Convert this dataframe to an interactive table.\"\n",
              "              style=\"display:none;\">\n",
              "        \n",
              "  <svg xmlns=\"http://www.w3.org/2000/svg\" height=\"24px\"viewBox=\"0 0 24 24\"\n",
              "       width=\"24px\">\n",
              "    <path d=\"M0 0h24v24H0V0z\" fill=\"none\"/>\n",
              "    <path d=\"M18.56 5.44l.94 2.06.94-2.06 2.06-.94-2.06-.94-.94-2.06-.94 2.06-2.06.94zm-11 1L8.5 8.5l.94-2.06 2.06-.94-2.06-.94L8.5 2.5l-.94 2.06-2.06.94zm10 10l.94 2.06.94-2.06 2.06-.94-2.06-.94-.94-2.06-.94 2.06-2.06.94z\"/><path d=\"M17.41 7.96l-1.37-1.37c-.4-.4-.92-.59-1.43-.59-.52 0-1.04.2-1.43.59L10.3 9.45l-7.72 7.72c-.78.78-.78 2.05 0 2.83L4 21.41c.39.39.9.59 1.41.59.51 0 1.02-.2 1.41-.59l7.78-7.78 2.81-2.81c.8-.78.8-2.07 0-2.86zM5.41 20L4 18.59l7.72-7.72 1.47 1.35L5.41 20z\"/>\n",
              "  </svg>\n",
              "      </button>\n",
              "      \n",
              "  <style>\n",
              "    .colab-df-container {\n",
              "      display:flex;\n",
              "      flex-wrap:wrap;\n",
              "      gap: 12px;\n",
              "    }\n",
              "\n",
              "    .colab-df-convert {\n",
              "      background-color: #E8F0FE;\n",
              "      border: none;\n",
              "      border-radius: 50%;\n",
              "      cursor: pointer;\n",
              "      display: none;\n",
              "      fill: #1967D2;\n",
              "      height: 32px;\n",
              "      padding: 0 0 0 0;\n",
              "      width: 32px;\n",
              "    }\n",
              "\n",
              "    .colab-df-convert:hover {\n",
              "      background-color: #E2EBFA;\n",
              "      box-shadow: 0px 1px 2px rgba(60, 64, 67, 0.3), 0px 1px 3px 1px rgba(60, 64, 67, 0.15);\n",
              "      fill: #174EA6;\n",
              "    }\n",
              "\n",
              "    [theme=dark] .colab-df-convert {\n",
              "      background-color: #3B4455;\n",
              "      fill: #D2E3FC;\n",
              "    }\n",
              "\n",
              "    [theme=dark] .colab-df-convert:hover {\n",
              "      background-color: #434B5C;\n",
              "      box-shadow: 0px 1px 3px 1px rgba(0, 0, 0, 0.15);\n",
              "      filter: drop-shadow(0px 1px 2px rgba(0, 0, 0, 0.3));\n",
              "      fill: #FFFFFF;\n",
              "    }\n",
              "  </style>\n",
              "\n",
              "      <script>\n",
              "        const buttonEl =\n",
              "          document.querySelector('#df-3a3ec54d-7e96-486b-9c4d-8ff0f8bd5bfc button.colab-df-convert');\n",
              "        buttonEl.style.display =\n",
              "          google.colab.kernel.accessAllowed ? 'block' : 'none';\n",
              "\n",
              "        async function convertToInteractive(key) {\n",
              "          const element = document.querySelector('#df-3a3ec54d-7e96-486b-9c4d-8ff0f8bd5bfc');\n",
              "          const dataTable =\n",
              "            await google.colab.kernel.invokeFunction('convertToInteractive',\n",
              "                                                     [key], {});\n",
              "          if (!dataTable) return;\n",
              "\n",
              "          const docLinkHtml = 'Like what you see? Visit the ' +\n",
              "            '<a target=\"_blank\" href=https://colab.research.google.com/notebooks/data_table.ipynb>data table notebook</a>'\n",
              "            + ' to learn more about interactive tables.';\n",
              "          element.innerHTML = '';\n",
              "          dataTable['output_type'] = 'display_data';\n",
              "          await google.colab.output.renderOutput(dataTable, element);\n",
              "          const docLink = document.createElement('div');\n",
              "          docLink.innerHTML = docLinkHtml;\n",
              "          element.appendChild(docLink);\n",
              "        }\n",
              "      </script>\n",
              "    </div>\n",
              "  </div>\n",
              "  "
            ]
          },
          "metadata": {},
          "execution_count": 29
        }
      ],
      "source": [
        "data_filtered.groupby(['group']).agg(count=('user_id', 'nunique'))"
      ]
    },
    {
      "cell_type": "code",
      "execution_count": 30,
      "metadata": {
        "colab": {
          "base_uri": "https://localhost:8080/",
          "height": 425
        },
        "id": "aHsT0ahhhZAH",
        "outputId": "eb43da73-63f2-4eb7-d2cd-a5b05efc2a2e"
      },
      "outputs": [
        {
          "output_type": "execute_result",
          "data": {
            "text/plain": [
              "                 event_name  group  total_users\n",
              "5          MainScreenAppear    248         2493\n",
              "8        OffersScreenAppear    248         1531\n",
              "2          CartScreenAppear    248         1230\n",
              "11  PaymentScreenSuccessful    248         1181\n",
              "4          MainScreenAppear    247         2476\n",
              "7        OffersScreenAppear    247         1520\n",
              "1          CartScreenAppear    247         1238\n",
              "10  PaymentScreenSuccessful    247         1158\n",
              "3          MainScreenAppear    246         2450\n",
              "6        OffersScreenAppear    246         1542\n",
              "0          CartScreenAppear    246         1266\n",
              "9   PaymentScreenSuccessful    246         1200"
            ],
            "text/html": [
              "\n",
              "  <div id=\"df-3e15c07b-1c45-4d06-a389-f83c3fee8e54\">\n",
              "    <div class=\"colab-df-container\">\n",
              "      <div>\n",
              "<style scoped>\n",
              "    .dataframe tbody tr th:only-of-type {\n",
              "        vertical-align: middle;\n",
              "    }\n",
              "\n",
              "    .dataframe tbody tr th {\n",
              "        vertical-align: top;\n",
              "    }\n",
              "\n",
              "    .dataframe thead th {\n",
              "        text-align: right;\n",
              "    }\n",
              "</style>\n",
              "<table border=\"1\" class=\"dataframe\">\n",
              "  <thead>\n",
              "    <tr style=\"text-align: right;\">\n",
              "      <th></th>\n",
              "      <th>event_name</th>\n",
              "      <th>group</th>\n",
              "      <th>total_users</th>\n",
              "    </tr>\n",
              "  </thead>\n",
              "  <tbody>\n",
              "    <tr>\n",
              "      <th>5</th>\n",
              "      <td>MainScreenAppear</td>\n",
              "      <td>248</td>\n",
              "      <td>2493</td>\n",
              "    </tr>\n",
              "    <tr>\n",
              "      <th>8</th>\n",
              "      <td>OffersScreenAppear</td>\n",
              "      <td>248</td>\n",
              "      <td>1531</td>\n",
              "    </tr>\n",
              "    <tr>\n",
              "      <th>2</th>\n",
              "      <td>CartScreenAppear</td>\n",
              "      <td>248</td>\n",
              "      <td>1230</td>\n",
              "    </tr>\n",
              "    <tr>\n",
              "      <th>11</th>\n",
              "      <td>PaymentScreenSuccessful</td>\n",
              "      <td>248</td>\n",
              "      <td>1181</td>\n",
              "    </tr>\n",
              "    <tr>\n",
              "      <th>4</th>\n",
              "      <td>MainScreenAppear</td>\n",
              "      <td>247</td>\n",
              "      <td>2476</td>\n",
              "    </tr>\n",
              "    <tr>\n",
              "      <th>7</th>\n",
              "      <td>OffersScreenAppear</td>\n",
              "      <td>247</td>\n",
              "      <td>1520</td>\n",
              "    </tr>\n",
              "    <tr>\n",
              "      <th>1</th>\n",
              "      <td>CartScreenAppear</td>\n",
              "      <td>247</td>\n",
              "      <td>1238</td>\n",
              "    </tr>\n",
              "    <tr>\n",
              "      <th>10</th>\n",
              "      <td>PaymentScreenSuccessful</td>\n",
              "      <td>247</td>\n",
              "      <td>1158</td>\n",
              "    </tr>\n",
              "    <tr>\n",
              "      <th>3</th>\n",
              "      <td>MainScreenAppear</td>\n",
              "      <td>246</td>\n",
              "      <td>2450</td>\n",
              "    </tr>\n",
              "    <tr>\n",
              "      <th>6</th>\n",
              "      <td>OffersScreenAppear</td>\n",
              "      <td>246</td>\n",
              "      <td>1542</td>\n",
              "    </tr>\n",
              "    <tr>\n",
              "      <th>0</th>\n",
              "      <td>CartScreenAppear</td>\n",
              "      <td>246</td>\n",
              "      <td>1266</td>\n",
              "    </tr>\n",
              "    <tr>\n",
              "      <th>9</th>\n",
              "      <td>PaymentScreenSuccessful</td>\n",
              "      <td>246</td>\n",
              "      <td>1200</td>\n",
              "    </tr>\n",
              "  </tbody>\n",
              "</table>\n",
              "</div>\n",
              "      <button class=\"colab-df-convert\" onclick=\"convertToInteractive('df-3e15c07b-1c45-4d06-a389-f83c3fee8e54')\"\n",
              "              title=\"Convert this dataframe to an interactive table.\"\n",
              "              style=\"display:none;\">\n",
              "        \n",
              "  <svg xmlns=\"http://www.w3.org/2000/svg\" height=\"24px\"viewBox=\"0 0 24 24\"\n",
              "       width=\"24px\">\n",
              "    <path d=\"M0 0h24v24H0V0z\" fill=\"none\"/>\n",
              "    <path d=\"M18.56 5.44l.94 2.06.94-2.06 2.06-.94-2.06-.94-.94-2.06-.94 2.06-2.06.94zm-11 1L8.5 8.5l.94-2.06 2.06-.94-2.06-.94L8.5 2.5l-.94 2.06-2.06.94zm10 10l.94 2.06.94-2.06 2.06-.94-2.06-.94-.94-2.06-.94 2.06-2.06.94z\"/><path d=\"M17.41 7.96l-1.37-1.37c-.4-.4-.92-.59-1.43-.59-.52 0-1.04.2-1.43.59L10.3 9.45l-7.72 7.72c-.78.78-.78 2.05 0 2.83L4 21.41c.39.39.9.59 1.41.59.51 0 1.02-.2 1.41-.59l7.78-7.78 2.81-2.81c.8-.78.8-2.07 0-2.86zM5.41 20L4 18.59l7.72-7.72 1.47 1.35L5.41 20z\"/>\n",
              "  </svg>\n",
              "      </button>\n",
              "      \n",
              "  <style>\n",
              "    .colab-df-container {\n",
              "      display:flex;\n",
              "      flex-wrap:wrap;\n",
              "      gap: 12px;\n",
              "    }\n",
              "\n",
              "    .colab-df-convert {\n",
              "      background-color: #E8F0FE;\n",
              "      border: none;\n",
              "      border-radius: 50%;\n",
              "      cursor: pointer;\n",
              "      display: none;\n",
              "      fill: #1967D2;\n",
              "      height: 32px;\n",
              "      padding: 0 0 0 0;\n",
              "      width: 32px;\n",
              "    }\n",
              "\n",
              "    .colab-df-convert:hover {\n",
              "      background-color: #E2EBFA;\n",
              "      box-shadow: 0px 1px 2px rgba(60, 64, 67, 0.3), 0px 1px 3px 1px rgba(60, 64, 67, 0.15);\n",
              "      fill: #174EA6;\n",
              "    }\n",
              "\n",
              "    [theme=dark] .colab-df-convert {\n",
              "      background-color: #3B4455;\n",
              "      fill: #D2E3FC;\n",
              "    }\n",
              "\n",
              "    [theme=dark] .colab-df-convert:hover {\n",
              "      background-color: #434B5C;\n",
              "      box-shadow: 0px 1px 3px 1px rgba(0, 0, 0, 0.15);\n",
              "      filter: drop-shadow(0px 1px 2px rgba(0, 0, 0, 0.3));\n",
              "      fill: #FFFFFF;\n",
              "    }\n",
              "  </style>\n",
              "\n",
              "      <script>\n",
              "        const buttonEl =\n",
              "          document.querySelector('#df-3e15c07b-1c45-4d06-a389-f83c3fee8e54 button.colab-df-convert');\n",
              "        buttonEl.style.display =\n",
              "          google.colab.kernel.accessAllowed ? 'block' : 'none';\n",
              "\n",
              "        async function convertToInteractive(key) {\n",
              "          const element = document.querySelector('#df-3e15c07b-1c45-4d06-a389-f83c3fee8e54');\n",
              "          const dataTable =\n",
              "            await google.colab.kernel.invokeFunction('convertToInteractive',\n",
              "                                                     [key], {});\n",
              "          if (!dataTable) return;\n",
              "\n",
              "          const docLinkHtml = 'Like what you see? Visit the ' +\n",
              "            '<a target=\"_blank\" href=https://colab.research.google.com/notebooks/data_table.ipynb>data table notebook</a>'\n",
              "            + ' to learn more about interactive tables.';\n",
              "          element.innerHTML = '';\n",
              "          dataTable['output_type'] = 'display_data';\n",
              "          await google.colab.output.renderOutput(dataTable, element);\n",
              "          const docLink = document.createElement('div');\n",
              "          docLink.innerHTML = docLinkHtml;\n",
              "          element.appendChild(docLink);\n",
              "        }\n",
              "      </script>\n",
              "    </div>\n",
              "  </div>\n",
              "  "
            ]
          },
          "metadata": {},
          "execution_count": 30
        }
      ],
      "source": [
        "funnel_group = (data_filtered.\n",
        "          groupby(['event_name', 'group']).\n",
        "          agg({'user_id': 'nunique'}).\n",
        "          reset_index().\n",
        "          rename(columns={'user_id' : 'total_users'}).\n",
        "          sort_values(by=['group','total_users'], ascending=False))\n",
        "\n",
        "funnel_group = funnel_group[funnel_group['event_name'] != 'Tutorial']\n",
        "funnel_group"
      ]
    },
    {
      "cell_type": "code",
      "execution_count": 31,
      "metadata": {
        "colab": {
          "base_uri": "https://localhost:8080/",
          "height": 542
        },
        "id": "qLaA_bp9hZAH",
        "outputId": "0e4e6f72-4d23-4f3f-d62f-539dd871d465"
      },
      "outputs": [
        {
          "output_type": "display_data",
          "data": {
            "text/html": [
              "<html>\n",
              "<head><meta charset=\"utf-8\" /></head>\n",
              "<body>\n",
              "    <div>            <script src=\"https://cdnjs.cloudflare.com/ajax/libs/mathjax/2.7.5/MathJax.js?config=TeX-AMS-MML_SVG\"></script><script type=\"text/javascript\">if (window.MathJax && window.MathJax.Hub && window.MathJax.Hub.Config) {window.MathJax.Hub.Config({SVG: {font: \"STIX-Web\"}});}</script>                <script type=\"text/javascript\">window.PlotlyConfig = {MathJaxConfig: 'local'};</script>\n",
              "        <script src=\"https://cdn.plot.ly/plotly-2.18.2.min.js\"></script>                <div id=\"ae5a0417-a634-47ed-adf9-a96b5c45ba20\" class=\"plotly-graph-div\" style=\"height:525px; width:100%;\"></div>            <script type=\"text/javascript\">                                    window.PLOTLYENV=window.PLOTLYENV || {};                                    if (document.getElementById(\"ae5a0417-a634-47ed-adf9-a96b5c45ba20\")) {                    Plotly.newPlot(                        \"ae5a0417-a634-47ed-adf9-a96b5c45ba20\",                        [{\"opacity\":0.6,\"textinfo\":\"value+percent previous\",\"textposition\":\"inside\",\"x\":[7419,4593,3734,3539],\"y\":[\"MainScreenAppear\",\"OffersScreenAppear\",\"CartScreenAppear\",\"PaymentScreenSuccessful\"],\"type\":\"funnel\"},{\"name\":\"246\",\"opacity\":0.6,\"textinfo\":\"value+percent previous\",\"textposition\":\"inside\",\"x\":[2450,1542,1266,1200],\"y\":[\"MainScreenAppear\",\"OffersScreenAppear\",\"CartScreenAppear\",\"PaymentScreenSuccessful\"],\"type\":\"funnel\"},{\"name\":\"247\",\"opacity\":0.6,\"textinfo\":\"value+percent previous\",\"textposition\":\"inside\",\"x\":[2476,1520,1238,1158],\"y\":[\"MainScreenAppear\",\"OffersScreenAppear\",\"CartScreenAppear\",\"PaymentScreenSuccessful\"],\"type\":\"funnel\"},{\"name\":\"248\",\"opacity\":0.6,\"textinfo\":\"value+percent previous\",\"textposition\":\"inside\",\"x\":[2493,1531,1230,1181],\"y\":[\"MainScreenAppear\",\"OffersScreenAppear\",\"CartScreenAppear\",\"PaymentScreenSuccessful\"],\"type\":\"funnel\"}],                        {\"template\":{\"data\":{\"histogram2dcontour\":[{\"type\":\"histogram2dcontour\",\"colorbar\":{\"outlinewidth\":0,\"ticks\":\"\"},\"colorscale\":[[0.0,\"#0d0887\"],[0.1111111111111111,\"#46039f\"],[0.2222222222222222,\"#7201a8\"],[0.3333333333333333,\"#9c179e\"],[0.4444444444444444,\"#bd3786\"],[0.5555555555555556,\"#d8576b\"],[0.6666666666666666,\"#ed7953\"],[0.7777777777777778,\"#fb9f3a\"],[0.8888888888888888,\"#fdca26\"],[1.0,\"#f0f921\"]]}],\"choropleth\":[{\"type\":\"choropleth\",\"colorbar\":{\"outlinewidth\":0,\"ticks\":\"\"}}],\"histogram2d\":[{\"type\":\"histogram2d\",\"colorbar\":{\"outlinewidth\":0,\"ticks\":\"\"},\"colorscale\":[[0.0,\"#0d0887\"],[0.1111111111111111,\"#46039f\"],[0.2222222222222222,\"#7201a8\"],[0.3333333333333333,\"#9c179e\"],[0.4444444444444444,\"#bd3786\"],[0.5555555555555556,\"#d8576b\"],[0.6666666666666666,\"#ed7953\"],[0.7777777777777778,\"#fb9f3a\"],[0.8888888888888888,\"#fdca26\"],[1.0,\"#f0f921\"]]}],\"heatmap\":[{\"type\":\"heatmap\",\"colorbar\":{\"outlinewidth\":0,\"ticks\":\"\"},\"colorscale\":[[0.0,\"#0d0887\"],[0.1111111111111111,\"#46039f\"],[0.2222222222222222,\"#7201a8\"],[0.3333333333333333,\"#9c179e\"],[0.4444444444444444,\"#bd3786\"],[0.5555555555555556,\"#d8576b\"],[0.6666666666666666,\"#ed7953\"],[0.7777777777777778,\"#fb9f3a\"],[0.8888888888888888,\"#fdca26\"],[1.0,\"#f0f921\"]]}],\"heatmapgl\":[{\"type\":\"heatmapgl\",\"colorbar\":{\"outlinewidth\":0,\"ticks\":\"\"},\"colorscale\":[[0.0,\"#0d0887\"],[0.1111111111111111,\"#46039f\"],[0.2222222222222222,\"#7201a8\"],[0.3333333333333333,\"#9c179e\"],[0.4444444444444444,\"#bd3786\"],[0.5555555555555556,\"#d8576b\"],[0.6666666666666666,\"#ed7953\"],[0.7777777777777778,\"#fb9f3a\"],[0.8888888888888888,\"#fdca26\"],[1.0,\"#f0f921\"]]}],\"contourcarpet\":[{\"type\":\"contourcarpet\",\"colorbar\":{\"outlinewidth\":0,\"ticks\":\"\"}}],\"contour\":[{\"type\":\"contour\",\"colorbar\":{\"outlinewidth\":0,\"ticks\":\"\"},\"colorscale\":[[0.0,\"#0d0887\"],[0.1111111111111111,\"#46039f\"],[0.2222222222222222,\"#7201a8\"],[0.3333333333333333,\"#9c179e\"],[0.4444444444444444,\"#bd3786\"],[0.5555555555555556,\"#d8576b\"],[0.6666666666666666,\"#ed7953\"],[0.7777777777777778,\"#fb9f3a\"],[0.8888888888888888,\"#fdca26\"],[1.0,\"#f0f921\"]]}],\"surface\":[{\"type\":\"surface\",\"colorbar\":{\"outlinewidth\":0,\"ticks\":\"\"},\"colorscale\":[[0.0,\"#0d0887\"],[0.1111111111111111,\"#46039f\"],[0.2222222222222222,\"#7201a8\"],[0.3333333333333333,\"#9c179e\"],[0.4444444444444444,\"#bd3786\"],[0.5555555555555556,\"#d8576b\"],[0.6666666666666666,\"#ed7953\"],[0.7777777777777778,\"#fb9f3a\"],[0.8888888888888888,\"#fdca26\"],[1.0,\"#f0f921\"]]}],\"mesh3d\":[{\"type\":\"mesh3d\",\"colorbar\":{\"outlinewidth\":0,\"ticks\":\"\"}}],\"scatter\":[{\"fillpattern\":{\"fillmode\":\"overlay\",\"size\":10,\"solidity\":0.2},\"type\":\"scatter\"}],\"parcoords\":[{\"type\":\"parcoords\",\"line\":{\"colorbar\":{\"outlinewidth\":0,\"ticks\":\"\"}}}],\"scatterpolargl\":[{\"type\":\"scatterpolargl\",\"marker\":{\"colorbar\":{\"outlinewidth\":0,\"ticks\":\"\"}}}],\"bar\":[{\"error_x\":{\"color\":\"#2a3f5f\"},\"error_y\":{\"color\":\"#2a3f5f\"},\"marker\":{\"line\":{\"color\":\"#E5ECF6\",\"width\":0.5},\"pattern\":{\"fillmode\":\"overlay\",\"size\":10,\"solidity\":0.2}},\"type\":\"bar\"}],\"scattergeo\":[{\"type\":\"scattergeo\",\"marker\":{\"colorbar\":{\"outlinewidth\":0,\"ticks\":\"\"}}}],\"scatterpolar\":[{\"type\":\"scatterpolar\",\"marker\":{\"colorbar\":{\"outlinewidth\":0,\"ticks\":\"\"}}}],\"histogram\":[{\"marker\":{\"pattern\":{\"fillmode\":\"overlay\",\"size\":10,\"solidity\":0.2}},\"type\":\"histogram\"}],\"scattergl\":[{\"type\":\"scattergl\",\"marker\":{\"colorbar\":{\"outlinewidth\":0,\"ticks\":\"\"}}}],\"scatter3d\":[{\"type\":\"scatter3d\",\"line\":{\"colorbar\":{\"outlinewidth\":0,\"ticks\":\"\"}},\"marker\":{\"colorbar\":{\"outlinewidth\":0,\"ticks\":\"\"}}}],\"scattermapbox\":[{\"type\":\"scattermapbox\",\"marker\":{\"colorbar\":{\"outlinewidth\":0,\"ticks\":\"\"}}}],\"scatterternary\":[{\"type\":\"scatterternary\",\"marker\":{\"colorbar\":{\"outlinewidth\":0,\"ticks\":\"\"}}}],\"scattercarpet\":[{\"type\":\"scattercarpet\",\"marker\":{\"colorbar\":{\"outlinewidth\":0,\"ticks\":\"\"}}}],\"carpet\":[{\"aaxis\":{\"endlinecolor\":\"#2a3f5f\",\"gridcolor\":\"white\",\"linecolor\":\"white\",\"minorgridcolor\":\"white\",\"startlinecolor\":\"#2a3f5f\"},\"baxis\":{\"endlinecolor\":\"#2a3f5f\",\"gridcolor\":\"white\",\"linecolor\":\"white\",\"minorgridcolor\":\"white\",\"startlinecolor\":\"#2a3f5f\"},\"type\":\"carpet\"}],\"table\":[{\"cells\":{\"fill\":{\"color\":\"#EBF0F8\"},\"line\":{\"color\":\"white\"}},\"header\":{\"fill\":{\"color\":\"#C8D4E3\"},\"line\":{\"color\":\"white\"}},\"type\":\"table\"}],\"barpolar\":[{\"marker\":{\"line\":{\"color\":\"#E5ECF6\",\"width\":0.5},\"pattern\":{\"fillmode\":\"overlay\",\"size\":10,\"solidity\":0.2}},\"type\":\"barpolar\"}],\"pie\":[{\"automargin\":true,\"type\":\"pie\"}]},\"layout\":{\"autotypenumbers\":\"strict\",\"colorway\":[\"#636efa\",\"#EF553B\",\"#00cc96\",\"#ab63fa\",\"#FFA15A\",\"#19d3f3\",\"#FF6692\",\"#B6E880\",\"#FF97FF\",\"#FECB52\"],\"font\":{\"color\":\"#2a3f5f\"},\"hovermode\":\"closest\",\"hoverlabel\":{\"align\":\"left\"},\"paper_bgcolor\":\"white\",\"plot_bgcolor\":\"#E5ECF6\",\"polar\":{\"bgcolor\":\"#E5ECF6\",\"angularaxis\":{\"gridcolor\":\"white\",\"linecolor\":\"white\",\"ticks\":\"\"},\"radialaxis\":{\"gridcolor\":\"white\",\"linecolor\":\"white\",\"ticks\":\"\"}},\"ternary\":{\"bgcolor\":\"#E5ECF6\",\"aaxis\":{\"gridcolor\":\"white\",\"linecolor\":\"white\",\"ticks\":\"\"},\"baxis\":{\"gridcolor\":\"white\",\"linecolor\":\"white\",\"ticks\":\"\"},\"caxis\":{\"gridcolor\":\"white\",\"linecolor\":\"white\",\"ticks\":\"\"}},\"coloraxis\":{\"colorbar\":{\"outlinewidth\":0,\"ticks\":\"\"}},\"colorscale\":{\"sequential\":[[0.0,\"#0d0887\"],[0.1111111111111111,\"#46039f\"],[0.2222222222222222,\"#7201a8\"],[0.3333333333333333,\"#9c179e\"],[0.4444444444444444,\"#bd3786\"],[0.5555555555555556,\"#d8576b\"],[0.6666666666666666,\"#ed7953\"],[0.7777777777777778,\"#fb9f3a\"],[0.8888888888888888,\"#fdca26\"],[1.0,\"#f0f921\"]],\"sequentialminus\":[[0.0,\"#0d0887\"],[0.1111111111111111,\"#46039f\"],[0.2222222222222222,\"#7201a8\"],[0.3333333333333333,\"#9c179e\"],[0.4444444444444444,\"#bd3786\"],[0.5555555555555556,\"#d8576b\"],[0.6666666666666666,\"#ed7953\"],[0.7777777777777778,\"#fb9f3a\"],[0.8888888888888888,\"#fdca26\"],[1.0,\"#f0f921\"]],\"diverging\":[[0,\"#8e0152\"],[0.1,\"#c51b7d\"],[0.2,\"#de77ae\"],[0.3,\"#f1b6da\"],[0.4,\"#fde0ef\"],[0.5,\"#f7f7f7\"],[0.6,\"#e6f5d0\"],[0.7,\"#b8e186\"],[0.8,\"#7fbc41\"],[0.9,\"#4d9221\"],[1,\"#276419\"]]},\"xaxis\":{\"gridcolor\":\"white\",\"linecolor\":\"white\",\"ticks\":\"\",\"title\":{\"standoff\":15},\"zerolinecolor\":\"white\",\"automargin\":true,\"zerolinewidth\":2},\"yaxis\":{\"gridcolor\":\"white\",\"linecolor\":\"white\",\"ticks\":\"\",\"title\":{\"standoff\":15},\"zerolinecolor\":\"white\",\"automargin\":true,\"zerolinewidth\":2},\"scene\":{\"xaxis\":{\"backgroundcolor\":\"#E5ECF6\",\"gridcolor\":\"white\",\"linecolor\":\"white\",\"showbackground\":true,\"ticks\":\"\",\"zerolinecolor\":\"white\",\"gridwidth\":2},\"yaxis\":{\"backgroundcolor\":\"#E5ECF6\",\"gridcolor\":\"white\",\"linecolor\":\"white\",\"showbackground\":true,\"ticks\":\"\",\"zerolinecolor\":\"white\",\"gridwidth\":2},\"zaxis\":{\"backgroundcolor\":\"#E5ECF6\",\"gridcolor\":\"white\",\"linecolor\":\"white\",\"showbackground\":true,\"ticks\":\"\",\"zerolinecolor\":\"white\",\"gridwidth\":2}},\"shapedefaults\":{\"line\":{\"color\":\"#2a3f5f\"}},\"annotationdefaults\":{\"arrowcolor\":\"#2a3f5f\",\"arrowhead\":0,\"arrowwidth\":1},\"geo\":{\"bgcolor\":\"white\",\"landcolor\":\"#E5ECF6\",\"subunitcolor\":\"white\",\"showland\":true,\"showlakes\":true,\"lakecolor\":\"white\"},\"title\":{\"x\":0.05},\"mapbox\":{\"style\":\"light\"}}},\"title\":{\"text\":\"\\u0412\\u043e\\u0440\\u043e\\u043d\\u043a\\u0430 \\u0441\\u043e\\u0431\\u044b\\u0442\\u0438\\u0439 \\u0432 \\u0440\\u0430\\u0437\\u0440\\u0435\\u0437\\u0435 \\u0442\\u0435\\u0441\\u0442\\u043e\\u0432\\u044b\\u0445 \\u0433\\u0440\\u0443\\u043f\\u043f\"}},                        {\"responsive\": true}                    ).then(function(){\n",
              "                            \n",
              "var gd = document.getElementById('ae5a0417-a634-47ed-adf9-a96b5c45ba20');\n",
              "var x = new MutationObserver(function (mutations, observer) {{\n",
              "        var display = window.getComputedStyle(gd).display;\n",
              "        if (!display || display === 'none') {{\n",
              "            console.log([gd, 'removed!']);\n",
              "            Plotly.purge(gd);\n",
              "            observer.disconnect();\n",
              "        }}\n",
              "}});\n",
              "\n",
              "// Listen for the removal of the full notebook cells\n",
              "var notebookContainer = gd.closest('#notebook-container');\n",
              "if (notebookContainer) {{\n",
              "    x.observe(notebookContainer, {childList: true});\n",
              "}}\n",
              "\n",
              "// Listen for the clearing of the current output cell\n",
              "var outputEl = gd.closest('.output');\n",
              "if (outputEl) {{\n",
              "    x.observe(outputEl, {childList: true});\n",
              "}}\n",
              "\n",
              "                        })                };                            </script>        </div>\n",
              "</body>\n",
              "</html>"
            ]
          },
          "metadata": {}
        }
      ],
      "source": [
        "ig = go.Figure()\n",
        "\n",
        "fig.add_trace(go.Funnel(name = '246',\n",
        "                        y = funnel_group.query('group == 246')['event_name'],\n",
        "                        x = funnel_group.query('group == 246')['total_users'],\n",
        "                        opacity = 0.6,\n",
        "                        textposition = 'inside',\n",
        "                        textinfo = 'value + percent previous'))\n",
        "\n",
        "fig.add_trace(go.Funnel(name = '247',\n",
        "                        y = funnel_group.query('group == 247')['event_name'],\n",
        "                        x = funnel_group.query('group == 247')['total_users'],\n",
        "                        opacity = 0.6,\n",
        "                        textposition = 'inside',\n",
        "                        textinfo = 'value + percent previous'))\n",
        "\n",
        "\n",
        "fig.add_trace(go.Funnel(name = '248',\n",
        "                        y = funnel_group.query('group == 248')['event_name'],\n",
        "                        x = funnel_group.query('group == 248')['total_users'],\n",
        "                        opacity = 0.6,\n",
        "                        textposition = 'inside',\n",
        "                        textinfo = 'value + percent previous'))\n",
        "                        \n",
        "fig.update_layout(title_text='Воронка событий в разрезе тестовых групп')\n",
        "fig.show()"
      ]
    },
    {
      "cell_type": "markdown",
      "metadata": {
        "id": "ZLRoRo6HhZAI"
      },
      "source": [
        "В А/В-тестировании мы проводим проверку гипотезы о равенстве выборок, но перед этим мы сначала проводим А/А-тест, чтобы узнать, обнаруживают ли статистические критерии разницу между выборками 246 и 247. В этом случае мы используем Z-критерий, который является статистическим тестом для определения, различаются ли средние значения двух генеральных совокупностей, при условии, что дисперсии известны и размер выборки достаточно большой. Напишем функцию"
      ]
    },
    {
      "cell_type": "code",
      "execution_count": 32,
      "metadata": {
        "id": "3NbM5dwmhZAI"
      },
      "outputs": [],
      "source": [
        "def z_test(df1, df2, event, alpha, n):\n",
        "      \n",
        "    # критический уровень статистической значимости c поправкой Бонферрони\n",
        "    bonferroni_alpha = alpha / n\n",
        " \n",
        "    # число пользователей в группе 1 и группе 2:\n",
        "    n_users = np.array([df1['user_id'].nunique(), \n",
        "                        df2['user_id'].nunique()])\n",
        "\n",
        "    # число пользователей, совершивших событие в группе 1 и группе 2\n",
        "    success = np.array([df1[df1['event_name'] == event]['user_id'].nunique(), \n",
        "                        df2[df2['event_name'] == event]['user_id'].nunique()])\n",
        "\n",
        "    # пропорции успехов в группах:\n",
        "    p1 = success[0]/n_users[0]\n",
        "    p2 = success[1]/n_users[1]\n",
        "    \n",
        "    # пропорция успехов в комбинированном датасете:\n",
        "    p_combined = (success[0] + success[1]) / (n_users[0] + n_users[1])\n",
        "\n",
        "    # разница пропорций в датасетах\n",
        "    difference = p1 - p2 \n",
        "\n",
        "    # считаем статистику в ст.отклонениях стандартного нормального распределения\n",
        "    z_value = difference /  np.sqrt(p_combined * (1 - p_combined) * (1/n_users[0] + 1/n_users[1]))\n",
        "\n",
        "    # задаем стандартное нормальное распределение (среднее 0, ст.отклонение 1)\n",
        "    distr = st.norm(0, 1)  \n",
        "\n",
        "    p_value = (1 - distr.cdf(abs(z_value))) * 2   #тест двусторонний, удваиваем результат\n",
        "    \n",
        "    print('Событие:', event)\n",
        "    print('p-значение: ', p_value)\n",
        "\n",
        "    if p_value < bonferroni_alpha:\n",
        "        print('Отвергаем нулевую гипотезу: между долями есть разница')\n",
        "    else:\n",
        "        print(\n",
        "        'Не получилось отвергнуть нулевую гипотезу, нет оснований считать доли разными')"
      ]
    },
    {
      "cell_type": "markdown",
      "metadata": {
        "id": "BGTWJMNUhZAI"
      },
      "source": [
        "Мы должны сравнить доли для каждого события между следующими группами:\n",
        "<div>\n",
        "\n",
        "* Контрольные группы 246 и 247.;\n",
        "\n",
        "* Каждая контрольная группа отдельно с экспериментальной группой (246-248 и 247-248).;\n",
        "\n",
        "* Объединенная контрольная группа с экспериментальной группой (246+247 и 248).\n",
        "    \n",
        "</div>\n",
        "\n",
        "У нас есть 4 вида событий, 4 A/A-теста и 12 A/B-тестов. Для обеспечения защиты от ложных результатов во всех тестах мы применяем поправку Бонферрони, где <code>bonferroni_alpha = alpha / 16</code>\n",
        "\n",
        "Теперь сформулируем основные и альтернативные гипотезы для каждого попарного сравнения."
      ]
    },
    {
      "cell_type": "markdown",
      "metadata": {
        "id": "_9cRm4I1hZAJ"
      },
      "source": [
        "Сформулируем гипотезы:<br>\n",
        "<b>H0: Доли уникальных посетителей на определенном этапе воронки одинаковы</b><br>\n",
        "<b>Н1: Доли уникальных посетителей на определенном этапе воронки разные</b>"
      ]
    },
    {
      "cell_type": "code",
      "execution_count": 33,
      "metadata": {
        "colab": {
          "base_uri": "https://localhost:8080/"
        },
        "id": "lcbBIhWNhZAJ",
        "outputId": "92c2a191-0ef7-4875-96f4-ad7d04928646"
      },
      "outputs": [
        {
          "output_type": "stream",
          "name": "stdout",
          "text": [
            "Событие: MainScreenAppear\n",
            "p-значение:  0.7570597232046099\n",
            "Не получилось отвергнуть нулевую гипотезу, нет оснований считать доли разными\n",
            "\n",
            "Событие: OffersScreenAppear\n",
            "p-значение:  0.2480954578522181\n",
            "Не получилось отвергнуть нулевую гипотезу, нет оснований считать доли разными\n",
            "\n",
            "Событие: CartScreenAppear\n",
            "p-значение:  0.22883372237997213\n",
            "Не получилось отвергнуть нулевую гипотезу, нет оснований считать доли разными\n",
            "\n",
            "Событие: PaymentScreenSuccessful\n",
            "p-значение:  0.11456679313141849\n",
            "Не получилось отвергнуть нулевую гипотезу, нет оснований считать доли разными\n",
            "\n"
          ]
        }
      ],
      "source": [
        "#Проверим, есть ли статистически значимая разница между контрольными группами 246 и 247:\n",
        "\n",
        "for event in funnel_group['event_name'].unique():\n",
        "    z_test(data_filtered[data_filtered['group'] == 246], data_filtered[data_filtered['group'] == 247], event,.01, 16)\n",
        "    print()"
      ]
    },
    {
      "cell_type": "markdown",
      "metadata": {
        "id": "CUNgE1GwhZAJ"
      },
      "source": [
        "Между группами 246 и 247 ни по одному событию нет статистически значимого отличия при заданном уровне alpha, а значит, приступаем к A/B-тестированию."
      ]
    },
    {
      "cell_type": "code",
      "execution_count": 34,
      "metadata": {
        "colab": {
          "base_uri": "https://localhost:8080/"
        },
        "id": "t39TOUMRhZAJ",
        "outputId": "bed87587-2fe5-439f-aa92-ab00eae7278c"
      },
      "outputs": [
        {
          "output_type": "stream",
          "name": "stdout",
          "text": [
            "Событие: MainScreenAppear\n",
            "p-значение:  0.2949721933554552\n",
            "Не получилось отвергнуть нулевую гипотезу, нет оснований считать доли разными\n",
            "\n",
            "Событие: OffersScreenAppear\n",
            "p-значение:  0.20836205402738917\n",
            "Не получилось отвергнуть нулевую гипотезу, нет оснований считать доли разными\n",
            "\n",
            "Событие: CartScreenAppear\n",
            "p-значение:  0.07842923237520116\n",
            "Не получилось отвергнуть нулевую гипотезу, нет оснований считать доли разными\n",
            "\n",
            "Событие: PaymentScreenSuccessful\n",
            "p-значение:  0.2122553275697796\n",
            "Не получилось отвергнуть нулевую гипотезу, нет оснований считать доли разными\n",
            "\n"
          ]
        }
      ],
      "source": [
        "#Проверим, есть ли статистически значимая разница между контрольными группами 246 и 248:\n",
        "\n",
        "for event in funnel_group['event_name'].unique():\n",
        "    z_test(data_filtered[data_filtered['group'] == 246], data_filtered[data_filtered['group'] == 248], event,.01, 16)\n",
        "    print()"
      ]
    },
    {
      "cell_type": "markdown",
      "metadata": {
        "id": "2C2G4d1uhZAK"
      },
      "source": [
        "При заданном уровне статистической значимости у нас нет оснований считать группы 246 и 248 разными."
      ]
    },
    {
      "cell_type": "code",
      "execution_count": 35,
      "metadata": {
        "colab": {
          "base_uri": "https://localhost:8080/"
        },
        "id": "SzrTsYQMhZAK",
        "outputId": "ae7558c4-1c55-4e48-d7a9-9ee24ed2e127"
      },
      "outputs": [
        {
          "output_type": "stream",
          "name": "stdout",
          "text": [
            "Событие: MainScreenAppear\n",
            "p-значение:  0.4587053616621515\n",
            "Не получилось отвергнуть нулевую гипотезу, нет оснований считать доли разными\n",
            "\n",
            "Событие: OffersScreenAppear\n",
            "p-значение:  0.9197817830592261\n",
            "Не получилось отвергнуть нулевую гипотезу, нет оснований считать доли разными\n",
            "\n",
            "Событие: CartScreenAppear\n",
            "p-значение:  0.5786197879539783\n",
            "Не получилось отвергнуть нулевую гипотезу, нет оснований считать доли разными\n",
            "\n",
            "Событие: PaymentScreenSuccessful\n",
            "p-значение:  0.7373415053803964\n",
            "Не получилось отвергнуть нулевую гипотезу, нет оснований считать доли разными\n",
            "\n"
          ]
        }
      ],
      "source": [
        "#Проверим, есть ли статистически значимая разница между контрольными группами 247 и 248:\n",
        "\n",
        "for event in funnel_group['event_name'].unique():\n",
        "    z_test(data_filtered[data_filtered['group'] == 247], data_filtered[data_filtered['group'] == 248], event,.01, 16)\n",
        "    print()"
      ]
    },
    {
      "cell_type": "markdown",
      "metadata": {
        "id": "P37-XxomhZAK"
      },
      "source": [
        "При заданном уровне статистической значимости у нас нет оснований считать группы 247 и 248 разными."
      ]
    },
    {
      "cell_type": "code",
      "execution_count": 36,
      "metadata": {
        "colab": {
          "base_uri": "https://localhost:8080/"
        },
        "id": "dCta2mEphZAK",
        "outputId": "2ddcf44c-815b-466d-836f-580d2b552122"
      },
      "outputs": [
        {
          "output_type": "stream",
          "name": "stdout",
          "text": [
            "Событие: MainScreenAppear\n",
            "p-значение:  0.29424526837179577\n",
            "Не получилось отвергнуть нулевую гипотезу, нет оснований считать доли разными\n",
            "\n",
            "Событие: OffersScreenAppear\n",
            "p-значение:  0.43425549655188256\n",
            "Не получилось отвергнуть нулевую гипотезу, нет оснований считать доли разными\n",
            "\n",
            "Событие: CartScreenAppear\n",
            "p-значение:  0.18175875284404386\n",
            "Не получилось отвергнуть нулевую гипотезу, нет оснований считать доли разными\n",
            "\n",
            "Событие: PaymentScreenSuccessful\n",
            "p-значение:  0.6004294282308704\n",
            "Не получилось отвергнуть нулевую гипотезу, нет оснований считать доли разными\n",
            "\n"
          ]
        }
      ],
      "source": [
        "# проверим есть ли статистически значимая разница между объединённой контрольной и экпериментальной 248 группами:\n",
        "\n",
        "for event in funnel_group['event_name'].unique():\n",
        "    z_test(data_filtered[data_filtered['group'] != 248], data_filtered[data_filtered['group'] == 248], event,.01, 16)\n",
        "    print()"
      ]
    },
    {
      "cell_type": "markdown",
      "metadata": {
        "id": "YQ9q8w06hZAK"
      },
      "source": [
        "Получаем такой же результат. Значит, можно сделать вывод о том, что изменение шрифтов в приложении на поведение пользователей не повлияло."
      ]
    },
    {
      "cell_type": "markdown",
      "metadata": {
        "id": "3lVtRamZhZAL"
      },
      "source": [
        "### Часть 4. Вывод"
      ]
    },
    {
      "cell_type": "markdown",
      "metadata": {
        "id": "_lPC_5N8hZAL"
      },
      "source": [
        "В ходе исследования было проанализировано поведение 7419 пользователей мобильного приложения на основе пользовательских логов и результатов A/A/B-теста. После предобработки данных были изучены следующие показатели:\n",
        "<div>\n",
        "\n",
        "* Главную страницу увидели 7419 пользователей (100% от общего числа пользователей);\n",
        "\n",
        "* Страницу товара просмотрели 4593 пользователей (62% от общего числа);\n",
        "\n",
        "* Карточку просмотрели 3734 пользователя (50,3% от общего числа).\n",
        "    \n",
        "* Завершили оплату 3539 пользователей (47,7% от общего числа).    \n",
        "    \n",
        "</div>\n",
        "\n",
        "Событие \"Tutorial\" было исключено из анализа, так как его прохождение необязательно и не влияет на последующие шаги.\n",
        "\n",
        "Большинство пользователей (38%) отсеивалось после первого шага, примерно 9% после следующего шага, и около 2% после перехода на последний шаг. В итоге, примерно 48% пользователей завершили процесс и совершили покупку.\n",
        "\n",
        "Затем были проанализированы результаты A/A/B-эксперимента, в котором осуществлялось изменение шрифта во всем приложении. Для этого были использованы логи событий за неделю с 1 августа 2019 года по 7 августа 2019 года.\n",
        "\n",
        "В эксперименте участвовали три группы пользователей:\n",
        "<div>\n",
        "\n",
        "* Группа 246: 2484 пользователя;\n",
        "\n",
        "* Группа 247: 2513 пользователя;\n",
        "\n",
        "* Группа 248: 2537 пользователя.\n",
        "     \n",
        "</div>\n",
        "\n",
        "В соответствии с предложенным процессом, необходимо было сравнить доли пользователей для каждого события между:\n",
        "<div>\n",
        "\n",
        "* Контрольными группами 246 и 247;\n",
        "\n",
        "* Каждой из контрольных групп отдельно с экспериментальной группой (246-248 и 247-248);\n",
        "\n",
        "* Объединенной контрольной группой и экспериментальной группой (246+247 и 248).\n",
        "     \n",
        "</div>\n",
        "\n",
        "В результате проведенных множественных A/B-тестов для каждого события не было обнаружено статистически значимых различий между группами. Это означает, что изменение шрифтов во всем приложении не оказало влияния на поведение пользователей."
      ]
    }
  ],
  "metadata": {
    "ExecuteTimeLog": [
      {
        "duration": 1292,
        "start_time": "2023-05-08T14:05:42.656Z"
      },
      {
        "duration": 780,
        "start_time": "2023-05-08T14:06:17.753Z"
      },
      {
        "duration": 345,
        "start_time": "2023-05-08T14:06:47.720Z"
      },
      {
        "duration": 23,
        "start_time": "2023-05-08T14:06:54.289Z"
      },
      {
        "duration": 11,
        "start_time": "2023-05-08T14:07:18.060Z"
      },
      {
        "duration": 338,
        "start_time": "2023-05-08T14:07:43.801Z"
      },
      {
        "duration": 29,
        "start_time": "2023-05-08T14:07:46.106Z"
      },
      {
        "duration": 7,
        "start_time": "2023-05-08T14:07:48.183Z"
      },
      {
        "duration": 677,
        "start_time": "2023-05-08T14:08:11.881Z"
      },
      {
        "duration": 23,
        "start_time": "2023-05-08T14:08:14.354Z"
      },
      {
        "duration": 8,
        "start_time": "2023-05-08T14:08:16.610Z"
      },
      {
        "duration": 167,
        "start_time": "2023-05-08T14:08:28.090Z"
      },
      {
        "duration": 25,
        "start_time": "2023-05-08T14:08:29.822Z"
      },
      {
        "duration": 9,
        "start_time": "2023-05-08T14:08:38.962Z"
      },
      {
        "duration": 56,
        "start_time": "2023-05-08T14:12:53.512Z"
      },
      {
        "duration": 132,
        "start_time": "2023-05-08T14:13:16.580Z"
      },
      {
        "duration": 117,
        "start_time": "2023-05-08T14:13:42.941Z"
      },
      {
        "duration": 25,
        "start_time": "2023-05-08T14:14:28.182Z"
      },
      {
        "duration": 28,
        "start_time": "2023-05-08T14:15:02.086Z"
      },
      {
        "duration": 30,
        "start_time": "2023-05-08T14:15:15.782Z"
      },
      {
        "duration": 8,
        "start_time": "2023-05-08T14:15:28.670Z"
      },
      {
        "duration": 31,
        "start_time": "2023-05-08T14:16:07.598Z"
      },
      {
        "duration": 19,
        "start_time": "2023-05-08T14:16:24.311Z"
      },
      {
        "duration": 6,
        "start_time": "2023-05-08T14:16:29.439Z"
      },
      {
        "duration": 99,
        "start_time": "2023-05-08T14:16:58.255Z"
      },
      {
        "duration": 5,
        "start_time": "2023-05-08T14:17:02.135Z"
      },
      {
        "duration": 10,
        "start_time": "2023-05-08T14:23:46.492Z"
      },
      {
        "duration": 4,
        "start_time": "2023-05-08T14:23:50.987Z"
      },
      {
        "duration": 5,
        "start_time": "2023-05-08T14:23:57.811Z"
      },
      {
        "duration": 8,
        "start_time": "2023-05-08T14:24:23.222Z"
      },
      {
        "duration": 5,
        "start_time": "2023-05-08T14:24:29.878Z"
      },
      {
        "duration": 33,
        "start_time": "2023-05-08T14:25:45.564Z"
      },
      {
        "duration": 131,
        "start_time": "2023-05-08T14:26:43.180Z"
      },
      {
        "duration": 165,
        "start_time": "2023-05-08T14:27:56.202Z"
      },
      {
        "duration": 13,
        "start_time": "2023-05-08T14:28:02.494Z"
      },
      {
        "duration": 12,
        "start_time": "2023-05-08T14:28:24.997Z"
      },
      {
        "duration": 11,
        "start_time": "2023-05-08T14:28:26.811Z"
      },
      {
        "duration": 11,
        "start_time": "2023-05-08T14:28:44.100Z"
      },
      {
        "duration": 1139,
        "start_time": "2023-05-08T14:28:54.881Z"
      },
      {
        "duration": 257,
        "start_time": "2023-05-08T14:28:56.024Z"
      },
      {
        "duration": 7,
        "start_time": "2023-05-08T14:28:56.283Z"
      },
      {
        "duration": 25,
        "start_time": "2023-05-08T14:28:56.291Z"
      },
      {
        "duration": 28,
        "start_time": "2023-05-08T14:28:56.318Z"
      },
      {
        "duration": 20,
        "start_time": "2023-05-08T14:28:56.347Z"
      },
      {
        "duration": 10,
        "start_time": "2023-05-08T14:28:56.369Z"
      },
      {
        "duration": 174,
        "start_time": "2023-05-08T14:28:56.380Z"
      },
      {
        "duration": 17,
        "start_time": "2023-05-08T14:28:56.556Z"
      },
      {
        "duration": 23,
        "start_time": "2023-05-08T14:28:56.575Z"
      },
      {
        "duration": 29,
        "start_time": "2023-05-08T14:28:56.600Z"
      },
      {
        "duration": 125,
        "start_time": "2023-05-08T14:28:56.630Z"
      },
      {
        "duration": 176,
        "start_time": "2023-05-08T14:28:56.757Z"
      },
      {
        "duration": 13,
        "start_time": "2023-05-08T14:28:56.936Z"
      },
      {
        "duration": 23,
        "start_time": "2023-05-08T14:31:16.710Z"
      },
      {
        "duration": 10,
        "start_time": "2023-05-08T14:31:22.230Z"
      },
      {
        "duration": 98,
        "start_time": "2023-05-08T14:35:40.913Z"
      },
      {
        "duration": 83,
        "start_time": "2023-05-08T14:35:47.457Z"
      },
      {
        "duration": 56,
        "start_time": "2023-05-08T14:35:53.178Z"
      },
      {
        "duration": 53,
        "start_time": "2023-05-08T14:36:17.205Z"
      },
      {
        "duration": 44,
        "start_time": "2023-05-08T14:36:31.746Z"
      },
      {
        "duration": 28,
        "start_time": "2023-05-08T14:40:08.531Z"
      },
      {
        "duration": 9,
        "start_time": "2023-05-08T14:40:20.451Z"
      },
      {
        "duration": 9,
        "start_time": "2023-05-08T14:41:11.069Z"
      },
      {
        "duration": 42,
        "start_time": "2023-05-08T14:45:25.110Z"
      },
      {
        "duration": 119,
        "start_time": "2023-05-08T14:46:01.478Z"
      },
      {
        "duration": 38,
        "start_time": "2023-05-08T14:46:30.581Z"
      },
      {
        "duration": 43,
        "start_time": "2023-05-08T14:46:39.638Z"
      },
      {
        "duration": 38,
        "start_time": "2023-05-08T14:46:51.174Z"
      },
      {
        "duration": 38,
        "start_time": "2023-05-08T14:50:59.167Z"
      },
      {
        "duration": 1154,
        "start_time": "2023-05-09T10:36:28.860Z"
      },
      {
        "duration": 554,
        "start_time": "2023-05-09T10:36:30.016Z"
      },
      {
        "duration": 4,
        "start_time": "2023-05-09T10:36:30.572Z"
      },
      {
        "duration": 131,
        "start_time": "2023-05-09T10:36:30.579Z"
      },
      {
        "duration": 69,
        "start_time": "2023-05-09T10:36:30.712Z"
      },
      {
        "duration": 82,
        "start_time": "2023-05-09T10:36:30.783Z"
      },
      {
        "duration": 37,
        "start_time": "2023-05-09T10:36:30.867Z"
      },
      {
        "duration": 128,
        "start_time": "2023-05-09T10:36:30.905Z"
      },
      {
        "duration": 13,
        "start_time": "2023-05-09T10:36:31.035Z"
      },
      {
        "duration": 44,
        "start_time": "2023-05-09T10:36:31.051Z"
      },
      {
        "duration": 36,
        "start_time": "2023-05-09T10:36:31.097Z"
      },
      {
        "duration": 102,
        "start_time": "2023-05-09T10:36:31.134Z"
      },
      {
        "duration": 182,
        "start_time": "2023-05-09T10:36:31.238Z"
      },
      {
        "duration": 15,
        "start_time": "2023-05-09T10:36:31.422Z"
      },
      {
        "duration": 20,
        "start_time": "2023-05-09T10:36:31.438Z"
      },
      {
        "duration": 57,
        "start_time": "2023-05-09T10:36:31.459Z"
      },
      {
        "duration": 32,
        "start_time": "2023-05-09T10:36:31.518Z"
      },
      {
        "duration": 15,
        "start_time": "2023-05-09T10:36:31.552Z"
      },
      {
        "duration": 37,
        "start_time": "2023-05-09T10:36:31.568Z"
      },
      {
        "duration": 34,
        "start_time": "2023-05-09T10:42:04.237Z"
      },
      {
        "duration": 31,
        "start_time": "2023-05-09T10:43:37.824Z"
      },
      {
        "duration": 513,
        "start_time": "2023-05-09T10:46:59.838Z"
      },
      {
        "duration": 491,
        "start_time": "2023-05-09T10:47:57.746Z"
      },
      {
        "duration": 529,
        "start_time": "2023-05-09T10:48:12.583Z"
      },
      {
        "duration": 215,
        "start_time": "2023-05-09T10:48:32.306Z"
      },
      {
        "duration": 91,
        "start_time": "2023-05-09T10:48:56.850Z"
      },
      {
        "duration": 159,
        "start_time": "2023-05-09T10:49:43.427Z"
      },
      {
        "duration": 173,
        "start_time": "2023-05-09T10:50:29.915Z"
      },
      {
        "duration": 185,
        "start_time": "2023-05-09T11:03:23.753Z"
      },
      {
        "duration": 185,
        "start_time": "2023-05-09T11:03:29.515Z"
      },
      {
        "duration": 255,
        "start_time": "2023-05-09T11:03:48.451Z"
      },
      {
        "duration": 169,
        "start_time": "2023-05-09T11:04:10.363Z"
      },
      {
        "duration": 195,
        "start_time": "2023-05-09T11:06:55.597Z"
      },
      {
        "duration": 172,
        "start_time": "2023-05-09T11:07:05.029Z"
      },
      {
        "duration": 11,
        "start_time": "2023-05-09T11:09:34.070Z"
      },
      {
        "duration": 3,
        "start_time": "2023-05-09T11:10:03.362Z"
      },
      {
        "duration": 5,
        "start_time": "2023-05-09T11:10:19.446Z"
      },
      {
        "duration": 6,
        "start_time": "2023-05-09T11:11:44.583Z"
      },
      {
        "duration": 8,
        "start_time": "2023-05-09T11:12:01.999Z"
      },
      {
        "duration": 6,
        "start_time": "2023-05-09T11:12:27.344Z"
      },
      {
        "duration": 5,
        "start_time": "2023-05-09T11:13:49.161Z"
      },
      {
        "duration": 5,
        "start_time": "2023-05-09T11:13:50.128Z"
      },
      {
        "duration": 6,
        "start_time": "2023-05-09T11:13:50.648Z"
      },
      {
        "duration": 6,
        "start_time": "2023-05-09T11:13:51.040Z"
      },
      {
        "duration": 7,
        "start_time": "2023-05-09T11:13:51.352Z"
      },
      {
        "duration": 20,
        "start_time": "2023-05-09T11:16:50.226Z"
      },
      {
        "duration": 6,
        "start_time": "2023-05-09T11:16:55.539Z"
      },
      {
        "duration": 7,
        "start_time": "2023-05-09T11:17:20.866Z"
      },
      {
        "duration": 5,
        "start_time": "2023-05-09T11:18:13.035Z"
      },
      {
        "duration": 6,
        "start_time": "2023-05-09T11:18:47.379Z"
      },
      {
        "duration": 84,
        "start_time": "2023-05-09T11:19:20.083Z"
      },
      {
        "duration": 6,
        "start_time": "2023-05-09T11:19:36.324Z"
      },
      {
        "duration": 49,
        "start_time": "2023-05-09T11:21:15.364Z"
      },
      {
        "duration": 7,
        "start_time": "2023-05-09T11:21:55.164Z"
      },
      {
        "duration": 77,
        "start_time": "2023-05-09T11:22:14.796Z"
      },
      {
        "duration": 4,
        "start_time": "2023-05-09T11:22:18.565Z"
      },
      {
        "duration": 4,
        "start_time": "2023-05-09T11:22:26.364Z"
      },
      {
        "duration": 6,
        "start_time": "2023-05-09T11:22:33.269Z"
      },
      {
        "duration": 6,
        "start_time": "2023-05-09T11:22:57.325Z"
      },
      {
        "duration": 9,
        "start_time": "2023-05-09T11:23:08.501Z"
      },
      {
        "duration": 16,
        "start_time": "2023-05-09T11:23:38.063Z"
      },
      {
        "duration": 23,
        "start_time": "2023-05-09T11:23:54.342Z"
      },
      {
        "duration": 19,
        "start_time": "2023-05-09T11:24:01.422Z"
      },
      {
        "duration": 4,
        "start_time": "2023-05-09T11:25:19.982Z"
      },
      {
        "duration": 106,
        "start_time": "2023-05-09T11:25:36.822Z"
      },
      {
        "duration": 22,
        "start_time": "2023-05-09T11:26:13.826Z"
      },
      {
        "duration": 40,
        "start_time": "2023-05-09T11:26:23.111Z"
      },
      {
        "duration": 26,
        "start_time": "2023-05-09T11:26:33.279Z"
      },
      {
        "duration": 9,
        "start_time": "2023-05-09T11:26:47.983Z"
      },
      {
        "duration": 25,
        "start_time": "2023-05-09T11:26:53.415Z"
      },
      {
        "duration": 4,
        "start_time": "2023-05-09T11:36:38.308Z"
      },
      {
        "duration": 4,
        "start_time": "2023-05-09T11:39:05.181Z"
      },
      {
        "duration": 5,
        "start_time": "2023-05-09T11:39:32.679Z"
      },
      {
        "duration": 5,
        "start_time": "2023-05-09T11:39:46.102Z"
      },
      {
        "duration": 11,
        "start_time": "2023-05-09T11:43:01.144Z"
      },
      {
        "duration": 34,
        "start_time": "2023-05-09T11:44:13.272Z"
      },
      {
        "duration": 7,
        "start_time": "2023-05-09T12:41:36.395Z"
      },
      {
        "duration": 4,
        "start_time": "2023-05-09T12:42:28.648Z"
      },
      {
        "duration": 4,
        "start_time": "2023-05-09T12:42:37.114Z"
      },
      {
        "duration": 23,
        "start_time": "2023-05-09T12:43:31.451Z"
      },
      {
        "duration": 27,
        "start_time": "2023-05-09T12:43:42.539Z"
      },
      {
        "duration": 28,
        "start_time": "2023-05-09T12:44:00.703Z"
      },
      {
        "duration": 34,
        "start_time": "2023-05-09T12:44:18.981Z"
      },
      {
        "duration": 33,
        "start_time": "2023-05-09T12:44:23.373Z"
      },
      {
        "duration": 28,
        "start_time": "2023-05-09T12:44:27.924Z"
      },
      {
        "duration": 36,
        "start_time": "2023-05-09T12:44:50.703Z"
      },
      {
        "duration": 62,
        "start_time": "2023-05-09T12:46:55.908Z"
      },
      {
        "duration": 1163,
        "start_time": "2023-05-09T12:52:45.432Z"
      },
      {
        "duration": 1122,
        "start_time": "2023-05-09T12:53:02.607Z"
      },
      {
        "duration": 1118,
        "start_time": "2023-05-09T12:53:18.018Z"
      },
      {
        "duration": 9,
        "start_time": "2023-05-09T12:53:42.450Z"
      },
      {
        "duration": 1159,
        "start_time": "2023-05-09T12:53:50.865Z"
      },
      {
        "duration": 24,
        "start_time": "2023-05-09T12:56:03.388Z"
      },
      {
        "duration": 37,
        "start_time": "2023-05-09T12:56:12.995Z"
      },
      {
        "duration": 17,
        "start_time": "2023-05-09T12:56:24.460Z"
      },
      {
        "duration": 17,
        "start_time": "2023-05-09T12:56:45.033Z"
      },
      {
        "duration": 1040,
        "start_time": "2023-05-09T12:57:14.311Z"
      },
      {
        "duration": 142,
        "start_time": "2023-05-09T12:57:15.353Z"
      },
      {
        "duration": 5,
        "start_time": "2023-05-09T12:57:15.497Z"
      },
      {
        "duration": 28,
        "start_time": "2023-05-09T12:57:15.504Z"
      },
      {
        "duration": 10,
        "start_time": "2023-05-09T12:57:15.535Z"
      },
      {
        "duration": 41,
        "start_time": "2023-05-09T12:57:15.547Z"
      },
      {
        "duration": 7,
        "start_time": "2023-05-09T12:57:15.589Z"
      },
      {
        "duration": 131,
        "start_time": "2023-05-09T12:57:15.597Z"
      },
      {
        "duration": 13,
        "start_time": "2023-05-09T12:57:15.730Z"
      },
      {
        "duration": 16,
        "start_time": "2023-05-09T12:57:15.745Z"
      },
      {
        "duration": 18,
        "start_time": "2023-05-09T12:57:15.763Z"
      },
      {
        "duration": 82,
        "start_time": "2023-05-09T12:57:15.783Z"
      },
      {
        "duration": 125,
        "start_time": "2023-05-09T12:57:15.872Z"
      },
      {
        "duration": 16,
        "start_time": "2023-05-09T12:57:15.999Z"
      },
      {
        "duration": 7,
        "start_time": "2023-05-09T12:57:16.017Z"
      },
      {
        "duration": 67,
        "start_time": "2023-05-09T12:57:16.026Z"
      },
      {
        "duration": 45,
        "start_time": "2023-05-09T12:57:16.095Z"
      },
      {
        "duration": 562,
        "start_time": "2023-05-09T12:57:16.142Z"
      },
      {
        "duration": 305,
        "start_time": "2023-05-09T12:57:16.705Z"
      },
      {
        "duration": 13,
        "start_time": "2023-05-09T12:57:17.012Z"
      },
      {
        "duration": 5,
        "start_time": "2023-05-09T12:57:17.026Z"
      },
      {
        "duration": 18,
        "start_time": "2023-05-09T12:57:17.033Z"
      },
      {
        "duration": 27,
        "start_time": "2023-05-09T12:57:17.052Z"
      },
      {
        "duration": 36,
        "start_time": "2023-05-09T12:57:17.080Z"
      },
      {
        "duration": 35,
        "start_time": "2023-05-09T12:57:17.118Z"
      },
      {
        "duration": 137,
        "start_time": "2023-05-09T12:57:17.154Z"
      },
      {
        "duration": 27,
        "start_time": "2023-05-09T12:59:18.342Z"
      },
      {
        "duration": 199,
        "start_time": "2023-05-09T12:59:25.838Z"
      },
      {
        "duration": 165,
        "start_time": "2023-05-09T13:00:08.615Z"
      },
      {
        "duration": 176,
        "start_time": "2023-05-09T13:00:14.818Z"
      },
      {
        "duration": 154,
        "start_time": "2023-05-09T13:01:35.456Z"
      },
      {
        "duration": 6,
        "start_time": "2023-05-09T13:32:17.420Z"
      },
      {
        "duration": 50,
        "start_time": "2023-05-09T13:33:32.569Z"
      },
      {
        "duration": 48,
        "start_time": "2023-05-09T13:33:46.340Z"
      },
      {
        "duration": 58,
        "start_time": "2023-05-09T13:34:20.829Z"
      },
      {
        "duration": 55,
        "start_time": "2023-05-09T13:34:35.252Z"
      },
      {
        "duration": 136,
        "start_time": "2023-05-09T13:35:41.216Z"
      },
      {
        "duration": 70,
        "start_time": "2023-05-09T13:35:56.515Z"
      },
      {
        "duration": 81,
        "start_time": "2023-05-09T13:36:15.461Z"
      },
      {
        "duration": 44,
        "start_time": "2023-05-09T13:37:03.669Z"
      },
      {
        "duration": 56,
        "start_time": "2023-05-09T13:37:37.358Z"
      },
      {
        "duration": 49,
        "start_time": "2023-05-09T13:37:44.542Z"
      },
      {
        "duration": 1442,
        "start_time": "2023-05-11T18:57:19.207Z"
      },
      {
        "duration": 714,
        "start_time": "2023-05-11T18:57:20.651Z"
      },
      {
        "duration": 5,
        "start_time": "2023-05-11T18:57:21.367Z"
      },
      {
        "duration": 31,
        "start_time": "2023-05-11T18:57:21.374Z"
      },
      {
        "duration": 11,
        "start_time": "2023-05-11T18:57:21.408Z"
      },
      {
        "duration": 42,
        "start_time": "2023-05-11T18:57:21.421Z"
      },
      {
        "duration": 27,
        "start_time": "2023-05-11T18:57:21.465Z"
      },
      {
        "duration": 158,
        "start_time": "2023-05-11T18:57:21.494Z"
      },
      {
        "duration": 25,
        "start_time": "2023-05-11T18:57:21.654Z"
      },
      {
        "duration": 6,
        "start_time": "2023-05-11T18:57:21.682Z"
      },
      {
        "duration": 20,
        "start_time": "2023-05-11T18:57:21.691Z"
      },
      {
        "duration": 131,
        "start_time": "2023-05-11T18:57:21.712Z"
      },
      {
        "duration": 170,
        "start_time": "2023-05-11T18:57:21.845Z"
      },
      {
        "duration": 19,
        "start_time": "2023-05-11T18:57:22.017Z"
      },
      {
        "duration": 28,
        "start_time": "2023-05-11T18:57:22.038Z"
      },
      {
        "duration": 73,
        "start_time": "2023-05-11T18:57:22.068Z"
      },
      {
        "duration": 35,
        "start_time": "2023-05-11T18:57:22.143Z"
      },
      {
        "duration": 673,
        "start_time": "2023-05-11T18:57:22.180Z"
      },
      {
        "duration": 373,
        "start_time": "2023-05-11T18:57:22.855Z"
      },
      {
        "duration": 11,
        "start_time": "2023-05-11T18:57:23.230Z"
      },
      {
        "duration": 5,
        "start_time": "2023-05-11T18:57:23.244Z"
      },
      {
        "duration": 36,
        "start_time": "2023-05-11T18:57:23.251Z"
      },
      {
        "duration": 14,
        "start_time": "2023-05-11T18:57:23.289Z"
      },
      {
        "duration": 40,
        "start_time": "2023-05-11T18:57:23.304Z"
      },
      {
        "duration": 48,
        "start_time": "2023-05-11T18:57:23.346Z"
      },
      {
        "duration": 225,
        "start_time": "2023-05-11T18:57:23.396Z"
      },
      {
        "duration": 78,
        "start_time": "2023-05-11T18:57:23.623Z"
      },
      {
        "duration": 65,
        "start_time": "2023-05-11T19:15:34.880Z"
      },
      {
        "duration": 63,
        "start_time": "2023-05-11T19:15:41.138Z"
      },
      {
        "duration": 72,
        "start_time": "2023-05-11T19:16:16.466Z"
      },
      {
        "duration": 58,
        "start_time": "2023-05-11T19:16:37.898Z"
      },
      {
        "duration": 63,
        "start_time": "2023-05-11T19:16:51.442Z"
      },
      {
        "duration": 62,
        "start_time": "2023-05-11T19:25:12.919Z"
      },
      {
        "duration": 66,
        "start_time": "2023-05-11T19:25:21.743Z"
      },
      {
        "duration": 850,
        "start_time": "2023-05-11T19:33:56.316Z"
      },
      {
        "duration": 11,
        "start_time": "2023-05-11T19:34:07.517Z"
      },
      {
        "duration": 11,
        "start_time": "2023-05-11T19:34:13.604Z"
      },
      {
        "duration": 93,
        "start_time": "2023-05-11T19:35:28.651Z"
      },
      {
        "duration": 93,
        "start_time": "2023-05-11T19:36:00.997Z"
      },
      {
        "duration": 500,
        "start_time": "2023-05-11T19:36:49.296Z"
      },
      {
        "duration": 59,
        "start_time": "2023-05-11T19:37:39.637Z"
      },
      {
        "duration": 5,
        "start_time": "2023-05-11T19:38:37.223Z"
      },
      {
        "duration": 17,
        "start_time": "2023-05-11T19:38:44.795Z"
      },
      {
        "duration": 756,
        "start_time": "2023-05-11T19:39:06.673Z"
      },
      {
        "duration": 20,
        "start_time": "2023-05-11T19:39:14.104Z"
      },
      {
        "duration": 17,
        "start_time": "2023-05-11T22:19:23.524Z"
      },
      {
        "duration": 43,
        "start_time": "2023-05-11T22:20:10.914Z"
      },
      {
        "duration": 38,
        "start_time": "2023-05-11T22:20:37.841Z"
      },
      {
        "duration": 16,
        "start_time": "2023-05-11T22:21:24.086Z"
      },
      {
        "duration": 14,
        "start_time": "2023-05-11T22:22:17.477Z"
      },
      {
        "duration": 15,
        "start_time": "2023-05-11T22:22:53.709Z"
      },
      {
        "duration": 62,
        "start_time": "2023-05-11T22:23:19.071Z"
      },
      {
        "duration": 4,
        "start_time": "2023-05-11T22:25:25.694Z"
      },
      {
        "duration": 6,
        "start_time": "2023-05-11T22:25:30.047Z"
      },
      {
        "duration": 64,
        "start_time": "2023-05-11T22:26:02.679Z"
      },
      {
        "duration": 58,
        "start_time": "2023-05-11T22:26:20.438Z"
      },
      {
        "duration": 25,
        "start_time": "2023-05-11T22:27:18.689Z"
      },
      {
        "duration": 66,
        "start_time": "2023-05-11T22:27:30.367Z"
      },
      {
        "duration": 77,
        "start_time": "2023-05-11T22:28:00.039Z"
      },
      {
        "duration": 101,
        "start_time": "2023-05-11T22:28:11.540Z"
      },
      {
        "duration": 78,
        "start_time": "2023-05-11T22:28:52.143Z"
      },
      {
        "duration": 92,
        "start_time": "2023-05-11T22:29:17.370Z"
      },
      {
        "duration": 59,
        "start_time": "2023-05-11T22:29:47.864Z"
      },
      {
        "duration": 101,
        "start_time": "2023-05-11T22:30:16.271Z"
      },
      {
        "duration": 54,
        "start_time": "2023-05-11T22:31:03.008Z"
      },
      {
        "duration": 80,
        "start_time": "2023-05-11T22:31:08.341Z"
      },
      {
        "duration": 87,
        "start_time": "2023-05-11T22:31:59.484Z"
      },
      {
        "duration": 89,
        "start_time": "2023-05-11T22:32:50.106Z"
      },
      {
        "duration": 66,
        "start_time": "2023-05-11T22:33:19.253Z"
      },
      {
        "duration": 91,
        "start_time": "2023-05-11T22:33:45.971Z"
      },
      {
        "duration": 51,
        "start_time": "2023-05-11T22:33:58.458Z"
      },
      {
        "duration": 58,
        "start_time": "2023-05-11T22:34:23.954Z"
      },
      {
        "duration": 58,
        "start_time": "2023-05-11T22:34:36.348Z"
      },
      {
        "duration": 18,
        "start_time": "2023-05-11T22:35:13.052Z"
      },
      {
        "duration": 873,
        "start_time": "2023-05-11T22:35:20.778Z"
      },
      {
        "duration": 68,
        "start_time": "2023-05-11T22:35:24.658Z"
      },
      {
        "duration": 11,
        "start_time": "2023-05-11T22:36:25.847Z"
      },
      {
        "duration": 37,
        "start_time": "2023-05-11T22:36:43.574Z"
      },
      {
        "duration": 29,
        "start_time": "2023-05-11T22:37:05.902Z"
      },
      {
        "duration": 5,
        "start_time": "2023-05-11T22:49:25.162Z"
      },
      {
        "duration": 853,
        "start_time": "2023-05-11T22:56:31.614Z"
      },
      {
        "duration": 941,
        "start_time": "2023-05-11T22:56:45.207Z"
      },
      {
        "duration": 1013,
        "start_time": "2023-05-11T22:57:14.607Z"
      },
      {
        "duration": 6,
        "start_time": "2023-05-11T22:57:41.055Z"
      },
      {
        "duration": 53,
        "start_time": "2023-05-11T22:57:42.950Z"
      },
      {
        "duration": 13,
        "start_time": "2023-05-11T22:57:59.878Z"
      },
      {
        "duration": 124,
        "start_time": "2023-05-11T22:58:06.423Z"
      },
      {
        "duration": 142,
        "start_time": "2023-05-11T22:58:15.559Z"
      },
      {
        "duration": 116,
        "start_time": "2023-05-11T23:01:13.082Z"
      },
      {
        "duration": 108,
        "start_time": "2023-05-11T23:01:24.714Z"
      },
      {
        "duration": 149,
        "start_time": "2023-05-11T23:02:20.539Z"
      },
      {
        "duration": 170,
        "start_time": "2023-05-11T23:03:21.674Z"
      },
      {
        "duration": 1172,
        "start_time": "2023-05-11T23:39:57.444Z"
      },
      {
        "duration": 702,
        "start_time": "2023-05-11T23:39:58.618Z"
      },
      {
        "duration": 5,
        "start_time": "2023-05-11T23:39:59.322Z"
      },
      {
        "duration": 25,
        "start_time": "2023-05-11T23:39:59.329Z"
      },
      {
        "duration": 10,
        "start_time": "2023-05-11T23:39:59.355Z"
      },
      {
        "duration": 35,
        "start_time": "2023-05-11T23:39:59.367Z"
      },
      {
        "duration": 7,
        "start_time": "2023-05-11T23:39:59.404Z"
      },
      {
        "duration": 177,
        "start_time": "2023-05-11T23:39:59.413Z"
      },
      {
        "duration": 16,
        "start_time": "2023-05-11T23:39:59.591Z"
      },
      {
        "duration": 6,
        "start_time": "2023-05-11T23:39:59.610Z"
      },
      {
        "duration": 11,
        "start_time": "2023-05-11T23:39:59.618Z"
      },
      {
        "duration": 115,
        "start_time": "2023-05-11T23:39:59.631Z"
      },
      {
        "duration": 157,
        "start_time": "2023-05-11T23:39:59.748Z"
      },
      {
        "duration": 18,
        "start_time": "2023-05-11T23:39:59.907Z"
      },
      {
        "duration": 9,
        "start_time": "2023-05-11T23:39:59.927Z"
      },
      {
        "duration": 68,
        "start_time": "2023-05-11T23:39:59.938Z"
      },
      {
        "duration": 35,
        "start_time": "2023-05-11T23:40:00.008Z"
      },
      {
        "duration": 683,
        "start_time": "2023-05-11T23:40:00.045Z"
      },
      {
        "duration": 751,
        "start_time": "2023-05-11T23:40:00.730Z"
      },
      {
        "duration": 15,
        "start_time": "2023-05-11T23:40:01.482Z"
      },
      {
        "duration": 26,
        "start_time": "2023-05-11T23:40:01.499Z"
      },
      {
        "duration": 72,
        "start_time": "2023-05-11T23:40:01.527Z"
      },
      {
        "duration": 13,
        "start_time": "2023-05-11T23:40:01.601Z"
      },
      {
        "duration": 95,
        "start_time": "2023-05-11T23:40:01.616Z"
      },
      {
        "duration": 81,
        "start_time": "2023-05-11T23:40:01.713Z"
      },
      {
        "duration": 411,
        "start_time": "2023-05-11T23:40:01.796Z"
      },
      {
        "duration": 114,
        "start_time": "2023-05-11T23:40:02.209Z"
      },
      {
        "duration": 371,
        "start_time": "2023-05-11T23:40:02.326Z"
      },
      {
        "duration": 107,
        "start_time": "2023-05-11T23:40:02.698Z"
      },
      {
        "duration": 192,
        "start_time": "2023-05-11T23:40:02.807Z"
      },
      {
        "duration": 21,
        "start_time": "2023-05-11T23:40:03.000Z"
      },
      {
        "duration": 61,
        "start_time": "2023-05-11T23:40:03.023Z"
      },
      {
        "duration": 218,
        "start_time": "2023-05-11T23:40:03.090Z"
      },
      {
        "duration": 282,
        "start_time": "2023-05-11T23:40:03.310Z"
      },
      {
        "duration": 209,
        "start_time": "2023-05-11T23:40:03.594Z"
      },
      {
        "duration": 376,
        "start_time": "2023-05-11T23:40:03.805Z"
      },
      {
        "duration": 1457,
        "start_time": "2023-05-12T00:24:33.465Z"
      },
      {
        "duration": 688,
        "start_time": "2023-05-12T00:24:34.924Z"
      },
      {
        "duration": 6,
        "start_time": "2023-05-12T00:24:35.614Z"
      },
      {
        "duration": 39,
        "start_time": "2023-05-12T00:24:35.622Z"
      },
      {
        "duration": 25,
        "start_time": "2023-05-12T00:24:35.662Z"
      },
      {
        "duration": 49,
        "start_time": "2023-05-12T00:24:35.695Z"
      },
      {
        "duration": 14,
        "start_time": "2023-05-12T00:24:35.746Z"
      },
      {
        "duration": 236,
        "start_time": "2023-05-12T00:24:35.762Z"
      },
      {
        "duration": 24,
        "start_time": "2023-05-12T00:24:36.001Z"
      },
      {
        "duration": 91,
        "start_time": "2023-05-12T00:24:36.029Z"
      },
      {
        "duration": 27,
        "start_time": "2023-05-12T00:24:36.122Z"
      },
      {
        "duration": 172,
        "start_time": "2023-05-12T00:24:36.152Z"
      },
      {
        "duration": 181,
        "start_time": "2023-05-12T00:24:36.326Z"
      },
      {
        "duration": 20,
        "start_time": "2023-05-12T00:24:36.510Z"
      },
      {
        "duration": 18,
        "start_time": "2023-05-12T00:24:36.532Z"
      },
      {
        "duration": 66,
        "start_time": "2023-05-12T00:24:36.551Z"
      },
      {
        "duration": 36,
        "start_time": "2023-05-12T00:24:36.618Z"
      },
      {
        "duration": 832,
        "start_time": "2023-05-12T00:24:36.670Z"
      },
      {
        "duration": 438,
        "start_time": "2023-05-12T00:24:37.512Z"
      },
      {
        "duration": 25,
        "start_time": "2023-05-12T00:24:37.952Z"
      },
      {
        "duration": 52,
        "start_time": "2023-05-12T00:24:37.978Z"
      },
      {
        "duration": 63,
        "start_time": "2023-05-12T00:24:38.033Z"
      },
      {
        "duration": 18,
        "start_time": "2023-05-12T00:24:38.101Z"
      },
      {
        "duration": 95,
        "start_time": "2023-05-12T00:24:38.121Z"
      },
      {
        "duration": 36,
        "start_time": "2023-05-12T00:24:38.219Z"
      },
      {
        "duration": 254,
        "start_time": "2023-05-12T00:24:38.258Z"
      },
      {
        "duration": 92,
        "start_time": "2023-05-12T00:24:38.516Z"
      },
      {
        "duration": 453,
        "start_time": "2023-05-12T00:24:38.612Z"
      },
      {
        "duration": 136,
        "start_time": "2023-05-12T00:24:39.067Z"
      },
      {
        "duration": 107,
        "start_time": "2023-05-12T00:24:39.211Z"
      },
      {
        "duration": 26,
        "start_time": "2023-05-12T00:24:39.320Z"
      },
      {
        "duration": 30,
        "start_time": "2023-05-12T00:24:39.348Z"
      },
      {
        "duration": 148,
        "start_time": "2023-05-12T00:24:39.386Z"
      },
      {
        "duration": 125,
        "start_time": "2023-05-12T00:24:39.536Z"
      },
      {
        "duration": 142,
        "start_time": "2023-05-12T00:24:39.663Z"
      },
      {
        "duration": 204,
        "start_time": "2023-05-12T00:24:39.810Z"
      },
      {
        "duration": 63,
        "start_time": "2023-05-12T10:04:43.549Z"
      },
      {
        "duration": 1250,
        "start_time": "2023-05-12T10:05:12.898Z"
      },
      {
        "duration": 528,
        "start_time": "2023-05-12T10:05:14.151Z"
      },
      {
        "duration": 7,
        "start_time": "2023-05-12T10:05:14.681Z"
      },
      {
        "duration": 38,
        "start_time": "2023-05-12T10:05:14.690Z"
      },
      {
        "duration": 10,
        "start_time": "2023-05-12T10:05:14.731Z"
      },
      {
        "duration": 31,
        "start_time": "2023-05-12T10:05:14.743Z"
      },
      {
        "duration": 11,
        "start_time": "2023-05-12T10:05:14.776Z"
      },
      {
        "duration": 123,
        "start_time": "2023-05-12T10:05:14.789Z"
      },
      {
        "duration": 14,
        "start_time": "2023-05-12T10:05:14.914Z"
      },
      {
        "duration": 6,
        "start_time": "2023-05-12T10:05:14.930Z"
      },
      {
        "duration": 17,
        "start_time": "2023-05-12T10:05:14.937Z"
      },
      {
        "duration": 109,
        "start_time": "2023-05-12T10:05:14.956Z"
      },
      {
        "duration": 143,
        "start_time": "2023-05-12T10:05:15.067Z"
      },
      {
        "duration": 18,
        "start_time": "2023-05-12T10:05:15.213Z"
      },
      {
        "duration": 8,
        "start_time": "2023-05-12T10:05:15.233Z"
      },
      {
        "duration": 58,
        "start_time": "2023-05-12T10:05:15.242Z"
      },
      {
        "duration": 33,
        "start_time": "2023-05-12T10:05:15.301Z"
      },
      {
        "duration": 628,
        "start_time": "2023-05-12T10:05:15.336Z"
      },
      {
        "duration": 324,
        "start_time": "2023-05-12T10:05:15.966Z"
      },
      {
        "duration": 10,
        "start_time": "2023-05-12T10:05:16.295Z"
      },
      {
        "duration": 15,
        "start_time": "2023-05-12T10:05:16.307Z"
      },
      {
        "duration": 20,
        "start_time": "2023-05-12T10:05:16.323Z"
      },
      {
        "duration": 10,
        "start_time": "2023-05-12T10:05:16.344Z"
      },
      {
        "duration": 48,
        "start_time": "2023-05-12T10:05:16.356Z"
      },
      {
        "duration": 32,
        "start_time": "2023-05-12T10:05:16.406Z"
      },
      {
        "duration": 210,
        "start_time": "2023-05-12T10:05:16.440Z"
      },
      {
        "duration": 68,
        "start_time": "2023-05-12T10:05:16.652Z"
      },
      {
        "duration": 167,
        "start_time": "2023-05-12T10:05:16.722Z"
      },
      {
        "duration": 48,
        "start_time": "2023-05-12T10:05:16.890Z"
      },
      {
        "duration": 171,
        "start_time": "2023-05-12T10:05:16.940Z"
      },
      {
        "duration": 21,
        "start_time": "2023-05-12T10:05:17.112Z"
      },
      {
        "duration": 5,
        "start_time": "2023-05-12T10:05:17.135Z"
      },
      {
        "duration": 153,
        "start_time": "2023-05-12T10:05:17.142Z"
      },
      {
        "duration": 98,
        "start_time": "2023-05-12T10:05:17.297Z"
      },
      {
        "duration": 88,
        "start_time": "2023-05-12T10:05:17.396Z"
      },
      {
        "duration": 152,
        "start_time": "2023-05-12T10:05:17.496Z"
      },
      {
        "duration": 1433,
        "start_time": "2023-05-12T11:39:24.684Z"
      },
      {
        "duration": 156,
        "start_time": "2023-05-12T11:39:26.122Z"
      },
      {
        "duration": 6,
        "start_time": "2023-05-12T11:39:26.280Z"
      },
      {
        "duration": 28,
        "start_time": "2023-05-12T11:39:26.289Z"
      },
      {
        "duration": 14,
        "start_time": "2023-05-12T11:39:26.319Z"
      },
      {
        "duration": 60,
        "start_time": "2023-05-12T11:39:26.335Z"
      },
      {
        "duration": 13,
        "start_time": "2023-05-12T11:39:26.397Z"
      },
      {
        "duration": 175,
        "start_time": "2023-05-12T11:39:26.412Z"
      },
      {
        "duration": 19,
        "start_time": "2023-05-12T11:39:26.591Z"
      },
      {
        "duration": 7,
        "start_time": "2023-05-12T11:39:26.614Z"
      },
      {
        "duration": 36,
        "start_time": "2023-05-12T11:39:26.623Z"
      },
      {
        "duration": 160,
        "start_time": "2023-05-12T11:39:26.662Z"
      },
      {
        "duration": 221,
        "start_time": "2023-05-12T11:39:26.825Z"
      },
      {
        "duration": 35,
        "start_time": "2023-05-12T11:39:27.049Z"
      },
      {
        "duration": 13,
        "start_time": "2023-05-12T11:39:27.086Z"
      },
      {
        "duration": 78,
        "start_time": "2023-05-12T11:39:27.102Z"
      },
      {
        "duration": 43,
        "start_time": "2023-05-12T11:39:27.182Z"
      },
      {
        "duration": 741,
        "start_time": "2023-05-12T11:39:27.228Z"
      },
      {
        "duration": 507,
        "start_time": "2023-05-12T11:39:27.972Z"
      },
      {
        "duration": 17,
        "start_time": "2023-05-12T11:39:28.482Z"
      },
      {
        "duration": 8,
        "start_time": "2023-05-12T11:39:28.502Z"
      },
      {
        "duration": 69,
        "start_time": "2023-05-12T11:39:28.513Z"
      },
      {
        "duration": 18,
        "start_time": "2023-05-12T11:39:28.585Z"
      },
      {
        "duration": 78,
        "start_time": "2023-05-12T11:39:28.606Z"
      },
      {
        "duration": 46,
        "start_time": "2023-05-12T11:39:28.688Z"
      },
      {
        "duration": 359,
        "start_time": "2023-05-12T11:39:28.736Z"
      },
      {
        "duration": 102,
        "start_time": "2023-05-12T11:39:29.098Z"
      },
      {
        "duration": 439,
        "start_time": "2023-05-12T11:39:29.205Z"
      },
      {
        "duration": 118,
        "start_time": "2023-05-12T11:39:29.646Z"
      },
      {
        "duration": 153,
        "start_time": "2023-05-12T11:39:29.768Z"
      },
      {
        "duration": 54,
        "start_time": "2023-05-12T11:39:29.924Z"
      },
      {
        "duration": 9,
        "start_time": "2023-05-12T11:39:29.981Z"
      },
      {
        "duration": 165,
        "start_time": "2023-05-12T11:39:29.997Z"
      },
      {
        "duration": 133,
        "start_time": "2023-05-12T11:39:30.165Z"
      },
      {
        "duration": 133,
        "start_time": "2023-05-12T11:39:30.300Z"
      },
      {
        "duration": 244,
        "start_time": "2023-05-12T11:39:30.435Z"
      }
    ],
    "kernelspec": {
      "display_name": "Python 3 (ipykernel)",
      "language": "python",
      "name": "python3"
    },
    "language_info": {
      "codemirror_mode": {
        "name": "ipython",
        "version": 3
      },
      "file_extension": ".py",
      "mimetype": "text/x-python",
      "name": "python",
      "nbconvert_exporter": "python",
      "pygments_lexer": "ipython3",
      "version": "3.9.5"
    },
    "toc": {
      "base_numbering": 1,
      "nav_menu": {
        "height": "54.1619px",
        "width": "160px"
      },
      "number_sections": true,
      "sideBar": true,
      "skip_h1_title": true,
      "title_cell": "Содержание",
      "title_sidebar": "Contents",
      "toc_cell": true,
      "toc_position": {
        "height": "calc(100% - 180px)",
        "left": "10px",
        "top": "150px",
        "width": "336.179px"
      },
      "toc_section_display": true,
      "toc_window_display": true
    },
    "colab": {
      "provenance": []
    }
  },
  "nbformat": 4,
  "nbformat_minor": 0
}